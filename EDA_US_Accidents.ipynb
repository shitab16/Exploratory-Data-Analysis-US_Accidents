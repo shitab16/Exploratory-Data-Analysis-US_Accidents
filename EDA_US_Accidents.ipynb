{
  "nbformat": 4,
  "nbformat_minor": 0,
  "metadata": {
    "colab": {
      "name": "EDA-US-Accidents.ipynb",
      "provenance": [],
      "collapsed_sections": [],
      "toc_visible": true
    },
    "kernelspec": {
      "name": "python3",
      "display_name": "Python 3"
    },
    "language_info": {
      "name": "python"
    }
  },
  "cells": [
    {
      "cell_type": "markdown",
      "source": [
        "# US Accident Exploratory Data Analysis"
      ],
      "metadata": {
        "id": "W8cofBZEBtRJ"
      }
    },
    {
      "cell_type": "code",
      "source": [
        "!pip install opendatasets --upgrade --quiet\n",
        "!pip install geopandas --quiet\n",
        "!pip install squarify --quiet"
      ],
      "metadata": {
        "id": "iTr7Ba0fuNxQ"
      },
      "execution_count": null,
      "outputs": []
    },
    {
      "cell_type": "code",
      "source": [
        "import opendatasets\n",
        "import pandas as pd\n",
        "import matplotlib\n",
        "import matplotlib.pyplot as plt\n",
        "import seaborn as sns\n",
        "import re\n",
        "import geopandas as gpd\n",
        "from shapely.geometry import Point\n",
        "import squarify"
      ],
      "metadata": {
        "id": "ioQHkhGf3WzO"
      },
      "execution_count": null,
      "outputs": []
    },
    {
      "cell_type": "markdown",
      "source": [
        "## Data Preparation and Cleaning"
      ],
      "metadata": {
        "id": "tgk_7PcGBtX4"
      }
    },
    {
      "cell_type": "markdown",
      "source": [
        "#### Download Data"
      ],
      "metadata": {
        "id": "d7EhJGbMibNf"
      }
    },
    {
      "cell_type": "code",
      "source": [
        "#adding data source url from kaggle\n",
        "source_url= \"https://www.kaggle.com/sobhanmoosavi/us-accidents\"\n",
        "\n",
        "#downloading dataset. user_id and API key is available at 'yourKaggleProfile'>AccountSetting>API>CreateNewAPItoken\n",
        "opendatasets.download(source_url)"
      ],
      "metadata": {
        "colab": {
          "base_uri": "https://localhost:8080/"
        },
        "id": "j9mCO_HMC_b8",
        "outputId": "62cb2dc8-875b-4570-d6f9-2bb3922611f6"
      },
      "execution_count": null,
      "outputs": [
        {
          "output_type": "stream",
          "name": "stdout",
          "text": [
            "Please provide your Kaggle credentials to download this dataset. Learn more: http://bit.ly/kaggle-creds\n",
            "Your Kaggle username: shitabtanzim\n",
            "Your Kaggle Key: ··········\n",
            "Downloading us-accidents.zip to ./us-accidents\n"
          ]
        },
        {
          "output_type": "stream",
          "name": "stderr",
          "text": [
            "100%|██████████| 117M/117M [00:00<00:00, 134MB/s]\n"
          ]
        },
        {
          "output_type": "stream",
          "name": "stdout",
          "text": [
            "\n"
          ]
        }
      ]
    },
    {
      "cell_type": "code",
      "source": [
        "#adding file path\n",
        "filename= \"./us-accidents/US_Accidents_Dec20_updated.csv\" "
      ],
      "metadata": {
        "id": "7oN56_WCC_Y0"
      },
      "execution_count": null,
      "outputs": []
    },
    {
      "cell_type": "code",
      "source": [
        "#importing data file as a pandas dataframe\n",
        "df= pd.read_csv(filename)"
      ],
      "metadata": {
        "id": "kBnGvZTA3TL8"
      },
      "execution_count": null,
      "outputs": []
    },
    {
      "cell_type": "markdown",
      "source": [
        "#### Basic informations about the data"
      ],
      "metadata": {
        "id": "0V4Etcwdo-nA"
      }
    },
    {
      "cell_type": "code",
      "source": [
        "df.head(3)"
      ],
      "metadata": {
        "colab": {
          "base_uri": "https://localhost:8080/"
        },
        "id": "bEBWHVqG0UDK",
        "outputId": "41f8a120-c845-41ed-908b-6cbfc6c48f02"
      },
      "execution_count": null,
      "outputs": [
        {
          "output_type": "execute_result",
          "data": {
            "text/html": [
              "\n",
              "  <div id=\"df-c7800871-0c72-4c05-9c5f-b8b2dd7d2569\">\n",
              "    <div class=\"colab-df-container\">\n",
              "      <div>\n",
              "<style scoped>\n",
              "    .dataframe tbody tr th:only-of-type {\n",
              "        vertical-align: middle;\n",
              "    }\n",
              "\n",
              "    .dataframe tbody tr th {\n",
              "        vertical-align: top;\n",
              "    }\n",
              "\n",
              "    .dataframe thead th {\n",
              "        text-align: right;\n",
              "    }\n",
              "</style>\n",
              "<table border=\"1\" class=\"dataframe\">\n",
              "  <thead>\n",
              "    <tr style=\"text-align: right;\">\n",
              "      <th></th>\n",
              "      <th>ID</th>\n",
              "      <th>Severity</th>\n",
              "      <th>Start_Time</th>\n",
              "      <th>End_Time</th>\n",
              "      <th>Start_Lat</th>\n",
              "      <th>Start_Lng</th>\n",
              "      <th>End_Lat</th>\n",
              "      <th>End_Lng</th>\n",
              "      <th>Distance(mi)</th>\n",
              "      <th>Description</th>\n",
              "      <th>Number</th>\n",
              "      <th>Street</th>\n",
              "      <th>Side</th>\n",
              "      <th>City</th>\n",
              "      <th>County</th>\n",
              "      <th>State</th>\n",
              "      <th>Zipcode</th>\n",
              "      <th>Country</th>\n",
              "      <th>Timezone</th>\n",
              "      <th>Airport_Code</th>\n",
              "      <th>Weather_Timestamp</th>\n",
              "      <th>Temperature(F)</th>\n",
              "      <th>Wind_Chill(F)</th>\n",
              "      <th>Humidity(%)</th>\n",
              "      <th>Pressure(in)</th>\n",
              "      <th>Visibility(mi)</th>\n",
              "      <th>Wind_Direction</th>\n",
              "      <th>Wind_Speed(mph)</th>\n",
              "      <th>Precipitation(in)</th>\n",
              "      <th>Weather_Condition</th>\n",
              "      <th>Amenity</th>\n",
              "      <th>Bump</th>\n",
              "      <th>Crossing</th>\n",
              "      <th>Give_Way</th>\n",
              "      <th>Junction</th>\n",
              "      <th>No_Exit</th>\n",
              "      <th>Railway</th>\n",
              "      <th>Roundabout</th>\n",
              "      <th>Station</th>\n",
              "      <th>Stop</th>\n",
              "      <th>Traffic_Calming</th>\n",
              "      <th>Traffic_Signal</th>\n",
              "      <th>Turning_Loop</th>\n",
              "      <th>Sunrise_Sunset</th>\n",
              "      <th>Civil_Twilight</th>\n",
              "      <th>Nautical_Twilight</th>\n",
              "      <th>Astronomical_Twilight</th>\n",
              "    </tr>\n",
              "  </thead>\n",
              "  <tbody>\n",
              "    <tr>\n",
              "      <th>0</th>\n",
              "      <td>A-2716600</td>\n",
              "      <td>3</td>\n",
              "      <td>2016-02-08 00:37:08</td>\n",
              "      <td>2016-02-08 06:37:08</td>\n",
              "      <td>40.10891</td>\n",
              "      <td>-83.09286</td>\n",
              "      <td>40.11206</td>\n",
              "      <td>-83.03187</td>\n",
              "      <td>3.230</td>\n",
              "      <td>Between Sawmill Rd/Exit 20 and OH-315/Olentang...</td>\n",
              "      <td>NaN</td>\n",
              "      <td>Outerbelt E</td>\n",
              "      <td>R</td>\n",
              "      <td>Dublin</td>\n",
              "      <td>Franklin</td>\n",
              "      <td>OH</td>\n",
              "      <td>43017</td>\n",
              "      <td>US</td>\n",
              "      <td>US/Eastern</td>\n",
              "      <td>KOSU</td>\n",
              "      <td>2016-02-08 00:53:00</td>\n",
              "      <td>42.1</td>\n",
              "      <td>36.1</td>\n",
              "      <td>58.0</td>\n",
              "      <td>29.76</td>\n",
              "      <td>10.0</td>\n",
              "      <td>SW</td>\n",
              "      <td>10.4</td>\n",
              "      <td>0.00</td>\n",
              "      <td>Light Rain</td>\n",
              "      <td>False</td>\n",
              "      <td>False</td>\n",
              "      <td>False</td>\n",
              "      <td>False</td>\n",
              "      <td>False</td>\n",
              "      <td>False</td>\n",
              "      <td>False</td>\n",
              "      <td>False</td>\n",
              "      <td>False</td>\n",
              "      <td>False</td>\n",
              "      <td>False</td>\n",
              "      <td>False</td>\n",
              "      <td>False</td>\n",
              "      <td>Night</td>\n",
              "      <td>Night</td>\n",
              "      <td>Night</td>\n",
              "      <td>Night</td>\n",
              "    </tr>\n",
              "    <tr>\n",
              "      <th>1</th>\n",
              "      <td>A-2716601</td>\n",
              "      <td>2</td>\n",
              "      <td>2016-02-08 05:56:20</td>\n",
              "      <td>2016-02-08 11:56:20</td>\n",
              "      <td>39.86542</td>\n",
              "      <td>-84.06280</td>\n",
              "      <td>39.86501</td>\n",
              "      <td>-84.04873</td>\n",
              "      <td>0.747</td>\n",
              "      <td>At OH-4/OH-235/Exit 41 - Accident.</td>\n",
              "      <td>NaN</td>\n",
              "      <td>I-70 E</td>\n",
              "      <td>R</td>\n",
              "      <td>Dayton</td>\n",
              "      <td>Montgomery</td>\n",
              "      <td>OH</td>\n",
              "      <td>45424</td>\n",
              "      <td>US</td>\n",
              "      <td>US/Eastern</td>\n",
              "      <td>KFFO</td>\n",
              "      <td>2016-02-08 05:58:00</td>\n",
              "      <td>36.9</td>\n",
              "      <td>NaN</td>\n",
              "      <td>91.0</td>\n",
              "      <td>29.68</td>\n",
              "      <td>10.0</td>\n",
              "      <td>Calm</td>\n",
              "      <td>NaN</td>\n",
              "      <td>0.02</td>\n",
              "      <td>Light Rain</td>\n",
              "      <td>False</td>\n",
              "      <td>False</td>\n",
              "      <td>False</td>\n",
              "      <td>False</td>\n",
              "      <td>False</td>\n",
              "      <td>False</td>\n",
              "      <td>False</td>\n",
              "      <td>False</td>\n",
              "      <td>False</td>\n",
              "      <td>False</td>\n",
              "      <td>False</td>\n",
              "      <td>False</td>\n",
              "      <td>False</td>\n",
              "      <td>Night</td>\n",
              "      <td>Night</td>\n",
              "      <td>Night</td>\n",
              "      <td>Night</td>\n",
              "    </tr>\n",
              "    <tr>\n",
              "      <th>2</th>\n",
              "      <td>A-2716602</td>\n",
              "      <td>2</td>\n",
              "      <td>2016-02-08 06:15:39</td>\n",
              "      <td>2016-02-08 12:15:39</td>\n",
              "      <td>39.10266</td>\n",
              "      <td>-84.52468</td>\n",
              "      <td>39.10209</td>\n",
              "      <td>-84.52396</td>\n",
              "      <td>0.055</td>\n",
              "      <td>At I-71/US-50/Exit 1 - Accident.</td>\n",
              "      <td>NaN</td>\n",
              "      <td>I-75 S</td>\n",
              "      <td>R</td>\n",
              "      <td>Cincinnati</td>\n",
              "      <td>Hamilton</td>\n",
              "      <td>OH</td>\n",
              "      <td>45203</td>\n",
              "      <td>US</td>\n",
              "      <td>US/Eastern</td>\n",
              "      <td>KLUK</td>\n",
              "      <td>2016-02-08 05:53:00</td>\n",
              "      <td>36.0</td>\n",
              "      <td>NaN</td>\n",
              "      <td>97.0</td>\n",
              "      <td>29.70</td>\n",
              "      <td>10.0</td>\n",
              "      <td>Calm</td>\n",
              "      <td>NaN</td>\n",
              "      <td>0.02</td>\n",
              "      <td>Overcast</td>\n",
              "      <td>False</td>\n",
              "      <td>False</td>\n",
              "      <td>False</td>\n",
              "      <td>False</td>\n",
              "      <td>True</td>\n",
              "      <td>False</td>\n",
              "      <td>False</td>\n",
              "      <td>False</td>\n",
              "      <td>False</td>\n",
              "      <td>False</td>\n",
              "      <td>False</td>\n",
              "      <td>False</td>\n",
              "      <td>False</td>\n",
              "      <td>Night</td>\n",
              "      <td>Night</td>\n",
              "      <td>Night</td>\n",
              "      <td>Day</td>\n",
              "    </tr>\n",
              "  </tbody>\n",
              "</table>\n",
              "</div>\n",
              "      <button class=\"colab-df-convert\" onclick=\"convertToInteractive('df-c7800871-0c72-4c05-9c5f-b8b2dd7d2569')\"\n",
              "              title=\"Convert this dataframe to an interactive table.\"\n",
              "              style=\"display:none;\">\n",
              "        \n",
              "  <svg xmlns=\"http://www.w3.org/2000/svg\" height=\"24px\"viewBox=\"0 0 24 24\"\n",
              "       width=\"24px\">\n",
              "    <path d=\"M0 0h24v24H0V0z\" fill=\"none\"/>\n",
              "    <path d=\"M18.56 5.44l.94 2.06.94-2.06 2.06-.94-2.06-.94-.94-2.06-.94 2.06-2.06.94zm-11 1L8.5 8.5l.94-2.06 2.06-.94-2.06-.94L8.5 2.5l-.94 2.06-2.06.94zm10 10l.94 2.06.94-2.06 2.06-.94-2.06-.94-.94-2.06-.94 2.06-2.06.94z\"/><path d=\"M17.41 7.96l-1.37-1.37c-.4-.4-.92-.59-1.43-.59-.52 0-1.04.2-1.43.59L10.3 9.45l-7.72 7.72c-.78.78-.78 2.05 0 2.83L4 21.41c.39.39.9.59 1.41.59.51 0 1.02-.2 1.41-.59l7.78-7.78 2.81-2.81c.8-.78.8-2.07 0-2.86zM5.41 20L4 18.59l7.72-7.72 1.47 1.35L5.41 20z\"/>\n",
              "  </svg>\n",
              "      </button>\n",
              "      \n",
              "  <style>\n",
              "    .colab-df-container {\n",
              "      display:flex;\n",
              "      flex-wrap:wrap;\n",
              "      gap: 12px;\n",
              "    }\n",
              "\n",
              "    .colab-df-convert {\n",
              "      background-color: #E8F0FE;\n",
              "      border: none;\n",
              "      border-radius: 50%;\n",
              "      cursor: pointer;\n",
              "      display: none;\n",
              "      fill: #1967D2;\n",
              "      height: 32px;\n",
              "      padding: 0 0 0 0;\n",
              "      width: 32px;\n",
              "    }\n",
              "\n",
              "    .colab-df-convert:hover {\n",
              "      background-color: #E2EBFA;\n",
              "      box-shadow: 0px 1px 2px rgba(60, 64, 67, 0.3), 0px 1px 3px 1px rgba(60, 64, 67, 0.15);\n",
              "      fill: #174EA6;\n",
              "    }\n",
              "\n",
              "    [theme=dark] .colab-df-convert {\n",
              "      background-color: #3B4455;\n",
              "      fill: #D2E3FC;\n",
              "    }\n",
              "\n",
              "    [theme=dark] .colab-df-convert:hover {\n",
              "      background-color: #434B5C;\n",
              "      box-shadow: 0px 1px 3px 1px rgba(0, 0, 0, 0.15);\n",
              "      filter: drop-shadow(0px 1px 2px rgba(0, 0, 0, 0.3));\n",
              "      fill: #FFFFFF;\n",
              "    }\n",
              "  </style>\n",
              "\n",
              "      <script>\n",
              "        const buttonEl =\n",
              "          document.querySelector('#df-c7800871-0c72-4c05-9c5f-b8b2dd7d2569 button.colab-df-convert');\n",
              "        buttonEl.style.display =\n",
              "          google.colab.kernel.accessAllowed ? 'block' : 'none';\n",
              "\n",
              "        async function convertToInteractive(key) {\n",
              "          const element = document.querySelector('#df-c7800871-0c72-4c05-9c5f-b8b2dd7d2569');\n",
              "          const dataTable =\n",
              "            await google.colab.kernel.invokeFunction('convertToInteractive',\n",
              "                                                     [key], {});\n",
              "          if (!dataTable) return;\n",
              "\n",
              "          const docLinkHtml = 'Like what you see? Visit the ' +\n",
              "            '<a target=\"_blank\" href=https://colab.research.google.com/notebooks/data_table.ipynb>data table notebook</a>'\n",
              "            + ' to learn more about interactive tables.';\n",
              "          element.innerHTML = '';\n",
              "          dataTable['output_type'] = 'display_data';\n",
              "          await google.colab.output.renderOutput(dataTable, element);\n",
              "          const docLink = document.createElement('div');\n",
              "          docLink.innerHTML = docLinkHtml;\n",
              "          element.appendChild(docLink);\n",
              "        }\n",
              "      </script>\n",
              "    </div>\n",
              "  </div>\n",
              "  "
            ],
            "text/plain": [
              "          ID  Severity  ... Nautical_Twilight Astronomical_Twilight\n",
              "0  A-2716600         3  ...             Night                 Night\n",
              "1  A-2716601         2  ...             Night                 Night\n",
              "2  A-2716602         2  ...             Night                   Day\n",
              "\n",
              "[3 rows x 47 columns]"
            ]
          },
          "metadata": {},
          "execution_count": 120
        }
      ]
    },
    {
      "cell_type": "code",
      "source": [
        "print(f'Number of rows: {df.shape[0]}\\nNumber of columns: {df.shape[1]}')"
      ],
      "metadata": {
        "colab": {
          "base_uri": "https://localhost:8080/"
        },
        "id": "STS6nHrcoukp",
        "outputId": "8e3a9cde-91d9-4bec-de62-baca7462aaed"
      },
      "execution_count": null,
      "outputs": [
        {
          "output_type": "stream",
          "name": "stdout",
          "text": [
            "Number of rows: 1516064\n",
            "Number of columns: 47\n"
          ]
        }
      ]
    },
    {
      "cell_type": "code",
      "source": [
        "df.columns"
      ],
      "metadata": {
        "colab": {
          "base_uri": "https://localhost:8080/"
        },
        "id": "XnuPmqEqqQHQ",
        "outputId": "814c57a2-ce4d-4696-d070-e9e9f5460b9c"
      },
      "execution_count": null,
      "outputs": [
        {
          "output_type": "execute_result",
          "data": {
            "text/plain": [
              "Index(['ID', 'Severity', 'Start_Time', 'End_Time', 'Start_Lat', 'Start_Lng',\n",
              "       'End_Lat', 'End_Lng', 'Distance(mi)', 'Description', 'Number', 'Street',\n",
              "       'Side', 'City', 'County', 'State', 'Zipcode', 'Country', 'Timezone',\n",
              "       'Airport_Code', 'Weather_Timestamp', 'Temperature(F)', 'Wind_Chill(F)',\n",
              "       'Humidity(%)', 'Pressure(in)', 'Visibility(mi)', 'Wind_Direction',\n",
              "       'Wind_Speed(mph)', 'Precipitation(in)', 'Weather_Condition', 'Amenity',\n",
              "       'Bump', 'Crossing', 'Give_Way', 'Junction', 'No_Exit', 'Railway',\n",
              "       'Roundabout', 'Station', 'Stop', 'Traffic_Calming', 'Traffic_Signal',\n",
              "       'Turning_Loop', 'Sunrise_Sunset', 'Civil_Twilight', 'Nautical_Twilight',\n",
              "       'Astronomical_Twilight'],\n",
              "      dtype='object')"
            ]
          },
          "metadata": {},
          "execution_count": 10
        }
      ]
    },
    {
      "cell_type": "code",
      "source": [
        "#printing each column name, it's first value, and it's datatype\n",
        "for c in df.columns:\n",
        "  print(c, df[c][0], type(df[c][0]), sep=\"\\t\")"
      ],
      "metadata": {
        "id": "N81bpQAcb2ff",
        "colab": {
          "base_uri": "https://localhost:8080/"
        },
        "outputId": "be2d1a2b-4caf-4063-832b-30822c3b469b"
      },
      "execution_count": null,
      "outputs": [
        {
          "output_type": "stream",
          "name": "stdout",
          "text": [
            "ID\tA-2716600\t<class 'str'>\n",
            "Severity\t3\t<class 'numpy.int64'>\n",
            "Start_Time\t2016-02-08 00:37:08\t<class 'str'>\n",
            "End_Time\t2016-02-08 06:37:08\t<class 'str'>\n",
            "Start_Lat\t40.10891\t<class 'numpy.float64'>\n",
            "Start_Lng\t-83.09286\t<class 'numpy.float64'>\n",
            "End_Lat\t40.11206\t<class 'numpy.float64'>\n",
            "End_Lng\t-83.03187\t<class 'numpy.float64'>\n",
            "Distance(mi)\t3.23\t<class 'numpy.float64'>\n",
            "Description\tBetween Sawmill Rd/Exit 20 and OH-315/Olentangy Riv Rd/Exit 22 - Accident.\t<class 'str'>\n",
            "Number\tnan\t<class 'numpy.float64'>\n",
            "Street\tOuterbelt E\t<class 'str'>\n",
            "Side\tR\t<class 'str'>\n",
            "City\tDublin\t<class 'str'>\n",
            "County\tFranklin\t<class 'str'>\n",
            "State\tOH\t<class 'str'>\n",
            "Zipcode\t43017\t<class 'str'>\n",
            "Country\tUS\t<class 'str'>\n",
            "Timezone\tUS/Eastern\t<class 'str'>\n",
            "Airport_Code\tKOSU\t<class 'str'>\n",
            "Weather_Timestamp\t2016-02-08 00:53:00\t<class 'str'>\n",
            "Temperature(F)\t42.1\t<class 'numpy.float64'>\n",
            "Wind_Chill(F)\t36.1\t<class 'numpy.float64'>\n",
            "Humidity(%)\t58.0\t<class 'numpy.float64'>\n",
            "Pressure(in)\t29.76\t<class 'numpy.float64'>\n",
            "Visibility(mi)\t10.0\t<class 'numpy.float64'>\n",
            "Wind_Direction\tSW\t<class 'str'>\n",
            "Wind_Speed(mph)\t10.4\t<class 'numpy.float64'>\n",
            "Precipitation(in)\t0.0\t<class 'numpy.float64'>\n",
            "Weather_Condition\tLight Rain\t<class 'str'>\n",
            "Amenity\tFalse\t<class 'numpy.bool_'>\n",
            "Bump\tFalse\t<class 'numpy.bool_'>\n",
            "Crossing\tFalse\t<class 'numpy.bool_'>\n",
            "Give_Way\tFalse\t<class 'numpy.bool_'>\n",
            "Junction\tFalse\t<class 'numpy.bool_'>\n",
            "No_Exit\tFalse\t<class 'numpy.bool_'>\n",
            "Railway\tFalse\t<class 'numpy.bool_'>\n",
            "Roundabout\tFalse\t<class 'numpy.bool_'>\n",
            "Station\tFalse\t<class 'numpy.bool_'>\n",
            "Stop\tFalse\t<class 'numpy.bool_'>\n",
            "Traffic_Calming\tFalse\t<class 'numpy.bool_'>\n",
            "Traffic_Signal\tFalse\t<class 'numpy.bool_'>\n",
            "Turning_Loop\tFalse\t<class 'numpy.bool_'>\n",
            "Sunrise_Sunset\tNight\t<class 'str'>\n",
            "Civil_Twilight\tNight\t<class 'str'>\n",
            "Nautical_Twilight\tNight\t<class 'str'>\n",
            "Astronomical_Twilight\tNight\t<class 'str'>\n"
          ]
        }
      ]
    },
    {
      "cell_type": "code",
      "source": [
        "# basics statistical detail of the numerical columns\n",
        "df.describe()"
      ],
      "metadata": {
        "colab": {
          "base_uri": "https://localhost:8080/"
        },
        "id": "wBK0lPxxpd9j",
        "outputId": "ea1fd82a-02b5-4fe5-e699-af647a99cb6e"
      },
      "execution_count": null,
      "outputs": [
        {
          "output_type": "execute_result",
          "data": {
            "text/html": [
              "\n",
              "  <div id=\"df-131765ae-9c2e-4712-bbfe-fe785eda1cd8\">\n",
              "    <div class=\"colab-df-container\">\n",
              "      <div>\n",
              "<style scoped>\n",
              "    .dataframe tbody tr th:only-of-type {\n",
              "        vertical-align: middle;\n",
              "    }\n",
              "\n",
              "    .dataframe tbody tr th {\n",
              "        vertical-align: top;\n",
              "    }\n",
              "\n",
              "    .dataframe thead th {\n",
              "        text-align: right;\n",
              "    }\n",
              "</style>\n",
              "<table border=\"1\" class=\"dataframe\">\n",
              "  <thead>\n",
              "    <tr style=\"text-align: right;\">\n",
              "      <th></th>\n",
              "      <th>Severity</th>\n",
              "      <th>Start_Lat</th>\n",
              "      <th>Start_Lng</th>\n",
              "      <th>End_Lat</th>\n",
              "      <th>End_Lng</th>\n",
              "      <th>Distance(mi)</th>\n",
              "      <th>Number</th>\n",
              "      <th>Temperature(F)</th>\n",
              "      <th>Wind_Chill(F)</th>\n",
              "      <th>Humidity(%)</th>\n",
              "      <th>Pressure(in)</th>\n",
              "      <th>Visibility(mi)</th>\n",
              "      <th>Wind_Speed(mph)</th>\n",
              "      <th>Precipitation(in)</th>\n",
              "    </tr>\n",
              "  </thead>\n",
              "  <tbody>\n",
              "    <tr>\n",
              "      <th>count</th>\n",
              "      <td>1.516064e+06</td>\n",
              "      <td>1.516064e+06</td>\n",
              "      <td>1.516064e+06</td>\n",
              "      <td>1.516064e+06</td>\n",
              "      <td>1.516064e+06</td>\n",
              "      <td>1.516064e+06</td>\n",
              "      <td>4.699690e+05</td>\n",
              "      <td>1.473031e+06</td>\n",
              "      <td>1.066748e+06</td>\n",
              "      <td>1.470555e+06</td>\n",
              "      <td>1.479790e+06</td>\n",
              "      <td>1.471853e+06</td>\n",
              "      <td>1.387202e+06</td>\n",
              "      <td>1.005515e+06</td>\n",
              "    </tr>\n",
              "    <tr>\n",
              "      <th>mean</th>\n",
              "      <td>2.238630e+00</td>\n",
              "      <td>3.690056e+01</td>\n",
              "      <td>-9.859919e+01</td>\n",
              "      <td>3.690061e+01</td>\n",
              "      <td>-9.859901e+01</td>\n",
              "      <td>5.872617e-01</td>\n",
              "      <td>8.907533e+03</td>\n",
              "      <td>5.958460e+01</td>\n",
              "      <td>5.510976e+01</td>\n",
              "      <td>6.465960e+01</td>\n",
              "      <td>2.955495e+01</td>\n",
              "      <td>9.131755e+00</td>\n",
              "      <td>7.630812e+00</td>\n",
              "      <td>8.477855e-03</td>\n",
              "    </tr>\n",
              "    <tr>\n",
              "      <th>std</th>\n",
              "      <td>6.081481e-01</td>\n",
              "      <td>5.165653e+00</td>\n",
              "      <td>1.849602e+01</td>\n",
              "      <td>5.165629e+00</td>\n",
              "      <td>1.849590e+01</td>\n",
              "      <td>1.632659e+00</td>\n",
              "      <td>2.242190e+04</td>\n",
              "      <td>1.827316e+01</td>\n",
              "      <td>2.112735e+01</td>\n",
              "      <td>2.325986e+01</td>\n",
              "      <td>1.016756e+00</td>\n",
              "      <td>2.889112e+00</td>\n",
              "      <td>5.637364e+00</td>\n",
              "      <td>1.293168e-01</td>\n",
              "    </tr>\n",
              "    <tr>\n",
              "      <th>min</th>\n",
              "      <td>1.000000e+00</td>\n",
              "      <td>2.457022e+01</td>\n",
              "      <td>-1.244976e+02</td>\n",
              "      <td>2.457011e+01</td>\n",
              "      <td>-1.244978e+02</td>\n",
              "      <td>0.000000e+00</td>\n",
              "      <td>0.000000e+00</td>\n",
              "      <td>-8.900000e+01</td>\n",
              "      <td>-8.900000e+01</td>\n",
              "      <td>1.000000e+00</td>\n",
              "      <td>0.000000e+00</td>\n",
              "      <td>0.000000e+00</td>\n",
              "      <td>0.000000e+00</td>\n",
              "      <td>0.000000e+00</td>\n",
              "    </tr>\n",
              "    <tr>\n",
              "      <th>25%</th>\n",
              "      <td>2.000000e+00</td>\n",
              "      <td>3.385422e+01</td>\n",
              "      <td>-1.182076e+02</td>\n",
              "      <td>3.385420e+01</td>\n",
              "      <td>-1.182077e+02</td>\n",
              "      <td>0.000000e+00</td>\n",
              "      <td>1.212000e+03</td>\n",
              "      <td>4.700000e+01</td>\n",
              "      <td>4.080000e+01</td>\n",
              "      <td>4.800000e+01</td>\n",
              "      <td>2.944000e+01</td>\n",
              "      <td>1.000000e+01</td>\n",
              "      <td>4.600000e+00</td>\n",
              "      <td>0.000000e+00</td>\n",
              "    </tr>\n",
              "    <tr>\n",
              "      <th>50%</th>\n",
              "      <td>2.000000e+00</td>\n",
              "      <td>3.735113e+01</td>\n",
              "      <td>-9.438100e+01</td>\n",
              "      <td>3.735134e+01</td>\n",
              "      <td>-9.437987e+01</td>\n",
              "      <td>1.780000e-01</td>\n",
              "      <td>4.000000e+03</td>\n",
              "      <td>6.100000e+01</td>\n",
              "      <td>5.700000e+01</td>\n",
              "      <td>6.800000e+01</td>\n",
              "      <td>2.988000e+01</td>\n",
              "      <td>1.000000e+01</td>\n",
              "      <td>7.000000e+00</td>\n",
              "      <td>0.000000e+00</td>\n",
              "    </tr>\n",
              "    <tr>\n",
              "      <th>75%</th>\n",
              "      <td>2.000000e+00</td>\n",
              "      <td>4.072593e+01</td>\n",
              "      <td>-8.087469e+01</td>\n",
              "      <td>4.072593e+01</td>\n",
              "      <td>-8.087449e+01</td>\n",
              "      <td>5.940000e-01</td>\n",
              "      <td>1.010000e+04</td>\n",
              "      <td>7.300000e+01</td>\n",
              "      <td>7.100000e+01</td>\n",
              "      <td>8.400000e+01</td>\n",
              "      <td>3.004000e+01</td>\n",
              "      <td>1.000000e+01</td>\n",
              "      <td>1.040000e+01</td>\n",
              "      <td>0.000000e+00</td>\n",
              "    </tr>\n",
              "    <tr>\n",
              "      <th>max</th>\n",
              "      <td>4.000000e+00</td>\n",
              "      <td>4.900058e+01</td>\n",
              "      <td>-6.711317e+01</td>\n",
              "      <td>4.907500e+01</td>\n",
              "      <td>-6.710924e+01</td>\n",
              "      <td>1.551860e+02</td>\n",
              "      <td>9.999997e+06</td>\n",
              "      <td>1.706000e+02</td>\n",
              "      <td>1.130000e+02</td>\n",
              "      <td>1.000000e+02</td>\n",
              "      <td>5.804000e+01</td>\n",
              "      <td>1.400000e+02</td>\n",
              "      <td>9.840000e+02</td>\n",
              "      <td>2.400000e+01</td>\n",
              "    </tr>\n",
              "  </tbody>\n",
              "</table>\n",
              "</div>\n",
              "      <button class=\"colab-df-convert\" onclick=\"convertToInteractive('df-131765ae-9c2e-4712-bbfe-fe785eda1cd8')\"\n",
              "              title=\"Convert this dataframe to an interactive table.\"\n",
              "              style=\"display:none;\">\n",
              "        \n",
              "  <svg xmlns=\"http://www.w3.org/2000/svg\" height=\"24px\"viewBox=\"0 0 24 24\"\n",
              "       width=\"24px\">\n",
              "    <path d=\"M0 0h24v24H0V0z\" fill=\"none\"/>\n",
              "    <path d=\"M18.56 5.44l.94 2.06.94-2.06 2.06-.94-2.06-.94-.94-2.06-.94 2.06-2.06.94zm-11 1L8.5 8.5l.94-2.06 2.06-.94-2.06-.94L8.5 2.5l-.94 2.06-2.06.94zm10 10l.94 2.06.94-2.06 2.06-.94-2.06-.94-.94-2.06-.94 2.06-2.06.94z\"/><path d=\"M17.41 7.96l-1.37-1.37c-.4-.4-.92-.59-1.43-.59-.52 0-1.04.2-1.43.59L10.3 9.45l-7.72 7.72c-.78.78-.78 2.05 0 2.83L4 21.41c.39.39.9.59 1.41.59.51 0 1.02-.2 1.41-.59l7.78-7.78 2.81-2.81c.8-.78.8-2.07 0-2.86zM5.41 20L4 18.59l7.72-7.72 1.47 1.35L5.41 20z\"/>\n",
              "  </svg>\n",
              "      </button>\n",
              "      \n",
              "  <style>\n",
              "    .colab-df-container {\n",
              "      display:flex;\n",
              "      flex-wrap:wrap;\n",
              "      gap: 12px;\n",
              "    }\n",
              "\n",
              "    .colab-df-convert {\n",
              "      background-color: #E8F0FE;\n",
              "      border: none;\n",
              "      border-radius: 50%;\n",
              "      cursor: pointer;\n",
              "      display: none;\n",
              "      fill: #1967D2;\n",
              "      height: 32px;\n",
              "      padding: 0 0 0 0;\n",
              "      width: 32px;\n",
              "    }\n",
              "\n",
              "    .colab-df-convert:hover {\n",
              "      background-color: #E2EBFA;\n",
              "      box-shadow: 0px 1px 2px rgba(60, 64, 67, 0.3), 0px 1px 3px 1px rgba(60, 64, 67, 0.15);\n",
              "      fill: #174EA6;\n",
              "    }\n",
              "\n",
              "    [theme=dark] .colab-df-convert {\n",
              "      background-color: #3B4455;\n",
              "      fill: #D2E3FC;\n",
              "    }\n",
              "\n",
              "    [theme=dark] .colab-df-convert:hover {\n",
              "      background-color: #434B5C;\n",
              "      box-shadow: 0px 1px 3px 1px rgba(0, 0, 0, 0.15);\n",
              "      filter: drop-shadow(0px 1px 2px rgba(0, 0, 0, 0.3));\n",
              "      fill: #FFFFFF;\n",
              "    }\n",
              "  </style>\n",
              "\n",
              "      <script>\n",
              "        const buttonEl =\n",
              "          document.querySelector('#df-131765ae-9c2e-4712-bbfe-fe785eda1cd8 button.colab-df-convert');\n",
              "        buttonEl.style.display =\n",
              "          google.colab.kernel.accessAllowed ? 'block' : 'none';\n",
              "\n",
              "        async function convertToInteractive(key) {\n",
              "          const element = document.querySelector('#df-131765ae-9c2e-4712-bbfe-fe785eda1cd8');\n",
              "          const dataTable =\n",
              "            await google.colab.kernel.invokeFunction('convertToInteractive',\n",
              "                                                     [key], {});\n",
              "          if (!dataTable) return;\n",
              "\n",
              "          const docLinkHtml = 'Like what you see? Visit the ' +\n",
              "            '<a target=\"_blank\" href=https://colab.research.google.com/notebooks/data_table.ipynb>data table notebook</a>'\n",
              "            + ' to learn more about interactive tables.';\n",
              "          element.innerHTML = '';\n",
              "          dataTable['output_type'] = 'display_data';\n",
              "          await google.colab.output.renderOutput(dataTable, element);\n",
              "          const docLink = document.createElement('div');\n",
              "          docLink.innerHTML = docLinkHtml;\n",
              "          element.appendChild(docLink);\n",
              "        }\n",
              "      </script>\n",
              "    </div>\n",
              "  </div>\n",
              "  "
            ],
            "text/plain": [
              "           Severity     Start_Lat  ...  Wind_Speed(mph)  Precipitation(in)\n",
              "count  1.516064e+06  1.516064e+06  ...     1.387202e+06       1.005515e+06\n",
              "mean   2.238630e+00  3.690056e+01  ...     7.630812e+00       8.477855e-03\n",
              "std    6.081481e-01  5.165653e+00  ...     5.637364e+00       1.293168e-01\n",
              "min    1.000000e+00  2.457022e+01  ...     0.000000e+00       0.000000e+00\n",
              "25%    2.000000e+00  3.385422e+01  ...     4.600000e+00       0.000000e+00\n",
              "50%    2.000000e+00  3.735113e+01  ...     7.000000e+00       0.000000e+00\n",
              "75%    2.000000e+00  4.072593e+01  ...     1.040000e+01       0.000000e+00\n",
              "max    4.000000e+00  4.900058e+01  ...     9.840000e+02       2.400000e+01\n",
              "\n",
              "[8 rows x 14 columns]"
            ]
          },
          "metadata": {},
          "execution_count": 12
        }
      ]
    },
    {
      "cell_type": "code",
      "source": [
        "#columns with categorical values & no. of categories\n",
        "for x in df.select_dtypes(include=[\"object\"]).columns:\n",
        "       print(x, len(df[x].unique()), sep='---')"
      ],
      "metadata": {
        "colab": {
          "base_uri": "https://localhost:8080/"
        },
        "id": "ueEmW7_n-IK6",
        "outputId": "d5cce370-34fe-46cb-8dc0-9b565c4109e0"
      },
      "execution_count": null,
      "outputs": [
        {
          "output_type": "stream",
          "name": "stdout",
          "text": [
            "ID---1516064\n",
            "Start_Time---1037092\n",
            "End_Time---1161415\n",
            "Description---527655\n",
            "Street---93048\n",
            "Side---2\n",
            "City---10658\n",
            "County---1671\n",
            "State---49\n",
            "Zipcode---177197\n",
            "Country---1\n",
            "Timezone---5\n",
            "Airport_Code---1986\n",
            "Weather_Timestamp---331749\n",
            "Wind_Direction---25\n",
            "Weather_Condition---117\n",
            "Sunrise_Sunset---3\n",
            "Civil_Twilight---3\n",
            "Nautical_Twilight---3\n",
            "Astronomical_Twilight---3\n"
          ]
        }
      ]
    },
    {
      "cell_type": "markdown",
      "source": [
        "#### Feature Engineering"
      ],
      "metadata": {
        "id": "m959_Un7IuVc"
      }
    },
    {
      "cell_type": "markdown",
      "source": [
        "Todos:\n",
        "- Deal with missing values.\n",
        "- Change the Start_Time and End_Time from string to datetime.\n",
        "- There are 4 column to indicate day/night. Selecting only 1 out of them.\n",
        "- Weather_Condition column has several distinct classification. Try to re-classify them at a higher level"
      ],
      "metadata": {
        "id": "eXZoSUUA5n-2"
      }
    },
    {
      "cell_type": "markdown",
      "source": [
        "---\n",
        "---"
      ],
      "metadata": {
        "id": "nDirfBWVGWkm"
      }
    },
    {
      "cell_type": "markdown",
      "source": [
        "> Dropping the columns with excessive missing values :-"
      ],
      "metadata": {
        "id": "Bt3Y3dicNtuj"
      }
    },
    {
      "cell_type": "code",
      "source": [
        "#calculating the percentage of missing values per column\n",
        "missing_percentages= df.isna().sum().sort_values(ascending=False) / len(df) *100\n",
        "\n",
        "#plotting columns with missing value\n",
        "missing_percentages[missing_percentages!=0].plot(kind='barh', color='grey')\n",
        "plt.show()"
      ],
      "metadata": {
        "colab": {
          "base_uri": "https://localhost:8080/"
        },
        "id": "fPzCsJaRFrOX",
        "outputId": "c4ebdaa4-9941-43d8-d1de-6b3b5c662e78"
      },
      "execution_count": null,
      "outputs": [
        {
          "output_type": "display_data",
          "data": {
            "image/png": "[encoded data removed]",
            "text/plain": [
              "<Figure size 432x288 with 1 Axes>"
            ]
          },
          "metadata": {
            "needs_background": "light"
          }
        }
      ]
    },
    {
      "cell_type": "code",
      "source": [
        "#Since the columns where more than 50% of the data is missing are not useful, we can delete them.\n",
        "#dropping 'Number' column as a lot of data is missing\n",
        "df= df.drop('Number', axis=1)"
      ],
      "metadata": {
        "id": "yctWNzWdKO5J"
      },
      "execution_count": null,
      "outputs": []
    },
    {
      "cell_type": "markdown",
      "source": [
        "---\n",
        "---"
      ],
      "metadata": {
        "id": "K_GxbxX8LR8m"
      }
    },
    {
      "cell_type": "markdown",
      "source": [
        "> Start_Time, End_Time and Weather_Timestamp is in str format and not datetime. So we have to typecast them."
      ],
      "metadata": {
        "id": "kIsvNpn5LoLL"
      }
    },
    {
      "cell_type": "code",
      "source": [
        "#casting string datatype to datetime\n",
        "df['Start_Time']= pd.to_datetime(df.Start_Time)\n",
        "df['End_Time']= pd.to_datetime(df.End_Time)\n",
        "df['Weather_Timestamp']= pd.to_datetime(df.Weather_Timestamp)"
      ],
      "metadata": {
        "id": "B-Gc1YlQLjot"
      },
      "execution_count": null,
      "outputs": []
    },
    {
      "cell_type": "markdown",
      "source": [
        "---\n",
        "---"
      ],
      "metadata": {
        "id": "rHjFA65NN3Xi"
      }
    },
    {
      "cell_type": "markdown",
      "source": [
        "> Selecting 1 column to determine Day or Night"
      ],
      "metadata": {
        "id": "f-3Lg3eOkWcV"
      }
    },
    {
      "cell_type": "code",
      "source": [
        "for x in ['Sunrise_Sunset', 'Civil_Twilight', 'Nautical_Twilight', 'Astronomical_Twilight']:\n",
        "  print(df[x].value_counts())"
      ],
      "metadata": {
        "colab": {
          "base_uri": "https://localhost:8080/"
        },
        "id": "h8pWGRyjN51y",
        "outputId": "c7324b6a-1377-43ef-d2d4-7d32bd66b878"
      },
      "execution_count": null,
      "outputs": [
        {
          "output_type": "stream",
          "name": "stdout",
          "text": [
            "Day      909838\n",
            "Night    606143\n",
            "Name: Sunrise_Sunset, dtype: int64\n",
            "Day      969075\n",
            "Night    546906\n",
            "Name: Civil_Twilight, dtype: int64\n",
            "Day      1035103\n",
            "Night     480878\n",
            "Name: Nautical_Twilight, dtype: int64\n",
            "Day      1090946\n",
            "Night     425035\n",
            "Name: Astronomical_Twilight, dtype: int64\n"
          ]
        }
      ]
    },
    {
      "cell_type": "code",
      "source": [
        "#Since we are dealing with road accidents, we will drop Civil, Nautical, and Astronomical Twilight.\n",
        "#We will use Sunrise_Sunset to determine day or night.\n",
        "df.drop(columns= ['Civil_Twilight', 'Nautical_Twilight', 'Astronomical_Twilight'], axis=1, inplace=True)"
      ],
      "metadata": {
        "id": "UU6lsst4RouJ"
      },
      "execution_count": null,
      "outputs": []
    },
    {
      "cell_type": "markdown",
      "source": [
        "---\n",
        "---"
      ],
      "metadata": {
        "id": "OpX0hrMoUe-m"
      }
    },
    {
      "cell_type": "markdown",
      "source": [
        "> Weather_Condition has very specific categories. We can re-classify it to a higher level."
      ],
      "metadata": {
        "id": "iAwM_CNxLFfR"
      }
    },
    {
      "cell_type": "code",
      "source": [
        "print(\"Number of categories originally: \",len(df['Weather_Condition'].unique()))"
      ],
      "metadata": {
        "id": "6GaVvDNZoZda",
        "colab": {
          "base_uri": "https://localhost:8080/"
        },
        "outputId": "61e7b9e6-81f9-4d3e-bace-a3e431c9d77f"
      },
      "execution_count": null,
      "outputs": [
        {
          "output_type": "stream",
          "name": "stdout",
          "text": [
            "Number of categories originally:  117\n"
          ]
        }
      ]
    },
    {
      "cell_type": "code",
      "source": [
        "#function to standarize similar weather condition\n",
        "def weather(original_text):\n",
        "  text= str(original_text).lower()\n",
        "  if 'rain' in text or 'drizzle' in text :\n",
        "    return 'Rain'\n",
        "  if 'cloud' in text or 'overcast' in text:\n",
        "    return 'Cloudy' \n",
        "  if 'snow' in text:\n",
        "    return 'Snow'\n",
        "  if 'fog' in text or 'haze' in text:\n",
        "    return 'Fog'\n",
        "  if 'ice pellets' in text:\n",
        "    return 'Ice Pellets'\n",
        "  if 'thunder' in text or 'storm' in text:\n",
        "    return 'Thunder-Storm'\n",
        "  if 'dust' in text:\n",
        "    return 'Dust'\n",
        "  if 'windy' in text:\n",
        "    return 'Windy'\n",
        "  else:\n",
        "    return original_text\n",
        "\n",
        "df['Weather_Condition']= df['Weather_Condition'].apply(weather)"
      ],
      "metadata": {
        "id": "bYE5LUBPlINd"
      },
      "execution_count": null,
      "outputs": []
    },
    {
      "cell_type": "code",
      "source": [
        "print(\"Number of categories now: \",len(df['Weather_Condition'].unique()))"
      ],
      "metadata": {
        "colab": {
          "base_uri": "https://localhost:8080/"
        },
        "id": "lEUS6i5eKME2",
        "outputId": "2747df0c-e8c5-4600-bcae-f9478878f9a4"
      },
      "execution_count": null,
      "outputs": [
        {
          "output_type": "stream",
          "name": "stdout",
          "text": [
            "Number of categories now:  24\n"
          ]
        }
      ]
    },
    {
      "cell_type": "markdown",
      "source": [
        "## Exploratory Analysis and Data Visualisation"
      ],
      "metadata": {
        "id": "0YbC8PFcBtgn"
      }
    },
    {
      "cell_type": "markdown",
      "source": [
        "Todo:\n",
        "Analyze\n",
        "- Location -- City,  State\n",
        "- Time -- Hour,  Week,  Month,  Year,  Day/Night\n",
        "- Condition -- Road,  Weather\n",
        "- Impact on traffic -- Severity,  Duration"
      ],
      "metadata": {
        "id": "FE8X0td6iw9x"
      }
    },
    {
      "cell_type": "markdown",
      "source": [
        "### Location"
      ],
      "metadata": {
        "id": "ekfZs_a0SzDV"
      }
    },
    {
      "cell_type": "markdown",
      "source": [
        "#### City"
      ],
      "metadata": {
        "id": "yeZA3-Dhlf3a"
      }
    },
    {
      "cell_type": "code",
      "source": [
        "total_cities= len(df.City.unique())\n",
        "print(f\"Number of cities: {total_cities}\")"
      ],
      "metadata": {
        "colab": {
          "base_uri": "https://localhost:8080/"
        },
        "id": "58fiPxScCh6R",
        "outputId": "538db8a2-5045-42ab-8eca-924decf9287c"
      },
      "execution_count": null,
      "outputs": [
        {
          "output_type": "stream",
          "name": "stdout",
          "text": [
            "Number of cities: 10658\n"
          ]
        }
      ]
    },
    {
      "cell_type": "code",
      "source": [
        "#creating a dataframe contain no. of accidents per city\n",
        "df_city= pd.DataFrame(df['City'].value_counts())\n",
        "df_city= df_city.reset_index().rename(columns={'index':'City', 'City':'Number_of_accidents'})\n",
        "df_city.head(3)"
      ],
      "metadata": {
        "id": "DSLvsGbRx6p5",
        "colab": {
          "base_uri": "https://localhost:8080/",
          "height": 143
        },
        "outputId": "16b33f1a-0fa0-41ac-996d-faa5586a06ea"
      },
      "execution_count": null,
      "outputs": [
        {
          "output_type": "execute_result",
          "data": {
            "text/html": [
              "\n",
              "  <div id=\"df-e5445a33-6ae3-499a-96de-3cd277b34708\">\n",
              "    <div class=\"colab-df-container\">\n",
              "      <div>\n",
              "<style scoped>\n",
              "    .dataframe tbody tr th:only-of-type {\n",
              "        vertical-align: middle;\n",
              "    }\n",
              "\n",
              "    .dataframe tbody tr th {\n",
              "        vertical-align: top;\n",
              "    }\n",
              "\n",
              "    .dataframe thead th {\n",
              "        text-align: right;\n",
              "    }\n",
              "</style>\n",
              "<table border=\"1\" class=\"dataframe\">\n",
              "  <thead>\n",
              "    <tr style=\"text-align: right;\">\n",
              "      <th></th>\n",
              "      <th>City</th>\n",
              "      <th>Number_of_accidents</th>\n",
              "    </tr>\n",
              "  </thead>\n",
              "  <tbody>\n",
              "    <tr>\n",
              "      <th>0</th>\n",
              "      <td>Los Angeles</td>\n",
              "      <td>39984</td>\n",
              "    </tr>\n",
              "    <tr>\n",
              "      <th>1</th>\n",
              "      <td>Miami</td>\n",
              "      <td>36233</td>\n",
              "    </tr>\n",
              "    <tr>\n",
              "      <th>2</th>\n",
              "      <td>Charlotte</td>\n",
              "      <td>22203</td>\n",
              "    </tr>\n",
              "  </tbody>\n",
              "</table>\n",
              "</div>\n",
              "      <button class=\"colab-df-convert\" onclick=\"convertToInteractive('df-e5445a33-6ae3-499a-96de-3cd277b34708')\"\n",
              "              title=\"Convert this dataframe to an interactive table.\"\n",
              "              style=\"display:none;\">\n",
              "        \n",
              "  <svg xmlns=\"http://www.w3.org/2000/svg\" height=\"24px\"viewBox=\"0 0 24 24\"\n",
              "       width=\"24px\">\n",
              "    <path d=\"M0 0h24v24H0V0z\" fill=\"none\"/>\n",
              "    <path d=\"M18.56 5.44l.94 2.06.94-2.06 2.06-.94-2.06-.94-.94-2.06-.94 2.06-2.06.94zm-11 1L8.5 8.5l.94-2.06 2.06-.94-2.06-.94L8.5 2.5l-.94 2.06-2.06.94zm10 10l.94 2.06.94-2.06 2.06-.94-2.06-.94-.94-2.06-.94 2.06-2.06.94z\"/><path d=\"M17.41 7.96l-1.37-1.37c-.4-.4-.92-.59-1.43-.59-.52 0-1.04.2-1.43.59L10.3 9.45l-7.72 7.72c-.78.78-.78 2.05 0 2.83L4 21.41c.39.39.9.59 1.41.59.51 0 1.02-.2 1.41-.59l7.78-7.78 2.81-2.81c.8-.78.8-2.07 0-2.86zM5.41 20L4 18.59l7.72-7.72 1.47 1.35L5.41 20z\"/>\n",
              "  </svg>\n",
              "      </button>\n",
              "      \n",
              "  <style>\n",
              "    .colab-df-container {\n",
              "      display:flex;\n",
              "      flex-wrap:wrap;\n",
              "      gap: 12px;\n",
              "    }\n",
              "\n",
              "    .colab-df-convert {\n",
              "      background-color: #E8F0FE;\n",
              "      border: none;\n",
              "      border-radius: 50%;\n",
              "      cursor: pointer;\n",
              "      display: none;\n",
              "      fill: #1967D2;\n",
              "      height: 32px;\n",
              "      padding: 0 0 0 0;\n",
              "      width: 32px;\n",
              "    }\n",
              "\n",
              "    .colab-df-convert:hover {\n",
              "      background-color: #E2EBFA;\n",
              "      box-shadow: 0px 1px 2px rgba(60, 64, 67, 0.3), 0px 1px 3px 1px rgba(60, 64, 67, 0.15);\n",
              "      fill: #174EA6;\n",
              "    }\n",
              "\n",
              "    [theme=dark] .colab-df-convert {\n",
              "      background-color: #3B4455;\n",
              "      fill: #D2E3FC;\n",
              "    }\n",
              "\n",
              "    [theme=dark] .colab-df-convert:hover {\n",
              "      background-color: #434B5C;\n",
              "      box-shadow: 0px 1px 3px 1px rgba(0, 0, 0, 0.15);\n",
              "      filter: drop-shadow(0px 1px 2px rgba(0, 0, 0, 0.3));\n",
              "      fill: #FFFFFF;\n",
              "    }\n",
              "  </style>\n",
              "\n",
              "      <script>\n",
              "        const buttonEl =\n",
              "          document.querySelector('#df-e5445a33-6ae3-499a-96de-3cd277b34708 button.colab-df-convert');\n",
              "        buttonEl.style.display =\n",
              "          google.colab.kernel.accessAllowed ? 'block' : 'none';\n",
              "\n",
              "        async function convertToInteractive(key) {\n",
              "          const element = document.querySelector('#df-e5445a33-6ae3-499a-96de-3cd277b34708');\n",
              "          const dataTable =\n",
              "            await google.colab.kernel.invokeFunction('convertToInteractive',\n",
              "                                                     [key], {});\n",
              "          if (!dataTable) return;\n",
              "\n",
              "          const docLinkHtml = 'Like what you see? Visit the ' +\n",
              "            '<a target=\"_blank\" href=https://colab.research.google.com/notebooks/data_table.ipynb>data table notebook</a>'\n",
              "            + ' to learn more about interactive tables.';\n",
              "          element.innerHTML = '';\n",
              "          dataTable['output_type'] = 'display_data';\n",
              "          await google.colab.output.renderOutput(dataTable, element);\n",
              "          const docLink = document.createElement('div');\n",
              "          docLink.innerHTML = docLinkHtml;\n",
              "          element.appendChild(docLink);\n",
              "        }\n",
              "      </script>\n",
              "    </div>\n",
              "  </div>\n",
              "  "
            ],
            "text/plain": [
              "          City  Number_of_accidents\n",
              "0  Los Angeles                39984\n",
              "1        Miami                36233\n",
              "2    Charlotte                22203"
            ]
          },
          "metadata": {},
          "execution_count": 135
        }
      ]
    },
    {
      "cell_type": "code",
      "source": [
        "fig,ax = plt.subplots(figsize = (15,5))\n",
        "\n",
        "#bar chart of the top 10 cities with most accidents\n",
        "chart= sns.barplot(x=\"Number_of_accidents\", y=\"City\", data=df_city.head(10), palette=\"flare_r\")\n",
        "\n",
        "total_accident= sum(df_city.Number_of_accidents)\n",
        "\n",
        "#show percentages\n",
        "i=0\n",
        "for c in chart.patches:\n",
        "    width, height = c.get_width(), c.get_height()\n",
        "    x, y = c.get_xy()\n",
        "    plt.text(x+width,\n",
        "             y+height*0.75,\n",
        "             str(round(df_city.Number_of_accidents[i]/total_accident*100, 2))+\"%\",\n",
        "             size=12)\n",
        "    i+=1\n",
        "\n",
        "#add title\n",
        "plt.title(\"Top 10 cities with most no. of accidents\", size=15)\n",
        "\n",
        "plt.show()"
      ],
      "metadata": {
        "colab": {
          "base_uri": "https://localhost:8080/",
          "height": 353
        },
        "id": "R2BJarZ7LrOV",
        "outputId": "c5de419f-ae58-4e79-c136-5cf0c0d755de"
      },
      "execution_count": null,
      "outputs": [
        {
          "output_type": "display_data",
          "data": {
            "image/png": "[encoded data removed]",
            "text/plain": [
              "<Figure size 1080x360 with 1 Axes>"
            ]
          },
          "metadata": {
            "needs_background": "light"
          }
        }
      ]
    },
    {
      "cell_type": "code",
      "source": [
        "print(\"Percentage of total accidents caused in top10 cities: \", end='')\n",
        "print(round(sum(df_city.Number_of_accidents[:10])/total_accident*100))"
      ],
      "metadata": {
        "colab": {
          "base_uri": "https://localhost:8080/"
        },
        "id": "z5-HmIkcECFl",
        "outputId": "42a6a744-269f-4dfa-c073-2896b843f946"
      },
      "execution_count": null,
      "outputs": [
        {
          "output_type": "stream",
          "name": "stdout",
          "text": [
            "Percentage of total accidents caused in top10 cities: 14\n"
          ]
        }
      ]
    },
    {
      "cell_type": "markdown",
      "source": [
        ">*INSIGHTS*:\n",
        ">- **Los Angeles** is the city with most number of accidents **2.64**%; followed by **Miami** with **2.39**%\n",
        ">- **14**% of the total accidents took place in these top **10** cities"
      ],
      "metadata": {
        "id": "Tbqqa3BewZS_"
      }
    },
    {
      "cell_type": "code",
      "source": [
        "fig,ax = plt.subplots(figsize = (15,5))\n",
        "plt.axes().set_facecolor(\"white\")\n",
        "sns.histplot(df_city.Number_of_accidents, log_scale=True,  color=\"grey\", alpha=0.25)\n",
        "plt.show()"
      ],
      "metadata": {
        "colab": {
          "base_uri": "https://localhost:8080/",
          "height": 338
        },
        "id": "jfICmGiMFpTX",
        "outputId": "f0f75750-b54e-4fee-d7dc-eb364c015481"
      },
      "execution_count": null,
      "outputs": [
        {
          "output_type": "display_data",
          "data": {
            "image/png": "[encoded data removed]",
            "text/plain": [
              "<Figure size 1080x360 with 1 Axes>"
            ]
          },
          "metadata": {
            "needs_background": "light"
          }
        }
      ]
    },
    {
      "cell_type": "code",
      "source": [
        "for i in [1,10,100,1000,10000]:\n",
        "  accidents= len(df_city.City[df_city.Number_of_accidents>i])\n",
        "  perc= round(accidents/total_cities*100,2)\n",
        "  print(f\"{perc}% of the cities had more than {i} accidents\")"
      ],
      "metadata": {
        "colab": {
          "base_uri": "https://localhost:8080/"
        },
        "id": "QytERnHysix2",
        "outputId": "cb876e97-ae65-4279-f11e-1106689e85d4"
      },
      "execution_count": null,
      "outputs": [
        {
          "output_type": "stream",
          "name": "stdout",
          "text": [
            "89.04% of the cities had more than 1 accidents\n",
            "54.18% of the cities had more than 10 accidents\n",
            "18.36% of the cities had more than 100 accidents\n",
            "2.36% of the cities had more than 1000 accidents\n",
            "0.12% of the cities had more than 10000 accidents\n"
          ]
        }
      ]
    },
    {
      "cell_type": "markdown",
      "source": [
        ">*INSIGHTS*:\n",
        ">- **11**% of the cities had only **1** accident.\n",
        ">- Only **2.36**% of the cities had more than 1000 accidents.\n",
        ">- No. of accidents per city changes logarithmically. Might depend on area and population of the city."
      ],
      "metadata": {
        "id": "ozyogi2Fzn35"
      }
    },
    {
      "cell_type": "code",
      "source": [
        "#dataframe containing coordinates of the US cities\n",
        "#taking the average latitude and longitude of the accident in each city will give the coordinates.\n",
        "df_city_coordinate= df[['Start_Lat','Start_Lng','City']].groupby('City').mean().reset_index()\n",
        "\n",
        "#adding coordinates of the cities in df_city\n",
        "df_city= df_city.merge(df_city_coordinate,on='City')"
      ],
      "metadata": {
        "id": "Ui2omCtEx35r"
      },
      "execution_count": null,
      "outputs": []
    },
    {
      "cell_type": "code",
      "source": [
        "#creating a geopandas dataframe from geojason file containing USA's states boundary \n",
        "states = gpd.read_file('cb_2018_us_state_500k.shp')\n",
        "\n",
        "#removing outlying states that isn't a part of USA mainland\n",
        "states=states.drop(states[states['NAME']=='Commonwealth of the Northern Mariana Islands'].index, axis=0)\n",
        "states=states.drop(states[states['NAME']=='Hawaii'].index, axis=0)\n",
        "states=states.drop(states[states['NAME']=='United States Virgin Islands'].index, axis=0)\n",
        "states=states.drop(states[states['NAME']=='Alaska'].index, axis=0)\n",
        "states=states.drop(states[states['NAME']=='Puerto Rico'].index, axis=0)\n",
        "states=states.drop(states[states['NAME']=='American Samoa'].index, axis=0)\n",
        "states=states.drop(states[states['NAME']=='Guam'].index, axis=0)"
      ],
      "metadata": {
        "id": "xpRaN9_O1979"
      },
      "execution_count": null,
      "outputs": []
    },
    {
      "cell_type": "code",
      "source": [
        "#getting separate list of latitude and longitude of different\n",
        "lng= list(df_city['Start_Lng'][:10])\n",
        "lat= list(df_city['Start_Lat'][:10])"
      ],
      "metadata": {
        "id": "cJh5xGWG-Uvu"
      },
      "execution_count": null,
      "outputs": []
    },
    {
      "cell_type": "code",
      "source": [
        "fig,ax = plt.subplots(figsize = (15,20))\n",
        "ax.set_facecolor(\"white\")\n",
        "\n",
        "states.boundary.plot(ax=ax, color='grey')\n",
        "\n",
        "geometry_cities = [Point(xy) for xy in zip(list(df_city['Start_Lng'][:10]), list(df_city['Start_Lat'][:10]))]\n",
        "\n",
        "geo_df = gpd.GeoDataFrame(geometry = geometry_cities)\n",
        "\n",
        "cmap = plt.get_cmap('inferno', 10)   \n",
        "colors = [cmap(i) for i in range(cmap.N)]\n",
        "markersizes= markersize = [100+(i*100) for i in range(10)][::-1]\n",
        "\n",
        "for i in range(10):\n",
        "    geo_df[geo_df.index==i].plot(ax=ax, \n",
        "                                 markersize=markersizes[i], \n",
        "                                 marker='o', \n",
        "                                 color=colors[i],\n",
        "                                 label=df_city['City'][i], \n",
        "                                 alpha=0.75);\n",
        "\n",
        "plt.legend(bbox_to_anchor=(1,0.5))\n",
        "plt.show()"
      ],
      "metadata": {
        "colab": {
          "base_uri": "https://localhost:8080/",
          "height": 408
        },
        "id": "vwVDRSTO4jwG",
        "outputId": "86f84bd6-6406-4fe1-d9b1-f68601ba6c9e"
      },
      "execution_count": null,
      "outputs": [
        {
          "output_type": "display_data",
          "data": {
            "image/png": "[encoded data removed]",
            "text/plain": [
              "<Figure size 1080x1440 with 1 Axes>"
            ]
          },
          "metadata": {
            "needs_background": "light"
          }
        }
      ]
    },
    {
      "cell_type": "markdown",
      "source": [
        "> Insights:\n",
        ">\n",
        "> 1. **2.64%** of the accidents take place at **Los Angeles**; followed by **Miami** with 2.39%.\n",
        "> 2. About **14**% of the accidents are from these **10** cities out of 10658 cities in USA.\n",
        "> 3. Only **251** cities had more than **1000** accidents out of 10658 cities"
      ],
      "metadata": {
        "id": "rGSearQ4CrzS"
      }
    },
    {
      "cell_type": "markdown",
      "source": [
        "#### State"
      ],
      "metadata": {
        "id": "EYnj5EeLxk1F"
      }
    },
    {
      "cell_type": "code",
      "source": [
        "df['State'].unique()"
      ],
      "metadata": {
        "colab": {
          "base_uri": "https://localhost:8080/"
        },
        "id": "1Dkm7Zqhxq3o",
        "outputId": "cae647f1-1e21-49f2-d13e-e00cc9e47e47"
      },
      "execution_count": null,
      "outputs": [
        {
          "output_type": "execute_result",
          "data": {
            "text/plain": [
              "array(['OH', 'IN', 'KY', 'WV', 'MI', 'PA', 'CA', 'NV', 'MN', 'TX', 'MO',\n",
              "       'CO', 'OK', 'LA', 'KS', 'WI', 'IA', 'MS', 'NE', 'ND', 'WY', 'SD',\n",
              "       'MT', 'NM', 'AR', 'IL', 'NJ', 'GA', 'FL', 'NY', 'CT', 'RI', 'SC',\n",
              "       'NC', 'MD', 'MA', 'TN', 'VA', 'DE', 'DC', 'ME', 'AL', 'NH', 'VT',\n",
              "       'AZ', 'UT', 'ID', 'OR', 'WA'], dtype=object)"
            ]
          },
          "metadata": {},
          "execution_count": 32
        }
      ]
    },
    {
      "cell_type": "code",
      "source": [
        "# https://gist.github.com/rogerallen/1583593\n",
        "us_state_to_abbrev = {\n",
        "    \"Alabama\": \"AL\",    \"Alaska\": \"AK\",    \"Arizona\": \"AZ\",    \"Arkansas\": \"AR\",    \"California\": \"CA\",    \"Colorado\": \"CO\",    \"Connecticut\": \"CT\",  \"Delaware\": \"DE\",\n",
        "    \"Florida\": \"FL\",    \"Georgia\": \"GA\",    \"Hawaii\": \"HI\",    \"Idaho\": \"ID\",    \"Illinois\": \"IL\",    \"Indiana\": \"IN\",    \"Iowa\": \"IA\",    \"Kansas\": \"KS\",\n",
        "    \"Kentucky\": \"KY\",  \"Louisiana\": \"LA\",   \"Maine\": \"ME\",    \"Maryland\": \"MD\",    \"Massachusetts\": \"MA\",   \"Michigan\": \"MI\",  \"Minnesota\": \"MN\", \"Mississippi\": \"MS\",\n",
        "    \"Missouri\": \"MO\",  \"Montana\": \"MT\",    \"Nebraska\": \"NE\",    \"Nevada\": \"NV\",    \"New Hampshire\": \"NH\",    \"New Jersey\": \"NJ\",    \"New Mexico\": \"NM\",  \"New York\": \"NY\",\n",
        "    \"North Carolina\": \"NC\",    \"North Dakota\": \"ND\",    \"Ohio\": \"OH\",    \"Oklahoma\": \"OK\",    \"Oregon\": \"OR\",    \"Pennsylvania\": \"PA\",    \"Rhode Island\": \"RI\",    \n",
        "    \"South Carolina\": \"SC\",    \"South Dakota\": \"SD\",    \"Tennessee\": \"TN\",    \"Texas\": \"TX\",    \"Utah\": \"UT\",    \"Vermont\": \"VT\",    \"Virginia\": \"VA\",   \n",
        "    \"Washington\": \"WA\",    \"West Virginia\": \"WV\",    \"Wisconsin\": \"WI\",    \"Wyoming\": \"WY\",    \"District of Columbia\": \"DC\",    \"American Samoa\": \"AS\",   \n",
        "    \"Guam\": \"GU\",    \"Northern Mariana Islands\": \"MP\",    \"Puerto Rico\": \"PR\",    \"United States Minor Outlying Islands\": \"UM\",    \"U.S. Virgin Islands\": \"VI\",\n",
        "}\n",
        "abbrev_to_us_state = dict(map(reversed, us_state_to_abbrev.items()))"
      ],
      "metadata": {
        "id": "PfhZJtcDyiuy"
      },
      "execution_count": null,
      "outputs": []
    },
    {
      "cell_type": "code",
      "source": [
        "def get_state_name(s):\n",
        "  return abbrev_to_us_state[s]\n",
        "\n",
        "df_state = pd.DataFrame(df['State'].value_counts()).reset_index().rename(columns={'index':'State', 'State':'Number_of_accidents'})\n",
        "\n",
        "df_state['State']= df_state['State'].apply(get_state_name)\n"
      ],
      "metadata": {
        "id": "cyzHKKtw0KIX"
      },
      "execution_count": null,
      "outputs": []
    },
    {
      "cell_type": "code",
      "source": [
        "plt.figure(figsize=(10,5))\n",
        "plt.axes().set_facecolor(\"white\")\n",
        "chart= sns.barplot(x=\"Number_of_accidents\", y=\"State\", data=df_state.head(10), color=\"grey\")\n",
        "\n",
        "total_accident= sum(df_state.Number_of_accidents)\n",
        "i=0\n",
        "for c in chart.patches:\n",
        "    width, height = c.get_width(), c.get_height()\n",
        "    x, y = c.get_xy()\n",
        "    plt.text(x+width,\n",
        "             y+height*0.75,\n",
        "             str(round(df_state.Number_of_accidents[i]/total_accident*100, 2))+\"%\")\n",
        "    i+=1\n",
        "plt.show()"
      ],
      "metadata": {
        "colab": {
          "base_uri": "https://localhost:8080/",
          "height": 335
        },
        "id": "9AgFYPfK11wH",
        "outputId": "46a0e141-a638-4d6e-bfd5-04ae75e6ef19"
      },
      "execution_count": null,
      "outputs": [
        {
          "output_type": "display_data",
          "data": {
            "image/png": "[encoded data removed]",
            "text/plain": [
              "<Figure size 720x360 with 1 Axes>"
            ]
          },
          "metadata": {
            "needs_background": "light"
          }
        }
      ]
    },
    {
      "cell_type": "code",
      "source": [
        "df_state['NAME']=df_state['State']\n",
        "\n",
        "map= states.merge(df_state, on='NAME').plot(column='Number_of_accidents', \n",
        "                                       cmap='Reds', \n",
        "                                       figsize=(15,20))\n",
        "plt.show()"
      ],
      "metadata": {
        "colab": {
          "base_uri": "https://localhost:8080/",
          "height": 498
        },
        "id": "nfPCT_Ih60xA",
        "outputId": "b4a36666-8a97-4179-fa22-9f8c43f31933"
      },
      "execution_count": null,
      "outputs": [
        {
          "output_type": "display_data",
          "data": {
            "image/png": "[encoded data removed]",
            "text/plain": [
              "<Figure size 1080x1440 with 1 Axes>"
            ]
          },
          "metadata": {
            "needs_background": "light"
          }
        }
      ]
    },
    {
      "cell_type": "code",
      "source": [
        ""
      ],
      "metadata": {
        "id": "eDAXiWne9BKA"
      },
      "execution_count": null,
      "outputs": []
    },
    {
      "cell_type": "markdown",
      "source": [
        "### Time"
      ],
      "metadata": {
        "id": "6hwH00ejS8bp"
      }
    },
    {
      "cell_type": "markdown",
      "source": [
        "#### Hour"
      ],
      "metadata": {
        "id": "Ty9r7eaSFJJA"
      }
    },
    {
      "cell_type": "code",
      "source": [
        "fig,ax = plt.subplots(figsize = (15,5))\n",
        "ax.xaxis.set_ticks(list(range(0,25)))\n",
        "\n",
        "chart= sns.histplot(df.Start_Time.dt.hour, stat='percent', bins=24, discrete=True, color='grey')\n",
        "\n",
        "i=0\n",
        "for c in  chart.patches:\n",
        "    width, height = c.get_width(), c.get_height()\n",
        "    x, y = c.get_xy()\n",
        "    plt.text(x+0.1,\n",
        "             y+1,\n",
        "             str(i)+\":00\",\n",
        "             size=10,\n",
        "             c='white',\n",
        "             rotation='vertical')\n",
        "    i+=1\n",
        "plt.show()"
      ],
      "metadata": {
        "colab": {
          "base_uri": "https://localhost:8080/",
          "height": 335
        },
        "id": "sjIQJXOHdMwn",
        "outputId": "7c62a709-54c2-4f00-d631-5fb7c5bc7679"
      },
      "execution_count": null,
      "outputs": [
        {
          "output_type": "display_data",
          "data": {
            "image/png": "[encoded data removed]",
            "text/plain": [
              "<Figure size 1080x360 with 1 Axes>"
            ]
          },
          "metadata": {
            "needs_background": "light"
          }
        }
      ]
    },
    {
      "cell_type": "markdown",
      "source": [
        "#### Week"
      ],
      "metadata": {
        "id": "QeT6dMaXFcVV"
      }
    },
    {
      "cell_type": "code",
      "source": [
        "fig,ax = plt.subplots(figsize = (10,5))\n",
        "\n",
        "chart= sns.histplot(df.Start_Time.dt.dayofweek, stat='percent', bins=7, discrete=True, color='grey')\n",
        "\n",
        "days_of_week= (\"Mon\",\"Tue\",\"Wed\",\"Thur\",\"Fri\",\"Sat\",\"Sun\")\n",
        "i=0\n",
        "for c in  chart.patches:\n",
        "    width, height = c.get_width(), c.get_height()\n",
        "    x, y = c.get_xy()\n",
        "    plt.text(x+0.25,\n",
        "             y+1,\n",
        "             days_of_week[i],\n",
        "             size=15,\n",
        "             c='white')\n",
        "    i+=1\n",
        "plt.show()"
      ],
      "metadata": {
        "colab": {
          "base_uri": "https://localhost:8080/",
          "height": 335
        },
        "id": "mSICRd-ElbXL",
        "outputId": "ec4d6445-2d81-4f99-87b7-0b28aee3d316"
      },
      "execution_count": null,
      "outputs": [
        {
          "output_type": "display_data",
          "data": {
            "image/png": "[encoded data removed]",
            "text/plain": [
              "<Figure size 720x360 with 1 Axes>"
            ]
          },
          "metadata": {
            "needs_background": "light"
          }
        }
      ]
    },
    {
      "cell_type": "markdown",
      "source": [
        "#### Month"
      ],
      "metadata": {
        "id": "eqWJC2vZFJAa"
      }
    },
    {
      "cell_type": "code",
      "source": [
        "fig,ax = plt.subplots(figsize = (10,5))\n",
        "ax.xaxis.set_ticks(list(range(1,13)))\n",
        "\n",
        "month_of_year= ('#','Jan', 'Feb', 'Mar', 'Apr', 'May', 'Jun', 'Jul', 'Aug', 'Sep', 'Oct', 'Nov', 'Dec')\n",
        "\n",
        "chart= sns.histplot(df.Start_Time.dt.month, stat='percent', bins=12, discrete=True, color='grey')\n",
        "\n",
        "i=1\n",
        "for c in  chart.patches:\n",
        "    width, height = c.get_width(), c.get_height()\n",
        "    x, y = c.get_xy()\n",
        "    plt.text(x+0.25,\n",
        "             y+1,\n",
        "             str(month_of_year[i]),\n",
        "             size=12,\n",
        "             c='white')\n",
        "    i+=1\n",
        "\n",
        "\n",
        "plt.show()"
      ],
      "metadata": {
        "colab": {
          "base_uri": "https://localhost:8080/",
          "height": 335
        },
        "id": "GKNiIwukyAYK",
        "outputId": "d31bf5db-ac70-4822-d769-3c3a6c4691e4"
      },
      "execution_count": null,
      "outputs": [
        {
          "output_type": "display_data",
          "data": {
            "image/png": "[encoded data removed]",
            "text/plain": [
              "<Figure size 720x360 with 1 Axes>"
            ]
          },
          "metadata": {
            "needs_background": "light"
          }
        }
      ]
    },
    {
      "cell_type": "code",
      "source": [
        "df_my= pd.DataFrame(df.Start_Time)\n",
        "df_my['Month']= df_my.Start_Time.dt.month\n",
        "df_my['Year']= df_my.Start_Time.dt.year\n"
      ],
      "metadata": {
        "id": "LFqYT5j4tIg2"
      },
      "execution_count": null,
      "outputs": []
    },
    {
      "cell_type": "code",
      "source": [
        "fig, axes = plt.subplots(2,3, figsize=(15, 7), sharex=True)\n",
        "a=[(0,0),(0,1),(0,2),(1,0),(1,1),(1,2)]\n",
        "\n",
        "for i in range(5):\n",
        "  sns.histplot(df_my.Month[df_my.Year==2016+i], stat='count', bins=12, discrete=True, color='grey', ax=axes[a[i]])\n",
        "  axes[a[i]].set_title(str(2016+i))\n",
        "\n",
        "sns.histplot(df_my.Month, stat='count', bins=12, discrete=True, color='grey', ax=axes[a[5]])\n",
        "axes[1,2].set_title('2016-2020')\n",
        "\n",
        "plt.show()"
      ],
      "metadata": {
        "colab": {
          "base_uri": "https://localhost:8080/",
          "height": 458
        },
        "id": "XnEKTisNzNvq",
        "outputId": "d6b91b1d-b18e-468a-ae3a-33b36d6ae59f"
      },
      "execution_count": null,
      "outputs": [
        {
          "output_type": "display_data",
          "data": {
            "image/png": "[encoded data removed]",
            "text/plain": [
              "<Figure size 1080x504 with 6 Axes>"
            ]
          },
          "metadata": {
            "needs_background": "light"
          }
        }
      ]
    },
    {
      "cell_type": "markdown",
      "source": [
        "#### Year"
      ],
      "metadata": {
        "id": "gKpl4hOxFI4P"
      }
    },
    {
      "cell_type": "code",
      "source": [
        "fig,ax = plt.subplots(figsize = (10,5))\n",
        "\n",
        "sns.histplot(df.Start_Time.dt.year, stat='percent', discrete=True ,bins=5, color='grey')\n",
        "\n",
        "plt.show()"
      ],
      "metadata": {
        "colab": {
          "base_uri": "https://localhost:8080/",
          "height": 335
        },
        "id": "75ikFjNCpn5B",
        "outputId": "7425a6b2-a546-400e-b1d7-d59c4226cfe5"
      },
      "execution_count": null,
      "outputs": [
        {
          "output_type": "display_data",
          "data": {
            "image/png": "[encoded data removed]",
            "text/plain": [
              "<Figure size 720x360 with 1 Axes>"
            ]
          },
          "metadata": {
            "needs_background": "light"
          }
        }
      ]
    },
    {
      "cell_type": "markdown",
      "source": [
        "#### Day/Night"
      ],
      "metadata": {
        "id": "uGaN6aT9AAkZ"
      }
    },
    {
      "cell_type": "code",
      "source": [
        "df['Sunrise_Sunset'].value_counts()"
      ],
      "metadata": {
        "colab": {
          "base_uri": "https://localhost:8080/"
        },
        "id": "TlI3I0EsS06q",
        "outputId": "fb099d1f-44db-47ea-b14b-4421c59817a6"
      },
      "execution_count": null,
      "outputs": [
        {
          "output_type": "execute_result",
          "data": {
            "text/plain": [
              "Day      909838\n",
              "Night    606143\n",
              "Name: Sunrise_Sunset, dtype: int64"
            ]
          },
          "metadata": {},
          "execution_count": 73
        }
      ]
    },
    {
      "cell_type": "code",
      "source": [
        "fig,ax = plt.subplots(figsize = (6,6))\n",
        "\n",
        "plt.pie(df['Sunrise_Sunset'].value_counts(), \n",
        "        labels=['Day','Night'], \n",
        "        autopct='%1.1f%%',\n",
        "        colors=['#ffff7f','#a6a6a6'],\n",
        "        explode=[0,0.05],\n",
        "        labeldistance=0.2)\n",
        "\n",
        "plt.show()"
      ],
      "metadata": {
        "colab": {
          "base_uri": "https://localhost:8080/",
          "height": 357
        },
        "id": "5LVeXfkYAACV",
        "outputId": "12543cc6-a77a-4bf3-d3d4-15cb6bc63260"
      },
      "execution_count": null,
      "outputs": [
        {
          "output_type": "display_data",
          "data": {
            "image/png": "[encoded data removed]",
            "text/plain": [
              "<Figure size 432x432 with 1 Axes>"
            ]
          },
          "metadata": {}
        }
      ]
    },
    {
      "cell_type": "markdown",
      "source": [
        "### Condition"
      ],
      "metadata": {
        "id": "vwKW3UrwHvKu"
      }
    },
    {
      "cell_type": "markdown",
      "source": [
        "#### Road/Vicinity"
      ],
      "metadata": {
        "id": "HxnPas74Y_BA"
      }
    },
    {
      "cell_type": "code",
      "source": [
        "conditions= ['Amenity', 'Bump', 'Crossing', 'Give_Way', 'Junction', 'No_Exit', 'Railway',\n",
        "             'Roundabout', 'Station', 'Stop', 'Traffic_Calming', 'Traffic_Signal', 'Turning_Loop']"
      ],
      "metadata": {
        "id": "COW4BGGQH_yB"
      },
      "execution_count": null,
      "outputs": []
    },
    {
      "cell_type": "code",
      "source": [
        "df_conditions= pd.DataFrame(columns=['Condition','Number_of_accidents'])\n",
        "for c in conditions:\n",
        "  number_of_accidents= sum(df[c].value_counts()) - df[c].value_counts()[0]\n",
        "  df_conditions= df_conditions.append({'Condition': c,'Number_of_accidents': number_of_accidents}, \n",
        "                                              ignore_index=True )"
      ],
      "metadata": {
        "id": "X3kShji4JMOS"
      },
      "execution_count": null,
      "outputs": []
    },
    {
      "cell_type": "code",
      "source": [
        "fig,ax = plt.subplots(figsize = (15,5))\n",
        "\n",
        "chart= sns.barplot(y=df_conditions['Condition'], \n",
        "            x=df_conditions['Number_of_accidents'],\n",
        "            palette='Spectral')\n",
        "\n",
        "total_accidents=len(df)\n",
        "i=0\n",
        "for c in chart.patches:\n",
        "    width, height = c.get_width(), c.get_height()\n",
        "    x, y = c.get_xy()\n",
        "    plt.text(x+width,\n",
        "             y+height-0.25,\n",
        "             str(round(df_conditions['Number_of_accidents'][i]/total_accidents*100,3))+\"%\",\n",
        "             size=10, c='grey')\n",
        "    i+=1"
      ],
      "metadata": {
        "colab": {
          "base_uri": "https://localhost:8080/",
          "height": 335
        },
        "id": "LOvYgKLlN6GM",
        "outputId": "2c124ea0-2b32-4761-db39-c984a442587b"
      },
      "execution_count": null,
      "outputs": [
        {
          "output_type": "display_data",
          "data": {
            "image/png": "[encoded data removed]",
            "text/plain": [
              "<Figure size 1080x360 with 1 Axes>"
            ]
          },
          "metadata": {
            "needs_background": "light"
          }
        }
      ]
    },
    {
      "cell_type": "code",
      "source": [
        "fig,ax = plt.subplots(figsize = (8,8))\n",
        "\n",
        "cmap = plt.get_cmap('viridis', 13)   \n",
        "clrs = [matplotlib.colors.rgb2hex(cmap(i)) for i in range(cmap.N)]\n",
        "\n",
        "plt.pie(df_conditions['Number_of_accidents'], labels=df_conditions['Condition'],colors=clrs)\n",
        "plt.legend(bbox_to_anchor=(1.5,0.75))\n",
        "\n",
        "plt.show()"
      ],
      "metadata": {
        "colab": {
          "base_uri": "https://localhost:8080/",
          "height": 466
        },
        "id": "WcsBRkwuZQXn",
        "outputId": "6cca65a4-1615-4a68-9399-5ffdec2c2b2e"
      },
      "execution_count": null,
      "outputs": [
        {
          "output_type": "display_data",
          "data": {
            "image/png": "[encoded data removed]",
            "text/plain": [
              "<Figure size 576x576 with 1 Axes>"
            ]
          },
          "metadata": {}
        }
      ]
    },
    {
      "cell_type": "markdown",
      "source": [
        "#### Weather"
      ],
      "metadata": {
        "id": "veY3-k3iZDrL"
      }
    },
    {
      "cell_type": "code",
      "source": [
        "df_weather= df['Weather_Condition'].value_counts().reset_index().rename(columns={'index':'Weather_Condition',\n",
        "                                                                     'Weather_Condition':'Number_of_accidents'})"
      ],
      "metadata": {
        "id": "BXA8c3xRg6Ei"
      },
      "execution_count": null,
      "outputs": []
    },
    {
      "cell_type": "code",
      "source": [
        "df_weather.head(4)"
      ],
      "metadata": {
        "colab": {
          "base_uri": "https://localhost:8080/",
          "height": 175
        },
        "id": "H1cvirgvk8jx",
        "outputId": "a31f5ae9-5ab2-469f-b02e-bf160a04b914"
      },
      "execution_count": null,
      "outputs": [
        {
          "output_type": "execute_result",
          "data": {
            "text/html": [
              "\n",
              "  <div id=\"df-ad3c5297-51ed-4073-8525-e8f728dd55f7\">\n",
              "    <div class=\"colab-df-container\">\n",
              "      <div>\n",
              "<style scoped>\n",
              "    .dataframe tbody tr th:only-of-type {\n",
              "        vertical-align: middle;\n",
              "    }\n",
              "\n",
              "    .dataframe tbody tr th {\n",
              "        vertical-align: top;\n",
              "    }\n",
              "\n",
              "    .dataframe thead th {\n",
              "        text-align: right;\n",
              "    }\n",
              "</style>\n",
              "<table border=\"1\" class=\"dataframe\">\n",
              "  <thead>\n",
              "    <tr style=\"text-align: right;\">\n",
              "      <th></th>\n",
              "      <th>Weather_Condition</th>\n",
              "      <th>Number_of_accidents</th>\n",
              "    </tr>\n",
              "  </thead>\n",
              "  <tbody>\n",
              "    <tr>\n",
              "      <th>0</th>\n",
              "      <td>Cloudy</td>\n",
              "      <td>631941</td>\n",
              "    </tr>\n",
              "    <tr>\n",
              "      <th>1</th>\n",
              "      <td>Fair</td>\n",
              "      <td>465252</td>\n",
              "    </tr>\n",
              "    <tr>\n",
              "      <th>2</th>\n",
              "      <td>Clear</td>\n",
              "      <td>180223</td>\n",
              "    </tr>\n",
              "    <tr>\n",
              "      <th>3</th>\n",
              "      <td>Rain</td>\n",
              "      <td>108665</td>\n",
              "    </tr>\n",
              "  </tbody>\n",
              "</table>\n",
              "</div>\n",
              "      <button class=\"colab-df-convert\" onclick=\"convertToInteractive('df-ad3c5297-51ed-4073-8525-e8f728dd55f7')\"\n",
              "              title=\"Convert this dataframe to an interactive table.\"\n",
              "              style=\"display:none;\">\n",
              "        \n",
              "  <svg xmlns=\"http://www.w3.org/2000/svg\" height=\"24px\"viewBox=\"0 0 24 24\"\n",
              "       width=\"24px\">\n",
              "    <path d=\"M0 0h24v24H0V0z\" fill=\"none\"/>\n",
              "    <path d=\"M18.56 5.44l.94 2.06.94-2.06 2.06-.94-2.06-.94-.94-2.06-.94 2.06-2.06.94zm-11 1L8.5 8.5l.94-2.06 2.06-.94-2.06-.94L8.5 2.5l-.94 2.06-2.06.94zm10 10l.94 2.06.94-2.06 2.06-.94-2.06-.94-.94-2.06-.94 2.06-2.06.94z\"/><path d=\"M17.41 7.96l-1.37-1.37c-.4-.4-.92-.59-1.43-.59-.52 0-1.04.2-1.43.59L10.3 9.45l-7.72 7.72c-.78.78-.78 2.05 0 2.83L4 21.41c.39.39.9.59 1.41.59.51 0 1.02-.2 1.41-.59l7.78-7.78 2.81-2.81c.8-.78.8-2.07 0-2.86zM5.41 20L4 18.59l7.72-7.72 1.47 1.35L5.41 20z\"/>\n",
              "  </svg>\n",
              "      </button>\n",
              "      \n",
              "  <style>\n",
              "    .colab-df-container {\n",
              "      display:flex;\n",
              "      flex-wrap:wrap;\n",
              "      gap: 12px;\n",
              "    }\n",
              "\n",
              "    .colab-df-convert {\n",
              "      background-color: #E8F0FE;\n",
              "      border: none;\n",
              "      border-radius: 50%;\n",
              "      cursor: pointer;\n",
              "      display: none;\n",
              "      fill: #1967D2;\n",
              "      height: 32px;\n",
              "      padding: 0 0 0 0;\n",
              "      width: 32px;\n",
              "    }\n",
              "\n",
              "    .colab-df-convert:hover {\n",
              "      background-color: #E2EBFA;\n",
              "      box-shadow: 0px 1px 2px rgba(60, 64, 67, 0.3), 0px 1px 3px 1px rgba(60, 64, 67, 0.15);\n",
              "      fill: #174EA6;\n",
              "    }\n",
              "\n",
              "    [theme=dark] .colab-df-convert {\n",
              "      background-color: #3B4455;\n",
              "      fill: #D2E3FC;\n",
              "    }\n",
              "\n",
              "    [theme=dark] .colab-df-convert:hover {\n",
              "      background-color: #434B5C;\n",
              "      box-shadow: 0px 1px 3px 1px rgba(0, 0, 0, 0.15);\n",
              "      filter: drop-shadow(0px 1px 2px rgba(0, 0, 0, 0.3));\n",
              "      fill: #FFFFFF;\n",
              "    }\n",
              "  </style>\n",
              "\n",
              "      <script>\n",
              "        const buttonEl =\n",
              "          document.querySelector('#df-ad3c5297-51ed-4073-8525-e8f728dd55f7 button.colab-df-convert');\n",
              "        buttonEl.style.display =\n",
              "          google.colab.kernel.accessAllowed ? 'block' : 'none';\n",
              "\n",
              "        async function convertToInteractive(key) {\n",
              "          const element = document.querySelector('#df-ad3c5297-51ed-4073-8525-e8f728dd55f7');\n",
              "          const dataTable =\n",
              "            await google.colab.kernel.invokeFunction('convertToInteractive',\n",
              "                                                     [key], {});\n",
              "          if (!dataTable) return;\n",
              "\n",
              "          const docLinkHtml = 'Like what you see? Visit the ' +\n",
              "            '<a target=\"_blank\" href=https://colab.research.google.com/notebooks/data_table.ipynb>data table notebook</a>'\n",
              "            + ' to learn more about interactive tables.';\n",
              "          element.innerHTML = '';\n",
              "          dataTable['output_type'] = 'display_data';\n",
              "          await google.colab.output.renderOutput(dataTable, element);\n",
              "          const docLink = document.createElement('div');\n",
              "          docLink.innerHTML = docLinkHtml;\n",
              "          element.appendChild(docLink);\n",
              "        }\n",
              "      </script>\n",
              "    </div>\n",
              "  </div>\n",
              "  "
            ],
            "text/plain": [
              "  Weather_Condition  Number_of_accidents\n",
              "0            Cloudy               631941\n",
              "1              Fair               465252\n",
              "2             Clear               180223\n",
              "3              Rain               108665"
            ]
          },
          "metadata": {},
          "execution_count": 49
        }
      ]
    },
    {
      "cell_type": "code",
      "source": [
        "fig,ax = plt.subplots(figsize = (10,5))\n",
        "\n",
        "chart= sns.barplot(y=df_weather['Weather_Condition'][:10], \n",
        "            x=df_weather['Number_of_accidents'][:10],\n",
        "            palette=\"vlag\")\n",
        "\n",
        "total_accidents=len(df)\n",
        "i=0\n",
        "for c in chart.patches:\n",
        "    width, height = c.get_width(), c.get_height()\n",
        "    x, y = c.get_xy()\n",
        "    plt.text(x+width,\n",
        "             y+height-0.25,\n",
        "             str(round(df_weather['Number_of_accidents'][i]/total_accidents*100,2))+\"%\",\n",
        "             size=10)\n",
        "    i+=1"
      ],
      "metadata": {
        "colab": {
          "base_uri": "https://localhost:8080/",
          "height": 335
        },
        "id": "uUvWHjY_hb1y",
        "outputId": "a4fd1451-e6ad-4d09-9fca-cc5a65cd8af8"
      },
      "execution_count": null,
      "outputs": [
        {
          "output_type": "display_data",
          "data": {
            "image/png": "[encoded data removed]",
            "text/plain": [
              "<Figure size 720x360 with 1 Axes>"
            ]
          },
          "metadata": {
            "needs_background": "light"
          }
        }
      ]
    },
    {
      "cell_type": "markdown",
      "source": [
        "### Impact on traffic"
      ],
      "metadata": {
        "id": "rV4IO-iAlSnm"
      }
    },
    {
      "cell_type": "markdown",
      "source": [
        "#### Severity"
      ],
      "metadata": {
        "id": "BzFBzBJ1DbQs"
      }
    },
    {
      "cell_type": "code",
      "source": [
        "df_severity= pd.DataFrame(df['Severity'].value_counts())\n",
        "\n",
        "df_severity= df_severity.reset_index().rename(columns={'index':'Severity', 'Severity': 'Number_of_accidents'})\n"
      ],
      "metadata": {
        "id": "6iFsO_SAlbJQ"
      },
      "execution_count": null,
      "outputs": []
    },
    {
      "cell_type": "code",
      "source": [
        "df_severity"
      ],
      "metadata": {
        "colab": {
          "base_uri": "https://localhost:8080/",
          "height": 175
        },
        "id": "aINg_h8Mmwob",
        "outputId": "023df8a1-5396-4ef9-b13a-1c2730ace1d3"
      },
      "execution_count": null,
      "outputs": [
        {
          "output_type": "execute_result",
          "data": {
            "text/html": [
              "\n",
              "  <div id=\"df-dcaa6bac-1242-4488-926a-b4219faf4205\">\n",
              "    <div class=\"colab-df-container\">\n",
              "      <div>\n",
              "<style scoped>\n",
              "    .dataframe tbody tr th:only-of-type {\n",
              "        vertical-align: middle;\n",
              "    }\n",
              "\n",
              "    .dataframe tbody tr th {\n",
              "        vertical-align: top;\n",
              "    }\n",
              "\n",
              "    .dataframe thead th {\n",
              "        text-align: right;\n",
              "    }\n",
              "</style>\n",
              "<table border=\"1\" class=\"dataframe\">\n",
              "  <thead>\n",
              "    <tr style=\"text-align: right;\">\n",
              "      <th></th>\n",
              "      <th>Severity</th>\n",
              "      <th>Number_of_accidents</th>\n",
              "    </tr>\n",
              "  </thead>\n",
              "  <tbody>\n",
              "    <tr>\n",
              "      <th>0</th>\n",
              "      <td>2</td>\n",
              "      <td>1212382</td>\n",
              "    </tr>\n",
              "    <tr>\n",
              "      <th>1</th>\n",
              "      <td>3</td>\n",
              "      <td>161052</td>\n",
              "    </tr>\n",
              "    <tr>\n",
              "      <th>2</th>\n",
              "      <td>4</td>\n",
              "      <td>114452</td>\n",
              "    </tr>\n",
              "    <tr>\n",
              "      <th>3</th>\n",
              "      <td>1</td>\n",
              "      <td>28178</td>\n",
              "    </tr>\n",
              "  </tbody>\n",
              "</table>\n",
              "</div>\n",
              "      <button class=\"colab-df-convert\" onclick=\"convertToInteractive('df-dcaa6bac-1242-4488-926a-b4219faf4205')\"\n",
              "              title=\"Convert this dataframe to an interactive table.\"\n",
              "              style=\"display:none;\">\n",
              "        \n",
              "  <svg xmlns=\"http://www.w3.org/2000/svg\" height=\"24px\"viewBox=\"0 0 24 24\"\n",
              "       width=\"24px\">\n",
              "    <path d=\"M0 0h24v24H0V0z\" fill=\"none\"/>\n",
              "    <path d=\"M18.56 5.44l.94 2.06.94-2.06 2.06-.94-2.06-.94-.94-2.06-.94 2.06-2.06.94zm-11 1L8.5 8.5l.94-2.06 2.06-.94-2.06-.94L8.5 2.5l-.94 2.06-2.06.94zm10 10l.94 2.06.94-2.06 2.06-.94-2.06-.94-.94-2.06-.94 2.06-2.06.94z\"/><path d=\"M17.41 7.96l-1.37-1.37c-.4-.4-.92-.59-1.43-.59-.52 0-1.04.2-1.43.59L10.3 9.45l-7.72 7.72c-.78.78-.78 2.05 0 2.83L4 21.41c.39.39.9.59 1.41.59.51 0 1.02-.2 1.41-.59l7.78-7.78 2.81-2.81c.8-.78.8-2.07 0-2.86zM5.41 20L4 18.59l7.72-7.72 1.47 1.35L5.41 20z\"/>\n",
              "  </svg>\n",
              "      </button>\n",
              "      \n",
              "  <style>\n",
              "    .colab-df-container {\n",
              "      display:flex;\n",
              "      flex-wrap:wrap;\n",
              "      gap: 12px;\n",
              "    }\n",
              "\n",
              "    .colab-df-convert {\n",
              "      background-color: #E8F0FE;\n",
              "      border: none;\n",
              "      border-radius: 50%;\n",
              "      cursor: pointer;\n",
              "      display: none;\n",
              "      fill: #1967D2;\n",
              "      height: 32px;\n",
              "      padding: 0 0 0 0;\n",
              "      width: 32px;\n",
              "    }\n",
              "\n",
              "    .colab-df-convert:hover {\n",
              "      background-color: #E2EBFA;\n",
              "      box-shadow: 0px 1px 2px rgba(60, 64, 67, 0.3), 0px 1px 3px 1px rgba(60, 64, 67, 0.15);\n",
              "      fill: #174EA6;\n",
              "    }\n",
              "\n",
              "    [theme=dark] .colab-df-convert {\n",
              "      background-color: #3B4455;\n",
              "      fill: #D2E3FC;\n",
              "    }\n",
              "\n",
              "    [theme=dark] .colab-df-convert:hover {\n",
              "      background-color: #434B5C;\n",
              "      box-shadow: 0px 1px 3px 1px rgba(0, 0, 0, 0.15);\n",
              "      filter: drop-shadow(0px 1px 2px rgba(0, 0, 0, 0.3));\n",
              "      fill: #FFFFFF;\n",
              "    }\n",
              "  </style>\n",
              "\n",
              "      <script>\n",
              "        const buttonEl =\n",
              "          document.querySelector('#df-dcaa6bac-1242-4488-926a-b4219faf4205 button.colab-df-convert');\n",
              "        buttonEl.style.display =\n",
              "          google.colab.kernel.accessAllowed ? 'block' : 'none';\n",
              "\n",
              "        async function convertToInteractive(key) {\n",
              "          const element = document.querySelector('#df-dcaa6bac-1242-4488-926a-b4219faf4205');\n",
              "          const dataTable =\n",
              "            await google.colab.kernel.invokeFunction('convertToInteractive',\n",
              "                                                     [key], {});\n",
              "          if (!dataTable) return;\n",
              "\n",
              "          const docLinkHtml = 'Like what you see? Visit the ' +\n",
              "            '<a target=\"_blank\" href=https://colab.research.google.com/notebooks/data_table.ipynb>data table notebook</a>'\n",
              "            + ' to learn more about interactive tables.';\n",
              "          element.innerHTML = '';\n",
              "          dataTable['output_type'] = 'display_data';\n",
              "          await google.colab.output.renderOutput(dataTable, element);\n",
              "          const docLink = document.createElement('div');\n",
              "          docLink.innerHTML = docLinkHtml;\n",
              "          element.appendChild(docLink);\n",
              "        }\n",
              "      </script>\n",
              "    </div>\n",
              "  </div>\n",
              "  "
            ],
            "text/plain": [
              "   Severity  Number_of_accidents\n",
              "0         2              1212382\n",
              "1         3               161052\n",
              "2         4               114452\n",
              "3         1                28178"
            ]
          },
          "metadata": {},
          "execution_count": 52
        }
      ]
    },
    {
      "cell_type": "code",
      "source": [
        "fig,ax = plt.subplots(figsize = (10,5))\n",
        "\n",
        "perc= [round(x/sum(df_severity['Number_of_accidents'])*100) for x in df_severity['Number_of_accidents']] \n",
        "\n",
        "\n",
        "squarify.plot(sizes=perc,\n",
        "              label=[f'Moderate {perc[0]}%',f'Mild\\n{perc[1]}%',f'Severe\\n{perc[2]}%',f'Very Severe\\n{perc[3]}%'],\n",
        "              color=['#ffff00', '#d5ff00', '#ffc000', '#ff8000'],\n",
        "              alpha=0.5)\n",
        "plt.axis('off')\n",
        "plt.show()"
      ],
      "metadata": {
        "colab": {
          "base_uri": "https://localhost:8080/",
          "height": 303
        },
        "id": "0LnBhCzmmNEE",
        "outputId": "e38218b8-ab69-45f2-fccd-85521fa80ef2"
      },
      "execution_count": null,
      "outputs": [
        {
          "output_type": "display_data",
          "data": {
            "image/png": "[encoded data removed]",
            "text/plain": [
              "<Figure size 720x360 with 1 Axes>"
            ]
          },
          "metadata": {
            "needs_background": "light"
          }
        }
      ]
    },
    {
      "cell_type": "markdown",
      "source": [
        "#### Duration"
      ],
      "metadata": {
        "id": "JAfo3H-ODggJ"
      }
    },
    {
      "cell_type": "code",
      "source": [
        "df_duration= pd.DataFrame()\n",
        "df_duration['Time_Diff']= (df['End_Time']-df['Start_Time']).dt.seconds//(60*60)\n",
        "df_duration= pd.DataFrame(df_duration.value_counts())\n",
        "df_duration= df_duration.reset_index().rename(columns={'Time_Diff':'Hours',0:'Number_of_accidents'})\n",
        "df_duration['Hours']= df_duration['Hours'].apply(lambda x: str(x))"
      ],
      "metadata": {
        "id": "g9u6jG4GDeyM"
      },
      "execution_count": null,
      "outputs": []
    },
    {
      "cell_type": "code",
      "source": [
        "fig,ax = plt.subplots(figsize = (10,5))\n",
        "chart= sns.barplot(y='Hours',\n",
        "            x='Number_of_accidents',\n",
        "            data=df_duration[:5],\n",
        "            color='grey')\n",
        "\n",
        "total_accidents=len(df)\n",
        "i=0\n",
        "for c in chart.patches:\n",
        "    width = c.get_width()\n",
        "    height = c.get_height()\n",
        "    x, y = c.get_xy()\n",
        "    plt.text(x+width/2,\n",
        "             y+height-0.25,\n",
        "             str(round(df_duration['Number_of_accidents'][i]/total_accidents*100,2))+\"%\",\n",
        "             size=12, c='white')\n",
        "    i+=1"
      ],
      "metadata": {
        "colab": {
          "base_uri": "https://localhost:8080/",
          "height": 335
        },
        "id": "v4PbNkvFWGOt",
        "outputId": "7678f2c4-2de6-4bd7-c44a-9d053a26a691"
      },
      "execution_count": null,
      "outputs": [
        {
          "output_type": "display_data",
          "data": {
            "image/png": "[encoded data removed]",
            "text/plain": [
              "<Figure size 720x360 with 1 Axes>"
            ]
          },
          "metadata": {
            "needs_background": "light"
          }
        }
      ]
    },
    {
      "cell_type": "markdown",
      "source": [
        "## Insights"
      ],
      "metadata": {
        "id": "IACmXlj8Btjr"
      }
    },
    {
      "cell_type": "code",
      "source": [
        ""
      ],
      "metadata": {
        "id": "HbV2rJWsadT5"
      },
      "execution_count": null,
      "outputs": []
    }
  ]
}