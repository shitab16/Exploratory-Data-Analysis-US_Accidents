{
  "nbformat": 4,
  "nbformat_minor": 0,
  "metadata": {
    "colab": {
      "name": "EDA-US-Accidents.ipynb",
      "provenance": [],
      "collapsed_sections": [],
      "toc_visible": true
    },
    "kernelspec": {
      "name": "python3",
      "display_name": "Python 3"
    },
    "language_info": {
      "name": "python"
    }
  },
  "cells": [
    {
      "cell_type": "markdown",
      "source": [
        "# US Accident Exploratory Data Analysis"
      ],
      "metadata": {
        "id": "W8cofBZEBtRJ"
      }
    },
    {
      "cell_type": "code",
      "source": [
        "!pip install opendatasets --upgrade --quiet\n",
        "!pip install geopandas --quiet\n",
        "!pip install squarify --quiet"
      ],
      "metadata": {
        "id": "iTr7Ba0fuNxQ",
        "colab": {
          "base_uri": "https://localhost:8080/"
        },
        "outputId": "8469d5c2-e4ab-42cd-b9dd-bce89fc10c02"
      },
      "execution_count": 3,
      "outputs": [
        {
          "output_type": "stream",
          "name": "stdout",
          "text": [
            "\u001b[K     |████████████████████████████████| 1.0 MB 7.4 MB/s \n",
            "\u001b[K     |████████████████████████████████| 6.3 MB 35.9 MB/s \n",
            "\u001b[K     |████████████████████████████████| 15.4 MB 45.2 MB/s \n",
            "\u001b[?25h"
          ]
        }
      ]
    },
    {
      "cell_type": "code",
      "source": [
        "import opendatasets\n",
        "import pandas as pd\n",
        "import matplotlib\n",
        "import matplotlib.pyplot as plt\n",
        "import seaborn as sns\n",
        "import re\n",
        "import geopandas as gpd\n",
        "from shapely.geometry import Point\n",
        "import squarify"
      ],
      "metadata": {
        "id": "ioQHkhGf3WzO"
      },
      "execution_count": 4,
      "outputs": []
    },
    {
      "cell_type": "markdown",
      "source": [
        "## Data Preparation and Cleaning"
      ],
      "metadata": {
        "id": "tgk_7PcGBtX4"
      }
    },
    {
      "cell_type": "markdown",
      "source": [
        "#### Download Data"
      ],
      "metadata": {
        "id": "d7EhJGbMibNf"
      }
    },
    {
      "cell_type": "code",
      "source": [
        "#adding data source url from kaggle\n",
        "source_url= \"https://www.kaggle.com/sobhanmoosavi/us-accidents\"\n",
        "\n",
        "#downloading dataset. user_id and API key is available at 'yourKaggleProfile'>AccountSetting>API>CreateNewAPItoken\n",
        "opendatasets.download(source_url)"
      ],
      "metadata": {
        "colab": {
          "base_uri": "https://localhost:8080/"
        },
        "id": "j9mCO_HMC_b8",
        "outputId": "e30995ed-3d69-467f-cd8d-21a8f4303b4f"
      },
      "execution_count": 5,
      "outputs": [
        {
          "output_type": "stream",
          "name": "stdout",
          "text": [
            "Please provide your Kaggle credentials to download this dataset. Learn more: http://bit.ly/kaggle-creds\n",
            "Your Kaggle username: shitabtanzim\n",
            "Your Kaggle Key: ··········\n",
            "Downloading us-accidents.zip to ./us-accidents\n"
          ]
        },
        {
          "output_type": "stream",
          "name": "stderr",
          "text": [
            "100%|██████████| 117M/117M [00:00<00:00, 188MB/s]\n"
          ]
        },
        {
          "output_type": "stream",
          "name": "stdout",
          "text": [
            "\n"
          ]
        }
      ]
    },
    {
      "cell_type": "code",
      "source": [
        "#adding file path\n",
        "filename= \"./us-accidents/US_Accidents_Dec20_updated.csv\" "
      ],
      "metadata": {
        "id": "7oN56_WCC_Y0"
      },
      "execution_count": 6,
      "outputs": []
    },
    {
      "cell_type": "code",
      "source": [
        "#importing data file as a pandas dataframe\n",
        "df= pd.read_csv(filename)"
      ],
      "metadata": {
        "id": "kBnGvZTA3TL8"
      },
      "execution_count": 7,
      "outputs": []
    },
    {
      "cell_type": "markdown",
      "source": [
        "#### Basic informations about the data"
      ],
      "metadata": {
        "id": "0V4Etcwdo-nA"
      }
    },
    {
      "cell_type": "code",
      "source": [
        "df.head(3)"
      ],
      "metadata": {
        "colab": {
          "base_uri": "https://localhost:8080/",
          "height": 346
        },
        "id": "bEBWHVqG0UDK",
        "outputId": "6c9aa869-3ed2-4ddb-c256-4ddce2c344e9"
      },
      "execution_count": 8,
      "outputs": [
        {
          "output_type": "execute_result",
          "data": {
            "text/html": [
              "\n",
              "  <div id=\"df-9e45306e-966a-463e-a7df-300fbd75adb8\">\n",
              "    <div class=\"colab-df-container\">\n",
              "      <div>\n",
              "<style scoped>\n",
              "    .dataframe tbody tr th:only-of-type {\n",
              "        vertical-align: middle;\n",
              "    }\n",
              "\n",
              "    .dataframe tbody tr th {\n",
              "        vertical-align: top;\n",
              "    }\n",
              "\n",
              "    .dataframe thead th {\n",
              "        text-align: right;\n",
              "    }\n",
              "</style>\n",
              "<table border=\"1\" class=\"dataframe\">\n",
              "  <thead>\n",
              "    <tr style=\"text-align: right;\">\n",
              "      <th></th>\n",
              "      <th>ID</th>\n",
              "      <th>Severity</th>\n",
              "      <th>Start_Time</th>\n",
              "      <th>End_Time</th>\n",
              "      <th>Start_Lat</th>\n",
              "      <th>Start_Lng</th>\n",
              "      <th>End_Lat</th>\n",
              "      <th>End_Lng</th>\n",
              "      <th>Distance(mi)</th>\n",
              "      <th>Description</th>\n",
              "      <th>Number</th>\n",
              "      <th>Street</th>\n",
              "      <th>Side</th>\n",
              "      <th>City</th>\n",
              "      <th>County</th>\n",
              "      <th>State</th>\n",
              "      <th>Zipcode</th>\n",
              "      <th>Country</th>\n",
              "      <th>Timezone</th>\n",
              "      <th>Airport_Code</th>\n",
              "      <th>Weather_Timestamp</th>\n",
              "      <th>Temperature(F)</th>\n",
              "      <th>Wind_Chill(F)</th>\n",
              "      <th>Humidity(%)</th>\n",
              "      <th>Pressure(in)</th>\n",
              "      <th>Visibility(mi)</th>\n",
              "      <th>Wind_Direction</th>\n",
              "      <th>Wind_Speed(mph)</th>\n",
              "      <th>Precipitation(in)</th>\n",
              "      <th>Weather_Condition</th>\n",
              "      <th>Amenity</th>\n",
              "      <th>Bump</th>\n",
              "      <th>Crossing</th>\n",
              "      <th>Give_Way</th>\n",
              "      <th>Junction</th>\n",
              "      <th>No_Exit</th>\n",
              "      <th>Railway</th>\n",
              "      <th>Roundabout</th>\n",
              "      <th>Station</th>\n",
              "      <th>Stop</th>\n",
              "      <th>Traffic_Calming</th>\n",
              "      <th>Traffic_Signal</th>\n",
              "      <th>Turning_Loop</th>\n",
              "      <th>Sunrise_Sunset</th>\n",
              "      <th>Civil_Twilight</th>\n",
              "      <th>Nautical_Twilight</th>\n",
              "      <th>Astronomical_Twilight</th>\n",
              "    </tr>\n",
              "  </thead>\n",
              "  <tbody>\n",
              "    <tr>\n",
              "      <th>0</th>\n",
              "      <td>A-2716600</td>\n",
              "      <td>3</td>\n",
              "      <td>2016-02-08 00:37:08</td>\n",
              "      <td>2016-02-08 06:37:08</td>\n",
              "      <td>40.10891</td>\n",
              "      <td>-83.09286</td>\n",
              "      <td>40.11206</td>\n",
              "      <td>-83.03187</td>\n",
              "      <td>3.230</td>\n",
              "      <td>Between Sawmill Rd/Exit 20 and OH-315/Olentang...</td>\n",
              "      <td>NaN</td>\n",
              "      <td>Outerbelt E</td>\n",
              "      <td>R</td>\n",
              "      <td>Dublin</td>\n",
              "      <td>Franklin</td>\n",
              "      <td>OH</td>\n",
              "      <td>43017</td>\n",
              "      <td>US</td>\n",
              "      <td>US/Eastern</td>\n",
              "      <td>KOSU</td>\n",
              "      <td>2016-02-08 00:53:00</td>\n",
              "      <td>42.1</td>\n",
              "      <td>36.1</td>\n",
              "      <td>58.0</td>\n",
              "      <td>29.76</td>\n",
              "      <td>10.0</td>\n",
              "      <td>SW</td>\n",
              "      <td>10.4</td>\n",
              "      <td>0.00</td>\n",
              "      <td>Light Rain</td>\n",
              "      <td>False</td>\n",
              "      <td>False</td>\n",
              "      <td>False</td>\n",
              "      <td>False</td>\n",
              "      <td>False</td>\n",
              "      <td>False</td>\n",
              "      <td>False</td>\n",
              "      <td>False</td>\n",
              "      <td>False</td>\n",
              "      <td>False</td>\n",
              "      <td>False</td>\n",
              "      <td>False</td>\n",
              "      <td>False</td>\n",
              "      <td>Night</td>\n",
              "      <td>Night</td>\n",
              "      <td>Night</td>\n",
              "      <td>Night</td>\n",
              "    </tr>\n",
              "    <tr>\n",
              "      <th>1</th>\n",
              "      <td>A-2716601</td>\n",
              "      <td>2</td>\n",
              "      <td>2016-02-08 05:56:20</td>\n",
              "      <td>2016-02-08 11:56:20</td>\n",
              "      <td>39.86542</td>\n",
              "      <td>-84.06280</td>\n",
              "      <td>39.86501</td>\n",
              "      <td>-84.04873</td>\n",
              "      <td>0.747</td>\n",
              "      <td>At OH-4/OH-235/Exit 41 - Accident.</td>\n",
              "      <td>NaN</td>\n",
              "      <td>I-70 E</td>\n",
              "      <td>R</td>\n",
              "      <td>Dayton</td>\n",
              "      <td>Montgomery</td>\n",
              "      <td>OH</td>\n",
              "      <td>45424</td>\n",
              "      <td>US</td>\n",
              "      <td>US/Eastern</td>\n",
              "      <td>KFFO</td>\n",
              "      <td>2016-02-08 05:58:00</td>\n",
              "      <td>36.9</td>\n",
              "      <td>NaN</td>\n",
              "      <td>91.0</td>\n",
              "      <td>29.68</td>\n",
              "      <td>10.0</td>\n",
              "      <td>Calm</td>\n",
              "      <td>NaN</td>\n",
              "      <td>0.02</td>\n",
              "      <td>Light Rain</td>\n",
              "      <td>False</td>\n",
              "      <td>False</td>\n",
              "      <td>False</td>\n",
              "      <td>False</td>\n",
              "      <td>False</td>\n",
              "      <td>False</td>\n",
              "      <td>False</td>\n",
              "      <td>False</td>\n",
              "      <td>False</td>\n",
              "      <td>False</td>\n",
              "      <td>False</td>\n",
              "      <td>False</td>\n",
              "      <td>False</td>\n",
              "      <td>Night</td>\n",
              "      <td>Night</td>\n",
              "      <td>Night</td>\n",
              "      <td>Night</td>\n",
              "    </tr>\n",
              "    <tr>\n",
              "      <th>2</th>\n",
              "      <td>A-2716602</td>\n",
              "      <td>2</td>\n",
              "      <td>2016-02-08 06:15:39</td>\n",
              "      <td>2016-02-08 12:15:39</td>\n",
              "      <td>39.10266</td>\n",
              "      <td>-84.52468</td>\n",
              "      <td>39.10209</td>\n",
              "      <td>-84.52396</td>\n",
              "      <td>0.055</td>\n",
              "      <td>At I-71/US-50/Exit 1 - Accident.</td>\n",
              "      <td>NaN</td>\n",
              "      <td>I-75 S</td>\n",
              "      <td>R</td>\n",
              "      <td>Cincinnati</td>\n",
              "      <td>Hamilton</td>\n",
              "      <td>OH</td>\n",
              "      <td>45203</td>\n",
              "      <td>US</td>\n",
              "      <td>US/Eastern</td>\n",
              "      <td>KLUK</td>\n",
              "      <td>2016-02-08 05:53:00</td>\n",
              "      <td>36.0</td>\n",
              "      <td>NaN</td>\n",
              "      <td>97.0</td>\n",
              "      <td>29.70</td>\n",
              "      <td>10.0</td>\n",
              "      <td>Calm</td>\n",
              "      <td>NaN</td>\n",
              "      <td>0.02</td>\n",
              "      <td>Overcast</td>\n",
              "      <td>False</td>\n",
              "      <td>False</td>\n",
              "      <td>False</td>\n",
              "      <td>False</td>\n",
              "      <td>True</td>\n",
              "      <td>False</td>\n",
              "      <td>False</td>\n",
              "      <td>False</td>\n",
              "      <td>False</td>\n",
              "      <td>False</td>\n",
              "      <td>False</td>\n",
              "      <td>False</td>\n",
              "      <td>False</td>\n",
              "      <td>Night</td>\n",
              "      <td>Night</td>\n",
              "      <td>Night</td>\n",
              "      <td>Day</td>\n",
              "    </tr>\n",
              "  </tbody>\n",
              "</table>\n",
              "</div>\n",
              "      <button class=\"colab-df-convert\" onclick=\"convertToInteractive('df-9e45306e-966a-463e-a7df-300fbd75adb8')\"\n",
              "              title=\"Convert this dataframe to an interactive table.\"\n",
              "              style=\"display:none;\">\n",
              "        \n",
              "  <svg xmlns=\"http://www.w3.org/2000/svg\" height=\"24px\"viewBox=\"0 0 24 24\"\n",
              "       width=\"24px\">\n",
              "    <path d=\"M0 0h24v24H0V0z\" fill=\"none\"/>\n",
              "    <path d=\"M18.56 5.44l.94 2.06.94-2.06 2.06-.94-2.06-.94-.94-2.06-.94 2.06-2.06.94zm-11 1L8.5 8.5l.94-2.06 2.06-.94-2.06-.94L8.5 2.5l-.94 2.06-2.06.94zm10 10l.94 2.06.94-2.06 2.06-.94-2.06-.94-.94-2.06-.94 2.06-2.06.94z\"/><path d=\"M17.41 7.96l-1.37-1.37c-.4-.4-.92-.59-1.43-.59-.52 0-1.04.2-1.43.59L10.3 9.45l-7.72 7.72c-.78.78-.78 2.05 0 2.83L4 21.41c.39.39.9.59 1.41.59.51 0 1.02-.2 1.41-.59l7.78-7.78 2.81-2.81c.8-.78.8-2.07 0-2.86zM5.41 20L4 18.59l7.72-7.72 1.47 1.35L5.41 20z\"/>\n",
              "  </svg>\n",
              "      </button>\n",
              "      \n",
              "  <style>\n",
              "    .colab-df-container {\n",
              "      display:flex;\n",
              "      flex-wrap:wrap;\n",
              "      gap: 12px;\n",
              "    }\n",
              "\n",
              "    .colab-df-convert {\n",
              "      background-color: #E8F0FE;\n",
              "      border: none;\n",
              "      border-radius: 50%;\n",
              "      cursor: pointer;\n",
              "      display: none;\n",
              "      fill: #1967D2;\n",
              "      height: 32px;\n",
              "      padding: 0 0 0 0;\n",
              "      width: 32px;\n",
              "    }\n",
              "\n",
              "    .colab-df-convert:hover {\n",
              "      background-color: #E2EBFA;\n",
              "      box-shadow: 0px 1px 2px rgba(60, 64, 67, 0.3), 0px 1px 3px 1px rgba(60, 64, 67, 0.15);\n",
              "      fill: #174EA6;\n",
              "    }\n",
              "\n",
              "    [theme=dark] .colab-df-convert {\n",
              "      background-color: #3B4455;\n",
              "      fill: #D2E3FC;\n",
              "    }\n",
              "\n",
              "    [theme=dark] .colab-df-convert:hover {\n",
              "      background-color: #434B5C;\n",
              "      box-shadow: 0px 1px 3px 1px rgba(0, 0, 0, 0.15);\n",
              "      filter: drop-shadow(0px 1px 2px rgba(0, 0, 0, 0.3));\n",
              "      fill: #FFFFFF;\n",
              "    }\n",
              "  </style>\n",
              "\n",
              "      <script>\n",
              "        const buttonEl =\n",
              "          document.querySelector('#df-9e45306e-966a-463e-a7df-300fbd75adb8 button.colab-df-convert');\n",
              "        buttonEl.style.display =\n",
              "          google.colab.kernel.accessAllowed ? 'block' : 'none';\n",
              "\n",
              "        async function convertToInteractive(key) {\n",
              "          const element = document.querySelector('#df-9e45306e-966a-463e-a7df-300fbd75adb8');\n",
              "          const dataTable =\n",
              "            await google.colab.kernel.invokeFunction('convertToInteractive',\n",
              "                                                     [key], {});\n",
              "          if (!dataTable) return;\n",
              "\n",
              "          const docLinkHtml = 'Like what you see? Visit the ' +\n",
              "            '<a target=\"_blank\" href=https://colab.research.google.com/notebooks/data_table.ipynb>data table notebook</a>'\n",
              "            + ' to learn more about interactive tables.';\n",
              "          element.innerHTML = '';\n",
              "          dataTable['output_type'] = 'display_data';\n",
              "          await google.colab.output.renderOutput(dataTable, element);\n",
              "          const docLink = document.createElement('div');\n",
              "          docLink.innerHTML = docLinkHtml;\n",
              "          element.appendChild(docLink);\n",
              "        }\n",
              "      </script>\n",
              "    </div>\n",
              "  </div>\n",
              "  "
            ],
            "text/plain": [
              "          ID  Severity  ... Nautical_Twilight Astronomical_Twilight\n",
              "0  A-2716600         3  ...             Night                 Night\n",
              "1  A-2716601         2  ...             Night                 Night\n",
              "2  A-2716602         2  ...             Night                   Day\n",
              "\n",
              "[3 rows x 47 columns]"
            ]
          },
          "metadata": {},
          "execution_count": 8
        }
      ]
    },
    {
      "cell_type": "code",
      "source": [
        "print(f'Number of rows: {df.shape[0]}\\nNumber of columns: {df.shape[1]}')"
      ],
      "metadata": {
        "colab": {
          "base_uri": "https://localhost:8080/"
        },
        "id": "STS6nHrcoukp",
        "outputId": "20a15278-ebbf-4155-d739-89c5d2572fa6"
      },
      "execution_count": 9,
      "outputs": [
        {
          "output_type": "stream",
          "name": "stdout",
          "text": [
            "Number of rows: 1516064\n",
            "Number of columns: 47\n"
          ]
        }
      ]
    },
    {
      "cell_type": "code",
      "source": [
        "df.columns"
      ],
      "metadata": {
        "colab": {
          "base_uri": "https://localhost:8080/"
        },
        "id": "XnuPmqEqqQHQ",
        "outputId": "a293f319-1d14-405a-d7b2-b6afdbbf75e2"
      },
      "execution_count": 10,
      "outputs": [
        {
          "output_type": "execute_result",
          "data": {
            "text/plain": [
              "Index(['ID', 'Severity', 'Start_Time', 'End_Time', 'Start_Lat', 'Start_Lng',\n",
              "       'End_Lat', 'End_Lng', 'Distance(mi)', 'Description', 'Number', 'Street',\n",
              "       'Side', 'City', 'County', 'State', 'Zipcode', 'Country', 'Timezone',\n",
              "       'Airport_Code', 'Weather_Timestamp', 'Temperature(F)', 'Wind_Chill(F)',\n",
              "       'Humidity(%)', 'Pressure(in)', 'Visibility(mi)', 'Wind_Direction',\n",
              "       'Wind_Speed(mph)', 'Precipitation(in)', 'Weather_Condition', 'Amenity',\n",
              "       'Bump', 'Crossing', 'Give_Way', 'Junction', 'No_Exit', 'Railway',\n",
              "       'Roundabout', 'Station', 'Stop', 'Traffic_Calming', 'Traffic_Signal',\n",
              "       'Turning_Loop', 'Sunrise_Sunset', 'Civil_Twilight', 'Nautical_Twilight',\n",
              "       'Astronomical_Twilight'],\n",
              "      dtype='object')"
            ]
          },
          "metadata": {},
          "execution_count": 10
        }
      ]
    },
    {
      "cell_type": "code",
      "source": [
        "#printing each column name, it's first value, and it's datatype\n",
        "for c in df.columns:\n",
        "  print(c, df[c][0], type(df[c][0]), sep=\"\\t\")"
      ],
      "metadata": {
        "id": "N81bpQAcb2ff",
        "colab": {
          "base_uri": "https://localhost:8080/"
        },
        "outputId": "54c449f1-c2e0-4e74-bfa2-fc0c431c3927"
      },
      "execution_count": 11,
      "outputs": [
        {
          "output_type": "stream",
          "name": "stdout",
          "text": [
            "ID\tA-2716600\t<class 'str'>\n",
            "Severity\t3\t<class 'numpy.int64'>\n",
            "Start_Time\t2016-02-08 00:37:08\t<class 'str'>\n",
            "End_Time\t2016-02-08 06:37:08\t<class 'str'>\n",
            "Start_Lat\t40.10891\t<class 'numpy.float64'>\n",
            "Start_Lng\t-83.09286\t<class 'numpy.float64'>\n",
            "End_Lat\t40.11206\t<class 'numpy.float64'>\n",
            "End_Lng\t-83.03187\t<class 'numpy.float64'>\n",
            "Distance(mi)\t3.23\t<class 'numpy.float64'>\n",
            "Description\tBetween Sawmill Rd/Exit 20 and OH-315/Olentangy Riv Rd/Exit 22 - Accident.\t<class 'str'>\n",
            "Number\tnan\t<class 'numpy.float64'>\n",
            "Street\tOuterbelt E\t<class 'str'>\n",
            "Side\tR\t<class 'str'>\n",
            "City\tDublin\t<class 'str'>\n",
            "County\tFranklin\t<class 'str'>\n",
            "State\tOH\t<class 'str'>\n",
            "Zipcode\t43017\t<class 'str'>\n",
            "Country\tUS\t<class 'str'>\n",
            "Timezone\tUS/Eastern\t<class 'str'>\n",
            "Airport_Code\tKOSU\t<class 'str'>\n",
            "Weather_Timestamp\t2016-02-08 00:53:00\t<class 'str'>\n",
            "Temperature(F)\t42.1\t<class 'numpy.float64'>\n",
            "Wind_Chill(F)\t36.1\t<class 'numpy.float64'>\n",
            "Humidity(%)\t58.0\t<class 'numpy.float64'>\n",
            "Pressure(in)\t29.76\t<class 'numpy.float64'>\n",
            "Visibility(mi)\t10.0\t<class 'numpy.float64'>\n",
            "Wind_Direction\tSW\t<class 'str'>\n",
            "Wind_Speed(mph)\t10.4\t<class 'numpy.float64'>\n",
            "Precipitation(in)\t0.0\t<class 'numpy.float64'>\n",
            "Weather_Condition\tLight Rain\t<class 'str'>\n",
            "Amenity\tFalse\t<class 'numpy.bool_'>\n",
            "Bump\tFalse\t<class 'numpy.bool_'>\n",
            "Crossing\tFalse\t<class 'numpy.bool_'>\n",
            "Give_Way\tFalse\t<class 'numpy.bool_'>\n",
            "Junction\tFalse\t<class 'numpy.bool_'>\n",
            "No_Exit\tFalse\t<class 'numpy.bool_'>\n",
            "Railway\tFalse\t<class 'numpy.bool_'>\n",
            "Roundabout\tFalse\t<class 'numpy.bool_'>\n",
            "Station\tFalse\t<class 'numpy.bool_'>\n",
            "Stop\tFalse\t<class 'numpy.bool_'>\n",
            "Traffic_Calming\tFalse\t<class 'numpy.bool_'>\n",
            "Traffic_Signal\tFalse\t<class 'numpy.bool_'>\n",
            "Turning_Loop\tFalse\t<class 'numpy.bool_'>\n",
            "Sunrise_Sunset\tNight\t<class 'str'>\n",
            "Civil_Twilight\tNight\t<class 'str'>\n",
            "Nautical_Twilight\tNight\t<class 'str'>\n",
            "Astronomical_Twilight\tNight\t<class 'str'>\n"
          ]
        }
      ]
    },
    {
      "cell_type": "code",
      "source": [
        "# basics statistical detail of the numerical columns\n",
        "df.describe()"
      ],
      "metadata": {
        "colab": {
          "base_uri": "https://localhost:8080/",
          "height": 364
        },
        "id": "wBK0lPxxpd9j",
        "outputId": "d8130c7c-35ac-48d8-9d64-2319ec5a7ace"
      },
      "execution_count": 12,
      "outputs": [
        {
          "output_type": "execute_result",
          "data": {
            "text/html": [
              "\n",
              "  <div id=\"df-0443cf49-e21a-4d5d-91ce-e7e590bf8d70\">\n",
              "    <div class=\"colab-df-container\">\n",
              "      <div>\n",
              "<style scoped>\n",
              "    .dataframe tbody tr th:only-of-type {\n",
              "        vertical-align: middle;\n",
              "    }\n",
              "\n",
              "    .dataframe tbody tr th {\n",
              "        vertical-align: top;\n",
              "    }\n",
              "\n",
              "    .dataframe thead th {\n",
              "        text-align: right;\n",
              "    }\n",
              "</style>\n",
              "<table border=\"1\" class=\"dataframe\">\n",
              "  <thead>\n",
              "    <tr style=\"text-align: right;\">\n",
              "      <th></th>\n",
              "      <th>Severity</th>\n",
              "      <th>Start_Lat</th>\n",
              "      <th>Start_Lng</th>\n",
              "      <th>End_Lat</th>\n",
              "      <th>End_Lng</th>\n",
              "      <th>Distance(mi)</th>\n",
              "      <th>Number</th>\n",
              "      <th>Temperature(F)</th>\n",
              "      <th>Wind_Chill(F)</th>\n",
              "      <th>Humidity(%)</th>\n",
              "      <th>Pressure(in)</th>\n",
              "      <th>Visibility(mi)</th>\n",
              "      <th>Wind_Speed(mph)</th>\n",
              "      <th>Precipitation(in)</th>\n",
              "    </tr>\n",
              "  </thead>\n",
              "  <tbody>\n",
              "    <tr>\n",
              "      <th>count</th>\n",
              "      <td>1.516064e+06</td>\n",
              "      <td>1.516064e+06</td>\n",
              "      <td>1.516064e+06</td>\n",
              "      <td>1.516064e+06</td>\n",
              "      <td>1.516064e+06</td>\n",
              "      <td>1.516064e+06</td>\n",
              "      <td>4.699690e+05</td>\n",
              "      <td>1.473031e+06</td>\n",
              "      <td>1.066748e+06</td>\n",
              "      <td>1.470555e+06</td>\n",
              "      <td>1.479790e+06</td>\n",
              "      <td>1.471853e+06</td>\n",
              "      <td>1.387202e+06</td>\n",
              "      <td>1.005515e+06</td>\n",
              "    </tr>\n",
              "    <tr>\n",
              "      <th>mean</th>\n",
              "      <td>2.238630e+00</td>\n",
              "      <td>3.690056e+01</td>\n",
              "      <td>-9.859919e+01</td>\n",
              "      <td>3.690061e+01</td>\n",
              "      <td>-9.859901e+01</td>\n",
              "      <td>5.872617e-01</td>\n",
              "      <td>8.907533e+03</td>\n",
              "      <td>5.958460e+01</td>\n",
              "      <td>5.510976e+01</td>\n",
              "      <td>6.465960e+01</td>\n",
              "      <td>2.955495e+01</td>\n",
              "      <td>9.131755e+00</td>\n",
              "      <td>7.630812e+00</td>\n",
              "      <td>8.477855e-03</td>\n",
              "    </tr>\n",
              "    <tr>\n",
              "      <th>std</th>\n",
              "      <td>6.081481e-01</td>\n",
              "      <td>5.165653e+00</td>\n",
              "      <td>1.849602e+01</td>\n",
              "      <td>5.165629e+00</td>\n",
              "      <td>1.849590e+01</td>\n",
              "      <td>1.632659e+00</td>\n",
              "      <td>2.242190e+04</td>\n",
              "      <td>1.827316e+01</td>\n",
              "      <td>2.112735e+01</td>\n",
              "      <td>2.325986e+01</td>\n",
              "      <td>1.016756e+00</td>\n",
              "      <td>2.889112e+00</td>\n",
              "      <td>5.637364e+00</td>\n",
              "      <td>1.293168e-01</td>\n",
              "    </tr>\n",
              "    <tr>\n",
              "      <th>min</th>\n",
              "      <td>1.000000e+00</td>\n",
              "      <td>2.457022e+01</td>\n",
              "      <td>-1.244976e+02</td>\n",
              "      <td>2.457011e+01</td>\n",
              "      <td>-1.244978e+02</td>\n",
              "      <td>0.000000e+00</td>\n",
              "      <td>0.000000e+00</td>\n",
              "      <td>-8.900000e+01</td>\n",
              "      <td>-8.900000e+01</td>\n",
              "      <td>1.000000e+00</td>\n",
              "      <td>0.000000e+00</td>\n",
              "      <td>0.000000e+00</td>\n",
              "      <td>0.000000e+00</td>\n",
              "      <td>0.000000e+00</td>\n",
              "    </tr>\n",
              "    <tr>\n",
              "      <th>25%</th>\n",
              "      <td>2.000000e+00</td>\n",
              "      <td>3.385422e+01</td>\n",
              "      <td>-1.182076e+02</td>\n",
              "      <td>3.385420e+01</td>\n",
              "      <td>-1.182077e+02</td>\n",
              "      <td>0.000000e+00</td>\n",
              "      <td>1.212000e+03</td>\n",
              "      <td>4.700000e+01</td>\n",
              "      <td>4.080000e+01</td>\n",
              "      <td>4.800000e+01</td>\n",
              "      <td>2.944000e+01</td>\n",
              "      <td>1.000000e+01</td>\n",
              "      <td>4.600000e+00</td>\n",
              "      <td>0.000000e+00</td>\n",
              "    </tr>\n",
              "    <tr>\n",
              "      <th>50%</th>\n",
              "      <td>2.000000e+00</td>\n",
              "      <td>3.735113e+01</td>\n",
              "      <td>-9.438100e+01</td>\n",
              "      <td>3.735134e+01</td>\n",
              "      <td>-9.437987e+01</td>\n",
              "      <td>1.780000e-01</td>\n",
              "      <td>4.000000e+03</td>\n",
              "      <td>6.100000e+01</td>\n",
              "      <td>5.700000e+01</td>\n",
              "      <td>6.800000e+01</td>\n",
              "      <td>2.988000e+01</td>\n",
              "      <td>1.000000e+01</td>\n",
              "      <td>7.000000e+00</td>\n",
              "      <td>0.000000e+00</td>\n",
              "    </tr>\n",
              "    <tr>\n",
              "      <th>75%</th>\n",
              "      <td>2.000000e+00</td>\n",
              "      <td>4.072593e+01</td>\n",
              "      <td>-8.087469e+01</td>\n",
              "      <td>4.072593e+01</td>\n",
              "      <td>-8.087449e+01</td>\n",
              "      <td>5.940000e-01</td>\n",
              "      <td>1.010000e+04</td>\n",
              "      <td>7.300000e+01</td>\n",
              "      <td>7.100000e+01</td>\n",
              "      <td>8.400000e+01</td>\n",
              "      <td>3.004000e+01</td>\n",
              "      <td>1.000000e+01</td>\n",
              "      <td>1.040000e+01</td>\n",
              "      <td>0.000000e+00</td>\n",
              "    </tr>\n",
              "    <tr>\n",
              "      <th>max</th>\n",
              "      <td>4.000000e+00</td>\n",
              "      <td>4.900058e+01</td>\n",
              "      <td>-6.711317e+01</td>\n",
              "      <td>4.907500e+01</td>\n",
              "      <td>-6.710924e+01</td>\n",
              "      <td>1.551860e+02</td>\n",
              "      <td>9.999997e+06</td>\n",
              "      <td>1.706000e+02</td>\n",
              "      <td>1.130000e+02</td>\n",
              "      <td>1.000000e+02</td>\n",
              "      <td>5.804000e+01</td>\n",
              "      <td>1.400000e+02</td>\n",
              "      <td>9.840000e+02</td>\n",
              "      <td>2.400000e+01</td>\n",
              "    </tr>\n",
              "  </tbody>\n",
              "</table>\n",
              "</div>\n",
              "      <button class=\"colab-df-convert\" onclick=\"convertToInteractive('df-0443cf49-e21a-4d5d-91ce-e7e590bf8d70')\"\n",
              "              title=\"Convert this dataframe to an interactive table.\"\n",
              "              style=\"display:none;\">\n",
              "        \n",
              "  <svg xmlns=\"http://www.w3.org/2000/svg\" height=\"24px\"viewBox=\"0 0 24 24\"\n",
              "       width=\"24px\">\n",
              "    <path d=\"M0 0h24v24H0V0z\" fill=\"none\"/>\n",
              "    <path d=\"M18.56 5.44l.94 2.06.94-2.06 2.06-.94-2.06-.94-.94-2.06-.94 2.06-2.06.94zm-11 1L8.5 8.5l.94-2.06 2.06-.94-2.06-.94L8.5 2.5l-.94 2.06-2.06.94zm10 10l.94 2.06.94-2.06 2.06-.94-2.06-.94-.94-2.06-.94 2.06-2.06.94z\"/><path d=\"M17.41 7.96l-1.37-1.37c-.4-.4-.92-.59-1.43-.59-.52 0-1.04.2-1.43.59L10.3 9.45l-7.72 7.72c-.78.78-.78 2.05 0 2.83L4 21.41c.39.39.9.59 1.41.59.51 0 1.02-.2 1.41-.59l7.78-7.78 2.81-2.81c.8-.78.8-2.07 0-2.86zM5.41 20L4 18.59l7.72-7.72 1.47 1.35L5.41 20z\"/>\n",
              "  </svg>\n",
              "      </button>\n",
              "      \n",
              "  <style>\n",
              "    .colab-df-container {\n",
              "      display:flex;\n",
              "      flex-wrap:wrap;\n",
              "      gap: 12px;\n",
              "    }\n",
              "\n",
              "    .colab-df-convert {\n",
              "      background-color: #E8F0FE;\n",
              "      border: none;\n",
              "      border-radius: 50%;\n",
              "      cursor: pointer;\n",
              "      display: none;\n",
              "      fill: #1967D2;\n",
              "      height: 32px;\n",
              "      padding: 0 0 0 0;\n",
              "      width: 32px;\n",
              "    }\n",
              "\n",
              "    .colab-df-convert:hover {\n",
              "      background-color: #E2EBFA;\n",
              "      box-shadow: 0px 1px 2px rgba(60, 64, 67, 0.3), 0px 1px 3px 1px rgba(60, 64, 67, 0.15);\n",
              "      fill: #174EA6;\n",
              "    }\n",
              "\n",
              "    [theme=dark] .colab-df-convert {\n",
              "      background-color: #3B4455;\n",
              "      fill: #D2E3FC;\n",
              "    }\n",
              "\n",
              "    [theme=dark] .colab-df-convert:hover {\n",
              "      background-color: #434B5C;\n",
              "      box-shadow: 0px 1px 3px 1px rgba(0, 0, 0, 0.15);\n",
              "      filter: drop-shadow(0px 1px 2px rgba(0, 0, 0, 0.3));\n",
              "      fill: #FFFFFF;\n",
              "    }\n",
              "  </style>\n",
              "\n",
              "      <script>\n",
              "        const buttonEl =\n",
              "          document.querySelector('#df-0443cf49-e21a-4d5d-91ce-e7e590bf8d70 button.colab-df-convert');\n",
              "        buttonEl.style.display =\n",
              "          google.colab.kernel.accessAllowed ? 'block' : 'none';\n",
              "\n",
              "        async function convertToInteractive(key) {\n",
              "          const element = document.querySelector('#df-0443cf49-e21a-4d5d-91ce-e7e590bf8d70');\n",
              "          const dataTable =\n",
              "            await google.colab.kernel.invokeFunction('convertToInteractive',\n",
              "                                                     [key], {});\n",
              "          if (!dataTable) return;\n",
              "\n",
              "          const docLinkHtml = 'Like what you see? Visit the ' +\n",
              "            '<a target=\"_blank\" href=https://colab.research.google.com/notebooks/data_table.ipynb>data table notebook</a>'\n",
              "            + ' to learn more about interactive tables.';\n",
              "          element.innerHTML = '';\n",
              "          dataTable['output_type'] = 'display_data';\n",
              "          await google.colab.output.renderOutput(dataTable, element);\n",
              "          const docLink = document.createElement('div');\n",
              "          docLink.innerHTML = docLinkHtml;\n",
              "          element.appendChild(docLink);\n",
              "        }\n",
              "      </script>\n",
              "    </div>\n",
              "  </div>\n",
              "  "
            ],
            "text/plain": [
              "           Severity     Start_Lat  ...  Wind_Speed(mph)  Precipitation(in)\n",
              "count  1.516064e+06  1.516064e+06  ...     1.387202e+06       1.005515e+06\n",
              "mean   2.238630e+00  3.690056e+01  ...     7.630812e+00       8.477855e-03\n",
              "std    6.081481e-01  5.165653e+00  ...     5.637364e+00       1.293168e-01\n",
              "min    1.000000e+00  2.457022e+01  ...     0.000000e+00       0.000000e+00\n",
              "25%    2.000000e+00  3.385422e+01  ...     4.600000e+00       0.000000e+00\n",
              "50%    2.000000e+00  3.735113e+01  ...     7.000000e+00       0.000000e+00\n",
              "75%    2.000000e+00  4.072593e+01  ...     1.040000e+01       0.000000e+00\n",
              "max    4.000000e+00  4.900058e+01  ...     9.840000e+02       2.400000e+01\n",
              "\n",
              "[8 rows x 14 columns]"
            ]
          },
          "metadata": {},
          "execution_count": 12
        }
      ]
    },
    {
      "cell_type": "code",
      "source": [
        "#columns with categorical values & no. of categories\n",
        "for x in df.select_dtypes(include=[\"object\"]).columns:\n",
        "       print(x, len(df[x].unique()), sep='---')"
      ],
      "metadata": {
        "colab": {
          "base_uri": "https://localhost:8080/"
        },
        "id": "ueEmW7_n-IK6",
        "outputId": "c7ac3bad-4756-441a-b1a5-843541ff80a8"
      },
      "execution_count": 13,
      "outputs": [
        {
          "output_type": "stream",
          "name": "stdout",
          "text": [
            "ID---1516064\n",
            "Start_Time---1037092\n",
            "End_Time---1161415\n",
            "Description---527655\n",
            "Street---93048\n",
            "Side---2\n",
            "City---10658\n",
            "County---1671\n",
            "State---49\n",
            "Zipcode---177197\n",
            "Country---1\n",
            "Timezone---5\n",
            "Airport_Code---1986\n",
            "Weather_Timestamp---331749\n",
            "Wind_Direction---25\n",
            "Weather_Condition---117\n",
            "Sunrise_Sunset---3\n",
            "Civil_Twilight---3\n",
            "Nautical_Twilight---3\n",
            "Astronomical_Twilight---3\n"
          ]
        }
      ]
    },
    {
      "cell_type": "markdown",
      "source": [
        "#### Feature Engineering"
      ],
      "metadata": {
        "id": "m959_Un7IuVc"
      }
    },
    {
      "cell_type": "markdown",
      "source": [
        "Todos:\n",
        "- Deal with missing values.\n",
        "- Change the Start_Time and End_Time from string to datetime.\n",
        "- There are 4 column to indicate day/night. Selecting only 1 out of them.\n",
        "- Weather_Condition column has several distinct classification. Try to re-classify them at a higher level"
      ],
      "metadata": {
        "id": "eXZoSUUA5n-2"
      }
    },
    {
      "cell_type": "markdown",
      "source": [
        "> Dropping the columns with excessive missing values :-"
      ],
      "metadata": {
        "id": "Bt3Y3dicNtuj"
      }
    },
    {
      "cell_type": "code",
      "source": [
        "#calculating the percentage of missing values per column\n",
        "missing_percentages= df.isna().sum().sort_values(ascending=False) / len(df) *100\n",
        "\n",
        "#plotting columns with missing value\n",
        "missing_percentages[missing_percentages!=0].plot(kind='barh', color='grey')\n",
        "plt.show()"
      ],
      "metadata": {
        "colab": {
          "base_uri": "https://localhost:8080/",
          "height": 265
        },
        "id": "fPzCsJaRFrOX",
        "outputId": "c01c7ac5-4594-46af-f1ff-811fbf7a9d83"
      },
      "execution_count": 14,
      "outputs": [
        {
          "output_type": "display_data",
          "data": {
            "image/png": "[encoded data removed]",
            "text/plain": [
              "<Figure size 432x288 with 1 Axes>"
            ]
          },
          "metadata": {
            "needs_background": "light"
          }
        }
      ]
    },
    {
      "cell_type": "code",
      "source": [
        "#Since the columns where more than 50% of the data is missing are not useful, we can delete them.\n",
        "#dropping 'Number' column as a lot of data is missing\n",
        "df= df.drop('Number', axis=1)"
      ],
      "metadata": {
        "id": "yctWNzWdKO5J"
      },
      "execution_count": 15,
      "outputs": []
    },
    {
      "cell_type": "markdown",
      "source": [
        "> Start_Time, End_Time and Weather_Timestamp is in str format and not datetime. So we have to typecast them."
      ],
      "metadata": {
        "id": "kIsvNpn5LoLL"
      }
    },
    {
      "cell_type": "code",
      "source": [
        "#casting string datatype to datetime\n",
        "df['Start_Time']= pd.to_datetime(df.Start_Time)\n",
        "df['End_Time']= pd.to_datetime(df.End_Time)\n",
        "df['Weather_Timestamp']= pd.to_datetime(df.Weather_Timestamp)"
      ],
      "metadata": {
        "id": "B-Gc1YlQLjot"
      },
      "execution_count": 16,
      "outputs": []
    },
    {
      "cell_type": "markdown",
      "source": [
        "> Selecting 1 column to determine Day or Night"
      ],
      "metadata": {
        "id": "f-3Lg3eOkWcV"
      }
    },
    {
      "cell_type": "code",
      "source": [
        "for x in ['Sunrise_Sunset', 'Civil_Twilight', 'Nautical_Twilight', 'Astronomical_Twilight']:\n",
        "  print(df[x].value_counts())"
      ],
      "metadata": {
        "colab": {
          "base_uri": "https://localhost:8080/"
        },
        "id": "h8pWGRyjN51y",
        "outputId": "aeebed73-b18d-4e71-d271-156b7dbdac8e"
      },
      "execution_count": 17,
      "outputs": [
        {
          "output_type": "stream",
          "name": "stdout",
          "text": [
            "Day      909838\n",
            "Night    606143\n",
            "Name: Sunrise_Sunset, dtype: int64\n",
            "Day      969075\n",
            "Night    546906\n",
            "Name: Civil_Twilight, dtype: int64\n",
            "Day      1035103\n",
            "Night     480878\n",
            "Name: Nautical_Twilight, dtype: int64\n",
            "Day      1090946\n",
            "Night     425035\n",
            "Name: Astronomical_Twilight, dtype: int64\n"
          ]
        }
      ]
    },
    {
      "cell_type": "code",
      "source": [
        "#Since we are dealing with road accidents, we will drop Civil, Nautical, and Astronomical Twilight.\n",
        "#We will use Sunrise_Sunset to determine day or night.\n",
        "df.drop(columns= ['Civil_Twilight', 'Nautical_Twilight', 'Astronomical_Twilight'], axis=1, inplace=True)"
      ],
      "metadata": {
        "id": "UU6lsst4RouJ"
      },
      "execution_count": 18,
      "outputs": []
    },
    {
      "cell_type": "markdown",
      "source": [
        "> Weather_Condition has very specific categories. We can re-classify it to a higher level."
      ],
      "metadata": {
        "id": "iAwM_CNxLFfR"
      }
    },
    {
      "cell_type": "code",
      "source": [
        "print(\"Number of categories originally: \",len(df['Weather_Condition'].unique()))"
      ],
      "metadata": {
        "id": "6GaVvDNZoZda",
        "colab": {
          "base_uri": "https://localhost:8080/"
        },
        "outputId": "2ddb119c-99ea-4dd9-b197-9927d52f55fc"
      },
      "execution_count": 19,
      "outputs": [
        {
          "output_type": "stream",
          "name": "stdout",
          "text": [
            "Number of categories originally:  117\n"
          ]
        }
      ]
    },
    {
      "cell_type": "code",
      "source": [
        "#function to standarize similar weather condition\n",
        "def weather(original_text):\n",
        "  text= str(original_text).lower()\n",
        "  if 'rain' in text or 'drizzle' in text :\n",
        "    return 'Rain'\n",
        "  if 'cloud' in text or 'overcast' in text:\n",
        "    return 'Cloudy' \n",
        "  if 'snow' in text:\n",
        "    return 'Snow'\n",
        "  if 'fog' in text or 'haze' in text:\n",
        "    return 'Fog'\n",
        "  if 'ice pellets' in text:\n",
        "    return 'Ice Pellets'\n",
        "  if 'thunder' in text or 'storm' in text:\n",
        "    return 'Thunder-Storm'\n",
        "  if 'dust' in text:\n",
        "    return 'Dust'\n",
        "  if 'windy' in text:\n",
        "    return 'Windy'\n",
        "  else:\n",
        "    return original_text\n",
        "\n",
        "df['Weather_Condition']= df['Weather_Condition'].apply(weather)"
      ],
      "metadata": {
        "id": "bYE5LUBPlINd"
      },
      "execution_count": 20,
      "outputs": []
    },
    {
      "cell_type": "code",
      "source": [
        "print(\"Number of categories now: \",len(df['Weather_Condition'].unique()))"
      ],
      "metadata": {
        "colab": {
          "base_uri": "https://localhost:8080/"
        },
        "id": "lEUS6i5eKME2",
        "outputId": "bbc7ecb8-df84-4bc2-f040-74427306b025"
      },
      "execution_count": 21,
      "outputs": [
        {
          "output_type": "stream",
          "name": "stdout",
          "text": [
            "Number of categories now:  24\n"
          ]
        }
      ]
    },
    {
      "cell_type": "markdown",
      "source": [
        "## Exploratory Analysis and Data Visualisation"
      ],
      "metadata": {
        "id": "0YbC8PFcBtgn"
      }
    },
    {
      "cell_type": "markdown",
      "source": [
        "Todo:\n",
        "Analyze\n",
        "- Location -- City,  State\n",
        "- Time -- Hour,  Week,  Month,  Year,  Day/Night\n",
        "- Condition -- Road,  Weather\n",
        "- Impact on traffic -- Severity,  Duration"
      ],
      "metadata": {
        "id": "FE8X0td6iw9x"
      }
    },
    {
      "cell_type": "markdown",
      "source": [
        "### Location"
      ],
      "metadata": {
        "id": "ekfZs_a0SzDV"
      }
    },
    {
      "cell_type": "markdown",
      "source": [
        "#### City"
      ],
      "metadata": {
        "id": "yeZA3-Dhlf3a"
      }
    },
    {
      "cell_type": "code",
      "source": [
        "total_cities= len(df.City.unique())\n",
        "print(f\"Number of cities: {total_cities}\")"
      ],
      "metadata": {
        "colab": {
          "base_uri": "https://localhost:8080/"
        },
        "id": "58fiPxScCh6R",
        "outputId": "34c982eb-d4bd-423a-c85a-9099d7aab660"
      },
      "execution_count": 22,
      "outputs": [
        {
          "output_type": "stream",
          "name": "stdout",
          "text": [
            "Number of cities: 10658\n"
          ]
        }
      ]
    },
    {
      "cell_type": "code",
      "source": [
        "#creating a dataframe contain no. of accidents per city\n",
        "df_city= pd.DataFrame(df['City'].value_counts())\n",
        "df_city= df_city.reset_index().rename(columns={'index':'City', 'City':'Number_of_accidents'})\n",
        "df_city.head(3)"
      ],
      "metadata": {
        "id": "DSLvsGbRx6p5",
        "colab": {
          "base_uri": "https://localhost:8080/",
          "height": 143
        },
        "outputId": "81da220b-47d8-4ba3-8a5a-c103141a844c"
      },
      "execution_count": 23,
      "outputs": [
        {
          "output_type": "execute_result",
          "data": {
            "text/html": [
              "\n",
              "  <div id=\"df-385e9aef-2296-4169-85f1-f874731cf6b7\">\n",
              "    <div class=\"colab-df-container\">\n",
              "      <div>\n",
              "<style scoped>\n",
              "    .dataframe tbody tr th:only-of-type {\n",
              "        vertical-align: middle;\n",
              "    }\n",
              "\n",
              "    .dataframe tbody tr th {\n",
              "        vertical-align: top;\n",
              "    }\n",
              "\n",
              "    .dataframe thead th {\n",
              "        text-align: right;\n",
              "    }\n",
              "</style>\n",
              "<table border=\"1\" class=\"dataframe\">\n",
              "  <thead>\n",
              "    <tr style=\"text-align: right;\">\n",
              "      <th></th>\n",
              "      <th>City</th>\n",
              "      <th>Number_of_accidents</th>\n",
              "    </tr>\n",
              "  </thead>\n",
              "  <tbody>\n",
              "    <tr>\n",
              "      <th>0</th>\n",
              "      <td>Los Angeles</td>\n",
              "      <td>39984</td>\n",
              "    </tr>\n",
              "    <tr>\n",
              "      <th>1</th>\n",
              "      <td>Miami</td>\n",
              "      <td>36233</td>\n",
              "    </tr>\n",
              "    <tr>\n",
              "      <th>2</th>\n",
              "      <td>Charlotte</td>\n",
              "      <td>22203</td>\n",
              "    </tr>\n",
              "  </tbody>\n",
              "</table>\n",
              "</div>\n",
              "      <button class=\"colab-df-convert\" onclick=\"convertToInteractive('df-385e9aef-2296-4169-85f1-f874731cf6b7')\"\n",
              "              title=\"Convert this dataframe to an interactive table.\"\n",
              "              style=\"display:none;\">\n",
              "        \n",
              "  <svg xmlns=\"http://www.w3.org/2000/svg\" height=\"24px\"viewBox=\"0 0 24 24\"\n",
              "       width=\"24px\">\n",
              "    <path d=\"M0 0h24v24H0V0z\" fill=\"none\"/>\n",
              "    <path d=\"M18.56 5.44l.94 2.06.94-2.06 2.06-.94-2.06-.94-.94-2.06-.94 2.06-2.06.94zm-11 1L8.5 8.5l.94-2.06 2.06-.94-2.06-.94L8.5 2.5l-.94 2.06-2.06.94zm10 10l.94 2.06.94-2.06 2.06-.94-2.06-.94-.94-2.06-.94 2.06-2.06.94z\"/><path d=\"M17.41 7.96l-1.37-1.37c-.4-.4-.92-.59-1.43-.59-.52 0-1.04.2-1.43.59L10.3 9.45l-7.72 7.72c-.78.78-.78 2.05 0 2.83L4 21.41c.39.39.9.59 1.41.59.51 0 1.02-.2 1.41-.59l7.78-7.78 2.81-2.81c.8-.78.8-2.07 0-2.86zM5.41 20L4 18.59l7.72-7.72 1.47 1.35L5.41 20z\"/>\n",
              "  </svg>\n",
              "      </button>\n",
              "      \n",
              "  <style>\n",
              "    .colab-df-container {\n",
              "      display:flex;\n",
              "      flex-wrap:wrap;\n",
              "      gap: 12px;\n",
              "    }\n",
              "\n",
              "    .colab-df-convert {\n",
              "      background-color: #E8F0FE;\n",
              "      border: none;\n",
              "      border-radius: 50%;\n",
              "      cursor: pointer;\n",
              "      display: none;\n",
              "      fill: #1967D2;\n",
              "      height: 32px;\n",
              "      padding: 0 0 0 0;\n",
              "      width: 32px;\n",
              "    }\n",
              "\n",
              "    .colab-df-convert:hover {\n",
              "      background-color: #E2EBFA;\n",
              "      box-shadow: 0px 1px 2px rgba(60, 64, 67, 0.3), 0px 1px 3px 1px rgba(60, 64, 67, 0.15);\n",
              "      fill: #174EA6;\n",
              "    }\n",
              "\n",
              "    [theme=dark] .colab-df-convert {\n",
              "      background-color: #3B4455;\n",
              "      fill: #D2E3FC;\n",
              "    }\n",
              "\n",
              "    [theme=dark] .colab-df-convert:hover {\n",
              "      background-color: #434B5C;\n",
              "      box-shadow: 0px 1px 3px 1px rgba(0, 0, 0, 0.15);\n",
              "      filter: drop-shadow(0px 1px 2px rgba(0, 0, 0, 0.3));\n",
              "      fill: #FFFFFF;\n",
              "    }\n",
              "  </style>\n",
              "\n",
              "      <script>\n",
              "        const buttonEl =\n",
              "          document.querySelector('#df-385e9aef-2296-4169-85f1-f874731cf6b7 button.colab-df-convert');\n",
              "        buttonEl.style.display =\n",
              "          google.colab.kernel.accessAllowed ? 'block' : 'none';\n",
              "\n",
              "        async function convertToInteractive(key) {\n",
              "          const element = document.querySelector('#df-385e9aef-2296-4169-85f1-f874731cf6b7');\n",
              "          const dataTable =\n",
              "            await google.colab.kernel.invokeFunction('convertToInteractive',\n",
              "                                                     [key], {});\n",
              "          if (!dataTable) return;\n",
              "\n",
              "          const docLinkHtml = 'Like what you see? Visit the ' +\n",
              "            '<a target=\"_blank\" href=https://colab.research.google.com/notebooks/data_table.ipynb>data table notebook</a>'\n",
              "            + ' to learn more about interactive tables.';\n",
              "          element.innerHTML = '';\n",
              "          dataTable['output_type'] = 'display_data';\n",
              "          await google.colab.output.renderOutput(dataTable, element);\n",
              "          const docLink = document.createElement('div');\n",
              "          docLink.innerHTML = docLinkHtml;\n",
              "          element.appendChild(docLink);\n",
              "        }\n",
              "      </script>\n",
              "    </div>\n",
              "  </div>\n",
              "  "
            ],
            "text/plain": [
              "          City  Number_of_accidents\n",
              "0  Los Angeles                39984\n",
              "1        Miami                36233\n",
              "2    Charlotte                22203"
            ]
          },
          "metadata": {},
          "execution_count": 23
        }
      ]
    },
    {
      "cell_type": "code",
      "source": [
        "fig,ax = plt.subplots(figsize = (15,5))\n",
        "\n",
        "#bar chart of the top 10 cities with most accidents\n",
        "chart= sns.barplot(x=\"Number_of_accidents\", y=\"City\", data=df_city.head(10), palette=\"flare_r\")\n",
        "\n",
        "total_accident= sum(df_city.Number_of_accidents)\n",
        "\n",
        "#show percentages\n",
        "i=0\n",
        "for c in chart.patches:\n",
        "    width, height = c.get_width(), c.get_height()\n",
        "    x, y = c.get_xy()\n",
        "    plt.text(x+width,\n",
        "             y+height*0.75,\n",
        "             str(round(df_city.Number_of_accidents[i]/total_accident*100, 2))+\"%\",\n",
        "             size=12)\n",
        "    i+=1\n",
        "\n",
        "#add title\n",
        "plt.title(\"Top 10 cities with most no. of accidents\", size=15)\n",
        "\n",
        "plt.show()"
      ],
      "metadata": {
        "colab": {
          "base_uri": "https://localhost:8080/",
          "height": 353
        },
        "id": "R2BJarZ7LrOV",
        "outputId": "c2a597b0-cfa9-4bf6-e026-afc3362c05e6"
      },
      "execution_count": 24,
      "outputs": [
        {
          "output_type": "display_data",
          "data": {
            "image/png": "[encoded data removed]",
            "text/plain": [
              "<Figure size 1080x360 with 1 Axes>"
            ]
          },
          "metadata": {
            "needs_background": "light"
          }
        }
      ]
    },
    {
      "cell_type": "code",
      "source": [
        "print(\"Percentage of total accidents caused in top10 cities: \", end='')\n",
        "print(round(sum(df_city.Number_of_accidents[:10])/total_accident*100))"
      ],
      "metadata": {
        "colab": {
          "base_uri": "https://localhost:8080/"
        },
        "id": "z5-HmIkcECFl",
        "outputId": "8f9b2b1c-386b-4e70-c8ab-049db0305f9c"
      },
      "execution_count": 25,
      "outputs": [
        {
          "output_type": "stream",
          "name": "stdout",
          "text": [
            "Percentage of total accidents caused in top10 cities: 14\n"
          ]
        }
      ]
    },
    {
      "cell_type": "markdown",
      "source": [
        "><img src=\"https://cdn-icons-png.flaticon.com/512/702/702797.png\" weight=50px height= 50px> *INSIGHTS*:\n",
        ">- **Los Angeles** is the city with most number of accidents **2.64**%; followed by **Miami** with **2.39**%\n",
        ">- **14**% of the total accidents took place in these top **10** cities"
      ],
      "metadata": {
        "id": "Tbqqa3BewZS_"
      }
    },
    {
      "cell_type": "code",
      "source": [
        "fig,ax = plt.subplots(figsize = (15,5))\n",
        "plt.axes().set_facecolor(\"white\")\n",
        "sns.histplot(df_city.Number_of_accidents, log_scale=True,  color=\"grey\", alpha=0.25)\n",
        "plt.show()"
      ],
      "metadata": {
        "colab": {
          "base_uri": "https://localhost:8080/",
          "height": 338
        },
        "id": "jfICmGiMFpTX",
        "outputId": "2d1a70e1-faa7-433d-f4e5-c4386fcf9377"
      },
      "execution_count": 26,
      "outputs": [
        {
          "output_type": "display_data",
          "data": {
            "image/png": "[encoded data removed]",
            "text/plain": [
              "<Figure size 1080x360 with 1 Axes>"
            ]
          },
          "metadata": {
            "needs_background": "light"
          }
        }
      ]
    },
    {
      "cell_type": "code",
      "source": [
        "for i in [1,10,100,1000,10000]:\n",
        "  accidents= len(df_city.City[df_city.Number_of_accidents>i])\n",
        "  perc= round(accidents/total_cities*100,2)\n",
        "  print(f\"{perc}% of the cities had more than {i} accidents\")"
      ],
      "metadata": {
        "colab": {
          "base_uri": "https://localhost:8080/"
        },
        "id": "QytERnHysix2",
        "outputId": "22f8439e-4574-4805-d2a2-1d2ecb91a251"
      },
      "execution_count": 27,
      "outputs": [
        {
          "output_type": "stream",
          "name": "stdout",
          "text": [
            "89.04% of the cities had more than 1 accidents\n",
            "54.18% of the cities had more than 10 accidents\n",
            "18.36% of the cities had more than 100 accidents\n",
            "2.36% of the cities had more than 1000 accidents\n",
            "0.12% of the cities had more than 10000 accidents\n"
          ]
        }
      ]
    },
    {
      "cell_type": "markdown",
      "source": [
        "><img src=\"https://cdn-icons-png.flaticon.com/512/702/702797.png\" weight=50px height= 50px> *INSIGHTS*:\n",
        ">- **11**% of the cities had only **1** accident.\n",
        ">- Only **2.36**% of the cities had more than 1000 accidents.\n",
        ">- No. of accidents per city changes logarithmically. Might depend on area and population of the city."
      ],
      "metadata": {
        "id": "ozyogi2Fzn35"
      }
    },
    {
      "cell_type": "code",
      "source": [
        "#dataframe containing coordinates of the US cities\n",
        "#taking the average latitude and longitude of the accident in each city will give the coordinates.\n",
        "df_city_coordinate= df[['Start_Lat','Start_Lng','City']].groupby('City').mean().reset_index()\n",
        "\n",
        "#adding coordinates of the cities in df_city\n",
        "df_city= df_city.merge(df_city_coordinate,on='City')"
      ],
      "metadata": {
        "id": "Ui2omCtEx35r"
      },
      "execution_count": 28,
      "outputs": []
    },
    {
      "cell_type": "code",
      "source": [
        "#creating a geopandas dataframe from geojason file containing USA's states boundary \n",
        "states = gpd.read_file('cb_2018_us_state_500k.shp')\n",
        "\n",
        "#removing outlying states that isn't a part of USA mainland\n",
        "states=states.drop(states[states['NAME']=='Commonwealth of the Northern Mariana Islands'].index, axis=0)\n",
        "states=states.drop(states[states['NAME']=='Hawaii'].index, axis=0)\n",
        "states=states.drop(states[states['NAME']=='United States Virgin Islands'].index, axis=0)\n",
        "states=states.drop(states[states['NAME']=='Alaska'].index, axis=0)\n",
        "states=states.drop(states[states['NAME']=='Puerto Rico'].index, axis=0)\n",
        "states=states.drop(states[states['NAME']=='American Samoa'].index, axis=0)\n",
        "states=states.drop(states[states['NAME']=='Guam'].index, axis=0)"
      ],
      "metadata": {
        "id": "xpRaN9_O1979"
      },
      "execution_count": 29,
      "outputs": []
    },
    {
      "cell_type": "code",
      "source": [
        "#getting separate list of latitude and longitude of different\n",
        "lng= list(df_city['Start_Lng'][:10])\n",
        "lat= list(df_city['Start_Lat'][:10])"
      ],
      "metadata": {
        "id": "cJh5xGWG-Uvu"
      },
      "execution_count": 30,
      "outputs": []
    },
    {
      "cell_type": "code",
      "source": [
        "fig,ax = plt.subplots(figsize = (15,20))\n",
        "\n",
        "#plotting base map\n",
        "states.boundary.plot(ax=ax, color='grey')\n",
        "\n",
        "#creating geopandas dataframe containing coordinates of top10 accident prone cities\n",
        "geometry_cities = [Point(xy) for xy in zip(list(df_city['Start_Lng'][:10]), list(df_city['Start_Lat'][:10]))]\n",
        "geo_df = gpd.GeoDataFrame(geometry = geometry_cities)\n",
        "\n",
        "\n",
        "cmap = plt.get_cmap('inferno', 10)   \n",
        "colors = [cmap(i) for i in range(cmap.N)]\n",
        "markersizes= [100+(i*100) for i in range(10)][::-1]\n",
        "\n",
        "#plotting cities on map\n",
        "for i in range(10):\n",
        "    geo_df[geo_df.index==i].plot(ax=ax, \n",
        "                                 markersize=markersizes[i], \n",
        "                                 marker='o', \n",
        "                                 color=colors[i],\n",
        "                                 label=df_city['City'][i], \n",
        "                                 alpha=0.75);\n",
        "\n",
        "plt.legend(bbox_to_anchor=(1,0.5))\n",
        "plt.show()"
      ],
      "metadata": {
        "colab": {
          "base_uri": "https://localhost:8080/",
          "height": 408
        },
        "id": "vwVDRSTO4jwG",
        "outputId": "d1f1cbf9-5762-48ce-a186-3369b74c53ef"
      },
      "execution_count": 31,
      "outputs": [
        {
          "output_type": "display_data",
          "data": {
            "image/png": "[encoded data removed]",
            "text/plain": [
              "<Figure size 1080x1440 with 1 Axes>"
            ]
          },
          "metadata": {
            "needs_background": "light"
          }
        }
      ]
    },
    {
      "cell_type": "markdown",
      "source": [
        "><img src=\"https://cdn-icons-png.flaticon.com/512/702/702797.png\" weight=50px height= 50px> *INSIGHTS*:\n",
        "> - **3** out of **10** top accident prone cities are in the state of **California**"
      ],
      "metadata": {
        "id": "rGSearQ4CrzS"
      }
    },
    {
      "cell_type": "markdown",
      "source": [
        "#### State"
      ],
      "metadata": {
        "id": "EYnj5EeLxk1F"
      }
    },
    {
      "cell_type": "code",
      "source": [
        "df['State'].unique()"
      ],
      "metadata": {
        "colab": {
          "base_uri": "https://localhost:8080/"
        },
        "id": "1Dkm7Zqhxq3o",
        "outputId": "7020d3e7-6201-4f1d-a402-1bc38ca14e5e"
      },
      "execution_count": 32,
      "outputs": [
        {
          "output_type": "execute_result",
          "data": {
            "text/plain": [
              "array(['OH', 'IN', 'KY', 'WV', 'MI', 'PA', 'CA', 'NV', 'MN', 'TX', 'MO',\n",
              "       'CO', 'OK', 'LA', 'KS', 'WI', 'IA', 'MS', 'NE', 'ND', 'WY', 'SD',\n",
              "       'MT', 'NM', 'AR', 'IL', 'NJ', 'GA', 'FL', 'NY', 'CT', 'RI', 'SC',\n",
              "       'NC', 'MD', 'MA', 'TN', 'VA', 'DE', 'DC', 'ME', 'AL', 'NH', 'VT',\n",
              "       'AZ', 'UT', 'ID', 'OR', 'WA'], dtype=object)"
            ]
          },
          "metadata": {},
          "execution_count": 32
        }
      ]
    },
    {
      "cell_type": "code",
      "source": [
        "#https://gist.github.com/rogerallen/1583593\n",
        "us_state_to_abbrev = {\n",
        "    \"Alabama\": \"AL\",  \"Alaska\": \"AK\", \"Arizona\": \"AZ\",  \"Arkansas\": \"AR\", \"California\": \"CA\",\n",
        "    \"Colorado\": \"CO\", \"Connecticut\": \"CT\",  \"Delaware\": \"DE\", \"Florida\": \"FL\",  \"Georgia\": \"GA\",    \n",
        "    \"Hawaii\": \"HI\",    \"Idaho\": \"ID\",    \"Illinois\": \"IL\",    \"Indiana\": \"IN\",    \"Iowa\": \"IA\",\n",
        "    \"Kansas\": \"KS\", \"Kentucky\": \"KY\", \"Louisiana\": \"LA\",  \"Maine\": \"ME\",  \"Maryland\": \"MD\",\n",
        "    \"Massachusetts\": \"MA\",  \"Michigan\": \"MI\",  \"Minnesota\": \"MN\", \"Mississippi\": \"MS\",\n",
        "    \"Missouri\": \"MO\",  \"Montana\": \"MT\", \"Nebraska\": \"NE\", \"Nevada\": \"NV\", \"New Hampshire\": \"NH\", \n",
        "    \"New Jersey\": \"NJ\", \"New Mexico\": \"NM\", \"New York\": \"NY\", \"North Carolina\": \"NC\", \"North Dakota\": \"ND\",    \n",
        "    \"Ohio\": \"OH\", \"Oklahoma\": \"OK\", \"Oregon\": \"OR\", \"Pennsylvania\": \"PA\", \"Rhode Island\": \"RI\",    \n",
        "    \"South Carolina\": \"SC\", \"South Dakota\": \"SD\", \"Tennessee\": \"TN\",  \"Texas\": \"TX\",  \"Utah\": \"UT\",    \n",
        "    \"Vermont\": \"VT\",  \"Virginia\": \"VA\", \"Washington\": \"WA\", \"West Virginia\": \"WV\",  \"Wisconsin\": \"WI\",    \n",
        "    \"Wyoming\": \"WY\",  \"District of Columbia\": \"DC\", \"American Samoa\": \"AS\", \"Guam\": \"GU\",\n",
        "    \"Northern Mariana Islands\": \"MP\", \"Puerto Rico\": \"PR\",  \"United States Minor Outlying Islands\": \"UM\",\n",
        "    \"U.S. Virgin Islands\": \"VI\",\n",
        "}\n",
        "#reversing the dictionary to make abbreviations as key\n",
        "abbrev_to_us_state = dict(map(reversed, us_state_to_abbrev.items()))"
      ],
      "metadata": {
        "id": "PfhZJtcDyiuy"
      },
      "execution_count": 33,
      "outputs": []
    },
    {
      "cell_type": "code",
      "source": [
        "#function to replace abbreviation with two states\n",
        "def get_state_name(s):\n",
        "  return abbrev_to_us_state[s]\n",
        "\n",
        "#dataframe containing total number of accidents in each state\n",
        "df_state = pd.DataFrame(df['State'].value_counts())\n",
        "df_state = df_state.reset_index().rename(columns={'index':'State', 'State':'Number_of_accidents'})\n",
        "df_state['State']= df_state['State'].apply(get_state_name)\n"
      ],
      "metadata": {
        "id": "cyzHKKtw0KIX"
      },
      "execution_count": 34,
      "outputs": []
    },
    {
      "cell_type": "code",
      "source": [
        "fig,ax = plt.subplots(figsize = (15,5))\n",
        "\n",
        "#barchart\n",
        "chart= sns.barplot(x=\"Number_of_accidents\", y=\"State\", data=df_state.head(10), palette=\"dark:salmon\")\n",
        "\n",
        "total_accident= sum(df_state.Number_of_accidents)\n",
        "\n",
        "#show percentage\n",
        "i=0\n",
        "for c in chart.patches:\n",
        "    width, height = c.get_width(), c.get_height()\n",
        "    x, y = c.get_xy()\n",
        "    plt.text(x+width,\n",
        "             y+height*0.75,\n",
        "             str(round(df_state.Number_of_accidents[i]/total_accident*100, 2))+\"%\")\n",
        "    i+=1\n",
        "    \n",
        "plt.title(\"Top 10 States with most no. of accidents in US(2016-2020)\", size=15)\n",
        "plt.show()"
      ],
      "metadata": {
        "colab": {
          "base_uri": "https://localhost:8080/",
          "height": 353
        },
        "id": "9AgFYPfK11wH",
        "outputId": "b6c89dbe-4757-4510-aef1-89f41401150c"
      },
      "execution_count": 35,
      "outputs": [
        {
          "output_type": "display_data",
          "data": {
            "image/png": "[encoded data removed]",
            "text/plain": [
              "<Figure size 1080x360 with 1 Axes>"
            ]
          },
          "metadata": {
            "needs_background": "light"
          }
        }
      ]
    },
    {
      "cell_type": "code",
      "source": [
        "t= sum(df_state.Number_of_accidents[:5])\n",
        "print(f'Accidents in top 5 states combined: {round(t/total_accident*100)} %')"
      ],
      "metadata": {
        "colab": {
          "base_uri": "https://localhost:8080/"
        },
        "id": "-3rPvaCMAHdq",
        "outputId": "d8764bf1-18b5-4c81-ce68-808e7e4722b7"
      },
      "execution_count": 36,
      "outputs": [
        {
          "output_type": "stream",
          "name": "stdout",
          "text": [
            "Accidents in top 5 states combined: 54 %\n"
          ]
        }
      ]
    },
    {
      "cell_type": "code",
      "source": [
        "print(df_state[['State','Number_of_accidents']][:5])"
      ],
      "metadata": {
        "colab": {
          "base_uri": "https://localhost:8080/"
        },
        "id": "QiV6JQayCaak",
        "outputId": "8e8c7b23-af00-4155-dcd1-76229055439d"
      },
      "execution_count": 59,
      "outputs": [
        {
          "output_type": "stream",
          "name": "stdout",
          "text": [
            "        State  Number_of_accidents\n",
            "0  California               448833\n",
            "1     Florida               153007\n",
            "2      Oregon                87484\n",
            "3       Texas                75142\n",
            "4    New York                60974\n"
          ]
        }
      ]
    },
    {
      "cell_type": "code",
      "source": [
        "fig,ax = plt.subplots(figsize = (10,10))\n",
        "\n",
        "#creating a column to join on\n",
        "df_state['NAME']=df_state['State']\n",
        "\n",
        "#adding number of accidents in 'states' gpd dataframe and plotting it\n",
        "map= states.merge(df_state, on='NAME').plot(column='Number_of_accidents', \n",
        "                                       cmap='Reds', \n",
        "                                       legend=True,\n",
        "                                       legend_kwds={'label': \"Population Density\",'orientation':\"horizontal\"},\n",
        "                                       ax=ax)\n",
        "plt.title(\"Accident Density (Statewise)\", size=15)\n",
        "plt.show()"
      ],
      "metadata": {
        "colab": {
          "base_uri": "https://localhost:8080/",
          "height": 490
        },
        "id": "nfPCT_Ih60xA",
        "outputId": "ae4362af-623a-4987-8c4a-39311ebdbd9f"
      },
      "execution_count": 80,
      "outputs": [
        {
          "output_type": "display_data",
          "data": {
            "image/png": "[encoded data removed]",
            "text/plain": [
              "<Figure size 720x720 with 2 Axes>"
            ]
          },
          "metadata": {
            "needs_background": "light"
          }
        }
      ]
    },
    {
      "cell_type": "markdown",
      "source": [
        "><img src=\"https://cdn-icons-png.flaticon.com/512/702/702797.png\" weight=50px height= 50px> *INSIGHTS*:\n",
        ">- Approx. **30**% of the accidents took place in **California** alone. A total of **448,833** accidents happended in this state.\n",
        ">- **153,007** accidents, i.e, **10**% happened in Florida.\n",
        ">- **More than half** (54%) of all the accidents took place in just **5** states (California, Florida, Oregon, Texas, and NewYork)"
      ],
      "metadata": {
        "id": "-6hOWp6E-3Sd"
      }
    },
    {
      "cell_type": "markdown",
      "source": [
        "### Time"
      ],
      "metadata": {
        "id": "6hwH00ejS8bp"
      }
    },
    {
      "cell_type": "markdown",
      "source": [
        "#### Hour"
      ],
      "metadata": {
        "id": "Ty9r7eaSFJJA"
      }
    },
    {
      "cell_type": "code",
      "source": [
        "fig,ax = plt.subplots(figsize = (15,5))\n",
        "ax.xaxis.set_ticks(list(range(0,25)))\n",
        "\n",
        "#plot histogram \n",
        "chart= sns.histplot(df.Start_Time.dt.hour, stat='percent', bins=24, discrete=True, color='#d5d4d2')\n",
        "\n",
        "#highlighting peaks\n",
        "for i in [7,8,16,17]:\n",
        "  chart.patches[i].set_facecolor('#d5b1b1')\n",
        "\n",
        "#text annotation\n",
        "i=0\n",
        "for c in  chart.patches:\n",
        "    width, height = c.get_width(), c.get_height()\n",
        "    x, y = c.get_xy()\n",
        "    plt.text(x+0.1,\n",
        "             y+1,\n",
        "             str(i)+\":00\",\n",
        "             size=10,\n",
        "             rotation='vertical')\n",
        "    i+=1\n",
        "plt.show()"
      ],
      "metadata": {
        "colab": {
          "base_uri": "https://localhost:8080/",
          "height": 335
        },
        "id": "sjIQJXOHdMwn",
        "outputId": "6deed22b-10a9-4fd2-b553-c3795d31733b"
      },
      "execution_count": 113,
      "outputs": [
        {
          "output_type": "display_data",
          "data": {
            "image/png": "[encoded data removed]",
            "text/plain": [
              "<Figure size 1080x360 with 1 Axes>"
            ]
          },
          "metadata": {
            "needs_background": "light"
          }
        }
      ]
    },
    {
      "cell_type": "markdown",
      "source": [
        "><img src=\"https://cdn-icons-png.flaticon.com/512/702/702797.png\" weight=50px height= 50px> *INSIGHTS*:\n",
        ">- Number of accidents increases around **8 AM** and **5 PM**.\n",
        ">- People usually **go to work** and **return home** around 8 AM and 5 PM respectively; thus **increasing** traffic volume.\n",
        ">- More accidents at 5 PM compared to 8AM can be because of two factors. Firstly, people are **more tired** while returning home. Secondly, **visibility is less** at dusk."
      ],
      "metadata": {
        "id": "C174VY8I3TBN"
      }
    },
    {
      "cell_type": "markdown",
      "source": [
        "#### Week"
      ],
      "metadata": {
        "id": "QeT6dMaXFcVV"
      }
    },
    {
      "cell_type": "code",
      "source": [
        "fig,ax = plt.subplots(figsize = (7,4))\n",
        "\n",
        "#plot histogram \n",
        "chart= sns.histplot(df.Start_Time.dt.dayofweek, stat='percent', bins=7, discrete=True, color='grey')\n",
        "\n",
        "days_of_week= (\"Mon\",\"Tue\",\"Wed\",\"Thur\",\"Fri\",\"Sat\",\"Sun\")\n",
        "\n",
        "#separate colour for weekdays and weekend\n",
        "for i in range(5):\n",
        "  chart.patches[i].set_facecolor(\"#bf7f7f\")\n",
        "chart.patches[5].set_facecolor(\"#9dc98a\")\n",
        "chart.patches[6].set_facecolor(\"#9dc98a\")\n",
        "\n",
        "#annotation\n",
        "i=0\n",
        "for c in  chart.patches:\n",
        "    width, height = c.get_width(), c.get_height()\n",
        "    x, y = c.get_xy()\n",
        "    plt.text(x+0.25,\n",
        "             y+1,\n",
        "             days_of_week[i],\n",
        "             size=13,\n",
        "             c='white')\n",
        "    i+=1\n",
        "\n",
        "plt.title(\"Weekly distribution of total no. of accidents\", size=15)\n",
        "plt.show()"
      ],
      "metadata": {
        "colab": {
          "base_uri": "https://localhost:8080/",
          "height": 298
        },
        "id": "mSICRd-ElbXL",
        "outputId": "b62bc737-d091-4caf-c86e-f36af2921b89"
      },
      "execution_count": 163,
      "outputs": [
        {
          "output_type": "display_data",
          "data": {
            "image/png": "[encoded data removed]",
            "text/plain": [
              "<Figure size 504x288 with 1 Axes>"
            ]
          },
          "metadata": {
            "needs_background": "light"
          }
        }
      ]
    },
    {
      "cell_type": "code",
      "source": [
        "print(round(sum(df.Start_Time.dt.dayofweek.value_counts()[:5])/len(df)*100),\"%\")"
      ],
      "metadata": {
        "colab": {
          "base_uri": "https://localhost:8080/"
        },
        "id": "SpLxVAtL-CjT",
        "outputId": "02b6afdd-7b3b-4cb2-f40c-90ca3b2f8e7b"
      },
      "execution_count": 138,
      "outputs": [
        {
          "output_type": "stream",
          "name": "stdout",
          "text": [
            "83 %\n"
          ]
        }
      ]
    },
    {
      "cell_type": "markdown",
      "source": [
        "><img src=\"https://cdn-icons-png.flaticon.com/512/702/702797.png\" weight=50px height= 50px> *INSIGHTS*:\n",
        ">- **83**% of the accidents took place on **weekdays**\n",
        ">- **17**% on **weekends**\n",
        ">- Less accidents occurs on weekends as comparitively lesser number of people go out comparitively."
      ],
      "metadata": {
        "id": "8UObuHsg8_ce"
      }
    },
    {
      "cell_type": "code",
      "source": [
        "chart= sns.histplot(df.Start_Time.dt.hour[df.Start_Time.dt.dayofweek==4], \n",
        "                    stat='percent', bins=12, discrete=True, color='grey')"
      ],
      "metadata": {
        "colab": {
          "base_uri": "https://localhost:8080/",
          "height": 280
        },
        "id": "Hhra-thRA6x_",
        "outputId": "d89117fb-ac5d-4c08-a420-a0cab5ded89b"
      },
      "execution_count": 143,
      "outputs": [
        {
          "output_type": "display_data",
          "data": {
            "image/png": "[encoded data removed]",
            "text/plain": [
              "<Figure size 432x288 with 1 Axes>"
            ]
          },
          "metadata": {
            "needs_background": "light"
          }
        }
      ]
    },
    {
      "cell_type": "markdown",
      "source": [
        "#### Month"
      ],
      "metadata": {
        "id": "eqWJC2vZFJAa"
      }
    },
    {
      "cell_type": "code",
      "source": [
        "fig,ax = plt.subplots(figsize = (10,5))\n",
        "ax.xaxis.set_ticks(list(range(1,13)))\n",
        "\n",
        "month_of_year= ('#','Jan', 'Feb', 'Mar', 'Apr', 'May', 'Jun', 'Jul', 'Aug', 'Sep', 'Oct', 'Nov', 'Dec')\n",
        "\n",
        "#plot histogram\n",
        "chart= sns.histplot(df.Start_Time.dt.month, stat='percent', bins=12, discrete=True, color='#d5d4d2')\n",
        "\n",
        "#annotate\n",
        "i=1\n",
        "for c in  chart.patches:\n",
        "    width, height = c.get_width(), c.get_height()\n",
        "    x, y = c.get_xy()\n",
        "    plt.text(x+0.25,\n",
        "             y+1,\n",
        "             str(month_of_year[i]),\n",
        "             size=12)\n",
        "    i+=1\n",
        "\n",
        "plt.title(\"Monthly distribution of total number of accidents\",size=15)\n",
        "plt.show()"
      ],
      "metadata": {
        "colab": {
          "base_uri": "https://localhost:8080/",
          "height": 353
        },
        "id": "GKNiIwukyAYK",
        "outputId": "f66781af-85f5-4bae-b801-f2a7bed1c194"
      },
      "execution_count": 154,
      "outputs": [
        {
          "output_type": "display_data",
          "data": {
            "image/png": "[encoded data removed]",
            "text/plain": [
              "<Figure size 720x360 with 1 Axes>"
            ]
          },
          "metadata": {
            "needs_background": "light"
          }
        }
      ]
    },
    {
      "cell_type": "code",
      "source": [
        "fig, axes = plt.subplots(2,3, figsize=(15, 7), sharex=True)\n",
        "a=[(0,0),(0,1),(0,2),(1,0),(1,1),(1,2)]\n",
        "\n",
        "#plotting monthly distribution for year each\n",
        "for i in range(5):\n",
        "  sns.histplot(df.Start_Time.dt.month[df.Start_Time.dt.year==2016+i], \n",
        "               stat='count', bins=12, discrete=True, color='#d5d4d2', ax=axes[a[i]])\n",
        "  axes[a[i]].set_title(str(2016+i), fontweight=\"bold\")\n",
        "\n",
        "#plotting total monthly distribution\n",
        "sns.histplot(df.Start_Time.dt.month, stat='count', bins=12, discrete=True, color='#ffeaad', ax=axes[a[5]])\n",
        "axes[1,2].set_title('2016-2020',fontweight=\"bold\")\n",
        "\n",
        "plt.show()"
      ],
      "metadata": {
        "colab": {
          "base_uri": "https://localhost:8080/",
          "height": 459
        },
        "id": "XnEKTisNzNvq",
        "outputId": "77a44954-d5b1-4b44-d03a-d5bfb1079c14"
      },
      "execution_count": 173,
      "outputs": [
        {
          "output_type": "display_data",
          "data": {
            "image/png": "[encoded data removed]",
            "text/plain": [
              "<Figure size 1080x504 with 6 Axes>"
            ]
          },
          "metadata": {
            "needs_background": "light"
          }
        }
      ]
    },
    {
      "cell_type": "markdown",
      "source": [
        "><img src=\"https://cdn-icons-png.flaticon.com/512/702/702797.png\" weight=50px height= 50px> *INSIGHTS*:\n",
        "> - October, Novemeber, December is showing unusually high number of accidents. Might be a data collection problem.\n",
        "> - On 2016 number of accidents linearly increases. Probably, the survey started on Feb 2016 and the survey size kept increasing henceforth.\n",
        "> - 2017 and 2018 depicts a well distributed number of accidents per month.\n",
        "> - Unusually huge spike in accidents on Sept2019-Dec2019. Similar pattern is observed in 2020. Might be a overlap of multiple surveys or change in sample size.\n",
        "> - Monthly survey count is not uniformly distribute, sudden spike in accident from August2019 to Sept2019 is incomprehensible.\n",
        "> - 2020 survey might be affected by covid-19 pandemic."
      ],
      "metadata": {
        "id": "ifhNk-UdWHrP"
      }
    },
    {
      "cell_type": "markdown",
      "source": [
        "#### Year"
      ],
      "metadata": {
        "id": "gKpl4hOxFI4P"
      }
    },
    {
      "cell_type": "code",
      "source": [
        "fig,ax = plt.subplots(figsize = (7,3.5))\n",
        "\n",
        "#histogram\n",
        "sns.histplot(df.Start_Time.dt.year, stat='percent', discrete=True ,bins=5, color='#d5d4d2')\n",
        "\n",
        "plt.title(\"Yearly distribution of no. of accidents\", size=15)\n",
        "plt.show()"
      ],
      "metadata": {
        "colab": {
          "base_uri": "https://localhost:8080/",
          "height": 271
        },
        "id": "75ikFjNCpn5B",
        "outputId": "ee8e2700-40f8-4f7a-80a2-881e12a873ff"
      },
      "execution_count": 179,
      "outputs": [
        {
          "output_type": "display_data",
          "data": {
            "image/png": "[encoded data removed]",
            "text/plain": [
              "<Figure size 504x252 with 1 Axes>"
            ]
          },
          "metadata": {
            "needs_background": "light"
          }
        }
      ]
    },
    {
      "cell_type": "markdown",
      "source": [
        "><img src=\"https://cdn-icons-png.flaticon.com/512/702/702797.png\" weight=50px height= 50px> *INSIGHTS*:\n",
        ">- Data shows yearly increase in recorded number of accidents.\n",
        ">- Huge increase in survey size in 2020, almost triple."
      ],
      "metadata": {
        "id": "O2BDgf7iceGY"
      }
    },
    {
      "cell_type": "markdown",
      "source": [
        "#### Day/Night"
      ],
      "metadata": {
        "id": "uGaN6aT9AAkZ"
      }
    },
    {
      "cell_type": "code",
      "source": [
        "df['Sunrise_Sunset'].value_counts()"
      ],
      "metadata": {
        "colab": {
          "base_uri": "https://localhost:8080/"
        },
        "id": "TlI3I0EsS06q",
        "outputId": "7e272ce2-7291-450d-ca18-04af4d8f3e5a"
      },
      "execution_count": 45,
      "outputs": [
        {
          "output_type": "execute_result",
          "data": {
            "text/plain": [
              "Day      909838\n",
              "Night    606143\n",
              "Name: Sunrise_Sunset, dtype: int64"
            ]
          },
          "metadata": {},
          "execution_count": 45
        }
      ]
    },
    {
      "cell_type": "code",
      "source": [
        "fig,ax = plt.subplots(figsize = (6,6))\n",
        "\n",
        "#pie chart\n",
        "plt.pie(df['Sunrise_Sunset'].value_counts(), \n",
        "        labels=['Day','Night'], \n",
        "        autopct='%1.1f%%',\n",
        "        colors=['#ffff7f','#a6a6a6'],\n",
        "        explode=[0,0.05],\n",
        "        labeldistance=0.2)\n",
        "\n",
        "plt.show()"
      ],
      "metadata": {
        "colab": {
          "base_uri": "https://localhost:8080/",
          "height": 357
        },
        "id": "5LVeXfkYAACV",
        "outputId": "0dc248bf-b65a-4acd-dcee-af42b801b76b"
      },
      "execution_count": 46,
      "outputs": [
        {
          "output_type": "display_data",
          "data": {
            "image/png": "[encoded data removed]",
            "text/plain": [
              "<Figure size 432x432 with 1 Axes>"
            ]
          },
          "metadata": {}
        }
      ]
    },
    {
      "cell_type": "markdown",
      "source": [
        "><img src=\"https://cdn-icons-png.flaticon.com/512/702/702797.png\" weight=50px height= 50px> *INSIGHTS*:\n",
        ">- **60**% of the accidents take place at daytime.\n",
        ">- It should be noted that US gets **15** hours of daylight on average, i.e 62.5% of a day. "
      ],
      "metadata": {
        "id": "mK9yl9jLd-8s"
      }
    },
    {
      "cell_type": "markdown",
      "source": [
        "### Condition"
      ],
      "metadata": {
        "id": "vwKW3UrwHvKu"
      }
    },
    {
      "cell_type": "markdown",
      "source": [
        "#### Road/Vicinity"
      ],
      "metadata": {
        "id": "HxnPas74Y_BA"
      }
    },
    {
      "cell_type": "code",
      "source": [
        "entity= ['Amenity', 'Bump', 'Crossing', 'Give_Way', 'Junction', 'No_Exit', 'Railway',\n",
        "             'Roundabout', 'Station', 'Stop', 'Traffic_Calming', 'Traffic_Signal', 'Turning_Loop']"
      ],
      "metadata": {
        "id": "COW4BGGQH_yB"
      },
      "execution_count": 272,
      "outputs": []
    },
    {
      "cell_type": "code",
      "source": [
        "#dataframe containing number of accidents caused by each entity\n",
        "df_entity= pd.DataFrame(columns=['Entity','Number_of_accidents'])\n",
        "\n",
        "#iterating through all 13 columns\n",
        "for e in entity:\n",
        "  #counting trues,i.e, total-falses\n",
        "  number_of_accidents= sum(df[e].value_counts()) - df[e].value_counts()[0]\n",
        "  df_entity= df_entity.append({'Entity': e,'Number_of_accidents': number_of_accidents}, \n",
        "                                              ignore_index=True )"
      ],
      "metadata": {
        "id": "X3kShji4JMOS"
      },
      "execution_count": 273,
      "outputs": []
    },
    {
      "cell_type": "code",
      "source": [
        "fig,ax = plt.subplots(figsize = (15,5))\n",
        "\n",
        "#plotting barchart\n",
        "chart= sns.barplot(y=df_entity['Entity'], \n",
        "                   x=df_entity['Number_of_accidents'],\n",
        "                   palette='Spectral')\n",
        "\n",
        "total_accidents=len(df)\n",
        "\n",
        "#annotating barchart\n",
        "i=0\n",
        "for c in chart.patches:\n",
        "    width, height = c.get_width(), c.get_height()\n",
        "    x, y = c.get_xy()\n",
        "    plt.text(x+width,\n",
        "             y+height-0.25,\n",
        "             str(round(df_entity['Number_of_accidents'][i]/total_accidents*100,3))+\"%\",\n",
        "             size=10, c='grey')\n",
        "    i+=1\n",
        "\n",
        "plt.title(\"Entities leading to accident\", size=15)\n",
        "plt.show()"
      ],
      "metadata": {
        "colab": {
          "base_uri": "https://localhost:8080/",
          "height": 353
        },
        "id": "LOvYgKLlN6GM",
        "outputId": "f10871f5-b7a4-4c26-e769-bde8bcafd10d"
      },
      "execution_count": 274,
      "outputs": [
        {
          "output_type": "display_data",
          "data": {
            "image/png": "[encoded data removed]",
            "text/plain": [
              "<Figure size 1080x360 with 1 Axes>"
            ]
          },
          "metadata": {
            "needs_background": "light"
          }
        }
      ]
    },
    {
      "cell_type": "code",
      "source": [
        "print(round(sum(df_entity['Number_of_accidents'])/len(df)*100),\"%\")"
      ],
      "metadata": {
        "colab": {
          "base_uri": "https://localhost:8080/"
        },
        "id": "IAHhj6bRhTbb",
        "outputId": "3b903d9e-c191-48fa-b554-a63e02b1c4c2"
      },
      "execution_count": 288,
      "outputs": [
        {
          "output_type": "stream",
          "name": "stdout",
          "text": [
            "35 %\n"
          ]
        }
      ]
    },
    {
      "cell_type": "code",
      "source": [
        "df_entity= df_entity.sort_values(\"Number_of_accidents\", ascending=False, ignore_index=True)"
      ],
      "metadata": {
        "id": "tAd412uSzQDp"
      },
      "execution_count": 276,
      "outputs": []
    },
    {
      "cell_type": "code",
      "source": [
        "fig,ax = plt.subplots(figsize = (7,7))\n",
        "ax.xaxis.set_ticks(list(range(0,101,10)))\n",
        "ax.yaxis.set_ticks(list(range(0,101,10)))\n",
        "\n",
        "#plotting treemap\n",
        "squarify.plot(sizes= list(df_entity['Number_of_accidents'][:5])[::-1],\n",
        "            label=(df_entity.Entity+\"\\n\"+df_entity.Number_of_accidents.apply(lambda x: str(x)))[:5][::-1],\n",
        "            color=['#66545e','#a39193','#aa6f73','#eea990','#f6e0b5'], alpha=0.75)\n",
        "\n",
        "plt.title(\"Top 5 entity leading to accidents\",size=15)\n",
        "plt.show()"
      ],
      "metadata": {
        "colab": {
          "base_uri": "https://localhost:8080/",
          "height": 446
        },
        "id": "WcsBRkwuZQXn",
        "outputId": "90930ede-bed0-48d8-a8a5-e6b0b13eff86"
      },
      "execution_count": 283,
      "outputs": [
        {
          "output_type": "display_data",
          "data": {
            "image/png": "[encoded data removed]",
            "text/plain": [
              "<Figure size 504x504 with 1 Axes>"
            ]
          },
          "metadata": {
            "needs_background": "light"
          }
        }
      ]
    },
    {
      "cell_type": "markdown",
      "source": [
        "><img src=\"https://cdn-icons-png.flaticon.com/512/702/702797.png\" weight=50px height= 50px> *INSIGHTS*:\n",
        ">- **13.5**% of the accidents took place at a **juction**; followed by **11.2**% at **traffic signals**.\n",
        ">- **65**% of the accidents **doesn't** take place around any of these entities."
      ],
      "metadata": {
        "id": "G5P0pvbDF29i"
      }
    },
    {
      "cell_type": "markdown",
      "source": [
        "#### Weather"
      ],
      "metadata": {
        "id": "veY3-k3iZDrL"
      }
    },
    {
      "cell_type": "code",
      "source": [
        "df_weather= df['Weather_Condition'].value_counts().reset_index().rename(columns={'index':'Weather_Condition',\n",
        "                                                                     'Weather_Condition':'Number_of_accidents'})"
      ],
      "metadata": {
        "id": "BXA8c3xRg6Ei"
      },
      "execution_count": 51,
      "outputs": []
    },
    {
      "cell_type": "code",
      "source": [
        "fig,ax = plt.subplots(figsize = (10,5))\n",
        "\n",
        "#plotting barchart\n",
        "chart= sns.barplot(y=df_weather['Weather_Condition'][:10], \n",
        "            x=df_weather['Number_of_accidents'][:10],\n",
        "            palette=\"vlag\")\n",
        "\n",
        "total_accidents=len(df)\n",
        "\n",
        "#annotating barchart\n",
        "i=0\n",
        "for c in chart.patches:\n",
        "    width, height = c.get_width(), c.get_height()\n",
        "    x, y = c.get_xy()\n",
        "    plt.text(x+width,\n",
        "             y+height-0.25,\n",
        "             str(round(df_weather['Number_of_accidents'][i]/total_accidents*100,2))+\"%\",\n",
        "             size=10)\n",
        "    i+=1\n",
        "\n",
        "plt.title(\"Top10 weather condition with most no. of accidents\", size=15)\n",
        "plt.show()"
      ],
      "metadata": {
        "colab": {
          "base_uri": "https://localhost:8080/",
          "height": 353
        },
        "id": "uUvWHjY_hb1y",
        "outputId": "8cb1407d-8659-46d0-fcac-24742d86cb49"
      },
      "execution_count": 280,
      "outputs": [
        {
          "output_type": "display_data",
          "data": {
            "image/png": "[encoded data removed]",
            "text/plain": [
              "<Figure size 720x360 with 1 Axes>"
            ]
          },
          "metadata": {
            "needs_background": "light"
          }
        }
      ]
    },
    {
      "cell_type": "markdown",
      "source": [
        "### Impact on traffic"
      ],
      "metadata": {
        "id": "rV4IO-iAlSnm"
      }
    },
    {
      "cell_type": "markdown",
      "source": [
        "#### Severity"
      ],
      "metadata": {
        "id": "BzFBzBJ1DbQs"
      }
    },
    {
      "cell_type": "code",
      "source": [
        "df_severity= pd.DataFrame(df['Severity'].value_counts())\n",
        "\n",
        "df_severity= df_severity.reset_index().rename(columns={'index':'Severity', 'Severity': 'Number_of_accidents'})\n"
      ],
      "metadata": {
        "id": "6iFsO_SAlbJQ"
      },
      "execution_count": 54,
      "outputs": []
    },
    {
      "cell_type": "code",
      "source": [
        "df_severity"
      ],
      "metadata": {
        "colab": {
          "base_uri": "https://localhost:8080/",
          "height": 175
        },
        "id": "aINg_h8Mmwob",
        "outputId": "e956464c-ab54-4599-ab0c-ecd4db99a794"
      },
      "execution_count": 55,
      "outputs": [
        {
          "output_type": "execute_result",
          "data": {
            "text/html": [
              "\n",
              "  <div id=\"df-a8b9de4b-11a3-428d-bf38-70dd213ad5db\">\n",
              "    <div class=\"colab-df-container\">\n",
              "      <div>\n",
              "<style scoped>\n",
              "    .dataframe tbody tr th:only-of-type {\n",
              "        vertical-align: middle;\n",
              "    }\n",
              "\n",
              "    .dataframe tbody tr th {\n",
              "        vertical-align: top;\n",
              "    }\n",
              "\n",
              "    .dataframe thead th {\n",
              "        text-align: right;\n",
              "    }\n",
              "</style>\n",
              "<table border=\"1\" class=\"dataframe\">\n",
              "  <thead>\n",
              "    <tr style=\"text-align: right;\">\n",
              "      <th></th>\n",
              "      <th>Severity</th>\n",
              "      <th>Number_of_accidents</th>\n",
              "    </tr>\n",
              "  </thead>\n",
              "  <tbody>\n",
              "    <tr>\n",
              "      <th>0</th>\n",
              "      <td>2</td>\n",
              "      <td>1212382</td>\n",
              "    </tr>\n",
              "    <tr>\n",
              "      <th>1</th>\n",
              "      <td>3</td>\n",
              "      <td>161052</td>\n",
              "    </tr>\n",
              "    <tr>\n",
              "      <th>2</th>\n",
              "      <td>4</td>\n",
              "      <td>114452</td>\n",
              "    </tr>\n",
              "    <tr>\n",
              "      <th>3</th>\n",
              "      <td>1</td>\n",
              "      <td>28178</td>\n",
              "    </tr>\n",
              "  </tbody>\n",
              "</table>\n",
              "</div>\n",
              "      <button class=\"colab-df-convert\" onclick=\"convertToInteractive('df-a8b9de4b-11a3-428d-bf38-70dd213ad5db')\"\n",
              "              title=\"Convert this dataframe to an interactive table.\"\n",
              "              style=\"display:none;\">\n",
              "        \n",
              "  <svg xmlns=\"http://www.w3.org/2000/svg\" height=\"24px\"viewBox=\"0 0 24 24\"\n",
              "       width=\"24px\">\n",
              "    <path d=\"M0 0h24v24H0V0z\" fill=\"none\"/>\n",
              "    <path d=\"M18.56 5.44l.94 2.06.94-2.06 2.06-.94-2.06-.94-.94-2.06-.94 2.06-2.06.94zm-11 1L8.5 8.5l.94-2.06 2.06-.94-2.06-.94L8.5 2.5l-.94 2.06-2.06.94zm10 10l.94 2.06.94-2.06 2.06-.94-2.06-.94-.94-2.06-.94 2.06-2.06.94z\"/><path d=\"M17.41 7.96l-1.37-1.37c-.4-.4-.92-.59-1.43-.59-.52 0-1.04.2-1.43.59L10.3 9.45l-7.72 7.72c-.78.78-.78 2.05 0 2.83L4 21.41c.39.39.9.59 1.41.59.51 0 1.02-.2 1.41-.59l7.78-7.78 2.81-2.81c.8-.78.8-2.07 0-2.86zM5.41 20L4 18.59l7.72-7.72 1.47 1.35L5.41 20z\"/>\n",
              "  </svg>\n",
              "      </button>\n",
              "      \n",
              "  <style>\n",
              "    .colab-df-container {\n",
              "      display:flex;\n",
              "      flex-wrap:wrap;\n",
              "      gap: 12px;\n",
              "    }\n",
              "\n",
              "    .colab-df-convert {\n",
              "      background-color: #E8F0FE;\n",
              "      border: none;\n",
              "      border-radius: 50%;\n",
              "      cursor: pointer;\n",
              "      display: none;\n",
              "      fill: #1967D2;\n",
              "      height: 32px;\n",
              "      padding: 0 0 0 0;\n",
              "      width: 32px;\n",
              "    }\n",
              "\n",
              "    .colab-df-convert:hover {\n",
              "      background-color: #E2EBFA;\n",
              "      box-shadow: 0px 1px 2px rgba(60, 64, 67, 0.3), 0px 1px 3px 1px rgba(60, 64, 67, 0.15);\n",
              "      fill: #174EA6;\n",
              "    }\n",
              "\n",
              "    [theme=dark] .colab-df-convert {\n",
              "      background-color: #3B4455;\n",
              "      fill: #D2E3FC;\n",
              "    }\n",
              "\n",
              "    [theme=dark] .colab-df-convert:hover {\n",
              "      background-color: #434B5C;\n",
              "      box-shadow: 0px 1px 3px 1px rgba(0, 0, 0, 0.15);\n",
              "      filter: drop-shadow(0px 1px 2px rgba(0, 0, 0, 0.3));\n",
              "      fill: #FFFFFF;\n",
              "    }\n",
              "  </style>\n",
              "\n",
              "      <script>\n",
              "        const buttonEl =\n",
              "          document.querySelector('#df-a8b9de4b-11a3-428d-bf38-70dd213ad5db button.colab-df-convert');\n",
              "        buttonEl.style.display =\n",
              "          google.colab.kernel.accessAllowed ? 'block' : 'none';\n",
              "\n",
              "        async function convertToInteractive(key) {\n",
              "          const element = document.querySelector('#df-a8b9de4b-11a3-428d-bf38-70dd213ad5db');\n",
              "          const dataTable =\n",
              "            await google.colab.kernel.invokeFunction('convertToInteractive',\n",
              "                                                     [key], {});\n",
              "          if (!dataTable) return;\n",
              "\n",
              "          const docLinkHtml = 'Like what you see? Visit the ' +\n",
              "            '<a target=\"_blank\" href=https://colab.research.google.com/notebooks/data_table.ipynb>data table notebook</a>'\n",
              "            + ' to learn more about interactive tables.';\n",
              "          element.innerHTML = '';\n",
              "          dataTable['output_type'] = 'display_data';\n",
              "          await google.colab.output.renderOutput(dataTable, element);\n",
              "          const docLink = document.createElement('div');\n",
              "          docLink.innerHTML = docLinkHtml;\n",
              "          element.appendChild(docLink);\n",
              "        }\n",
              "      </script>\n",
              "    </div>\n",
              "  </div>\n",
              "  "
            ],
            "text/plain": [
              "   Severity  Number_of_accidents\n",
              "0         2              1212382\n",
              "1         3               161052\n",
              "2         4               114452\n",
              "3         1                28178"
            ]
          },
          "metadata": {},
          "execution_count": 55
        }
      ]
    },
    {
      "cell_type": "code",
      "source": [
        "fig,ax = plt.subplots(figsize = (10,5))\n",
        "\n",
        "perc= [round(x/sum(df_severity['Number_of_accidents'])*100) for x in df_severity['Number_of_accidents']] \n",
        "\n",
        "\n",
        "squarify.plot(sizes=perc,\n",
        "              label=[f'Moderate {perc[0]}%',f'Mild\\n{perc[1]}%',f'Severe\\n{perc[2]}%',f'Very Severe\\n{perc[3]}%'],\n",
        "              color=['#ffff00', '#d5ff00', '#ffc000', '#ff8000'],\n",
        "              alpha=0.5)\n",
        "plt.axis('off')\n",
        "plt.show()"
      ],
      "metadata": {
        "colab": {
          "base_uri": "https://localhost:8080/",
          "height": 303
        },
        "id": "0LnBhCzmmNEE",
        "outputId": "899ee22f-180d-4d91-dd40-35ee0dd73c79"
      },
      "execution_count": 56,
      "outputs": [
        {
          "output_type": "display_data",
          "data": {
            "image/png": "[encoded data removed]",
            "text/plain": [
              "<Figure size 720x360 with 1 Axes>"
            ]
          },
          "metadata": {
            "needs_background": "light"
          }
        }
      ]
    },
    {
      "cell_type": "markdown",
      "source": [
        "#### Duration"
      ],
      "metadata": {
        "id": "JAfo3H-ODggJ"
      }
    },
    {
      "cell_type": "code",
      "source": [
        "df_duration= pd.DataFrame()\n",
        "df_duration['Time_Diff']= (df['End_Time']-df['Start_Time']).dt.seconds//(60*60)\n",
        "df_duration= pd.DataFrame(df_duration.value_counts())\n",
        "df_duration= df_duration.reset_index().rename(columns={'Time_Diff':'Hours',0:'Number_of_accidents'})\n",
        "df_duration['Hours']= df_duration['Hours'].apply(lambda x: str(x))"
      ],
      "metadata": {
        "id": "g9u6jG4GDeyM"
      },
      "execution_count": 57,
      "outputs": []
    },
    {
      "cell_type": "code",
      "source": [
        "fig,ax = plt.subplots(figsize = (10,5))\n",
        "chart= sns.barplot(y='Hours',\n",
        "            x='Number_of_accidents',\n",
        "            data=df_duration[:5],\n",
        "            color='grey')\n",
        "\n",
        "total_accidents=len(df)\n",
        "i=0\n",
        "for c in chart.patches:\n",
        "    width = c.get_width()\n",
        "    height = c.get_height()\n",
        "    x, y = c.get_xy()\n",
        "    plt.text(x+width/2,\n",
        "             y+height-0.25,\n",
        "             str(round(df_duration['Number_of_accidents'][i]/total_accidents*100,2))+\"%\",\n",
        "             size=12, c='white')\n",
        "    i+=1"
      ],
      "metadata": {
        "colab": {
          "base_uri": "https://localhost:8080/",
          "height": 335
        },
        "id": "v4PbNkvFWGOt",
        "outputId": "2e640820-5ceb-4907-92b0-8ee43db79830"
      },
      "execution_count": 58,
      "outputs": [
        {
          "output_type": "display_data",
          "data": {
            "image/png": "[encoded data removed]",
            "text/plain": [
              "<Figure size 720x360 with 1 Axes>"
            ]
          },
          "metadata": {
            "needs_background": "light"
          }
        }
      ]
    },
    {
      "cell_type": "markdown",
      "source": [
        "## Insights"
      ],
      "metadata": {
        "id": "IACmXlj8Btjr"
      }
    },
    {
      "cell_type": "code",
      "source": [
        ""
      ],
      "metadata": {
        "id": "HbV2rJWsadT5"
      },
      "execution_count": 58,
      "outputs": []
    }
  ]
}